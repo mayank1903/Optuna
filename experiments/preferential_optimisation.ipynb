{
 "cells": [
  {
   "cell_type": "code",
   "execution_count": 1,
   "metadata": {},
   "outputs": [
    {
     "name": "stderr",
     "output_type": "stream",
     "text": [
      "/home/mayank_khulbe_farmart_co/.local/lib/python3.9/site-packages/tqdm/auto.py:21: TqdmWarning: IProgress not found. Please update jupyter and ipywidgets. See https://ipywidgets.readthedocs.io/en/stable/user_install.html\n",
      "  from .autonotebook import tqdm as notebook_tqdm\n",
      "/home/mayank_khulbe_farmart_co/.local/lib/python3.9/site-packages/torch/cuda/__init__.py:141: UserWarning: CUDA initialization: The NVIDIA driver on your system is too old (found version 11060). Please update your GPU driver by downloading and installing a new version from the URL: http://www.nvidia.com/Download/index.aspx Alternatively, go to: https://pytorch.org to install a PyTorch version that has been compiled with your version of the CUDA driver. (Triggered internally at ../c10/cuda/CUDAFunctions.cpp:108.)\n",
      "  return torch._C._cuda_getDeviceCount() > 0\n"
     ]
    }
   ],
   "source": [
    "#general libraries\n",
    "import torch\n",
    "from torch import nn\n",
    "from torchvision import datasets, transforms\n",
    "import math\n",
    "import time\n",
    "import logging\n",
    "import matplotlib.pyplot as plt\n",
    "import itertools\n",
    "import numpy as np\n",
    "from tqdm import tqdm\n",
    "import torchvision.utils as vutils\n",
    "import os\n",
    "import textwrap\n",
    "import torch.optim as optim\n",
    "\n",
    "#optuna\n",
    "import optuna\n",
    "from optuna.artifacts import FileSystemArtifactStore, upload_artifact\n",
    "\n",
    "#optuna dashboard\n",
    "import optuna_dashboard\n",
    "from optuna_dashboard.artifact import get_artifact_path\n",
    "from optuna_dashboard.preferential import create_study\n",
    "from optuna_dashboard import register_preference_feedback_component\n",
    "from optuna_dashboard.preferential.samplers.gp import PreferentialGPSampler\n",
    "\n",
    "torch.manual_seed(111)\n",
    "\n",
    "device = \"cuda\" if torch.cuda.is_available() else \"cpu\""
   ]
  },
  {
   "cell_type": "code",
   "execution_count": 2,
   "metadata": {},
   "outputs": [],
   "source": [
    "def get_mnist_loaders(train_batch_size, test_batch_size):\n",
    "    \"\"\"Get MNIST data loaders\"\"\"\n",
    "    train_loader = torch.utils.data.DataLoader(\n",
    "        datasets.MNIST('../data', train=True, download=True,\n",
    "                       transform=transforms.Compose([\n",
    "                           transforms.ToTensor(),\n",
    "                           transforms.Normalize((0.5,), (0.5,))\n",
    "                       ])),\n",
    "        batch_size=train_batch_size, shuffle=True)\n",
    "\n",
    "    test_loader = torch.utils.data.DataLoader(\n",
    "        datasets.MNIST('../data', train=False, transform=transforms.Compose([\n",
    "                           transforms.ToTensor(),\n",
    "                           transforms.Normalize((0.5,), (0.5,))\n",
    "                       ])),\n",
    "        batch_size=test_batch_size, shuffle=True)\n",
    "\n",
    "    return train_loader, test_loader"
   ]
  },
  {
   "cell_type": "code",
   "execution_count": 3,
   "metadata": {
    "executionInfo": {
     "elapsed": 2,
     "status": "ok",
     "timestamp": 1710700011201,
     "user": {
      "displayName": "mayank khulbe",
      "userId": "08775446541722101300"
     },
     "user_tz": -330
    },
    "id": "HXhGsI5oqjZn"
   },
   "outputs": [],
   "source": [
    "class Discriminator(nn.Module):\n",
    "    def __init__(self):\n",
    "        super().__init__()\n",
    "        self.model = nn.Sequential(\n",
    "            nn.Linear(784, 1024),\n",
    "            nn.LeakyReLU(),\n",
    "            nn.Dropout(0.2),\n",
    "            nn.Linear(1024, 512),\n",
    "            nn.LeakyReLU(),\n",
    "            nn.Dropout(0.2),\n",
    "            nn.Linear(512, 256),\n",
    "            nn.LeakyReLU(),\n",
    "            nn.Dropout(0.2),\n",
    "            nn.Linear(256, 1),\n",
    "            nn.Sigmoid(),\n",
    "        )\n",
    "\n",
    "    def forward(self, x):\n",
    "        x = x.view(x.size(0), 784)\n",
    "        output = self.model(x)\n",
    "        return output"
   ]
  },
  {
   "cell_type": "code",
   "execution_count": 4,
   "metadata": {
    "executionInfo": {
     "elapsed": 4,
     "status": "ok",
     "timestamp": 1710700017246,
     "user": {
      "displayName": "mayank khulbe",
      "userId": "08775446541722101300"
     },
     "user_tz": -330
    },
    "id": "UBjrZAGKqpj1"
   },
   "outputs": [],
   "source": [
    "class Generator(nn.Module):\n",
    "    def __init__(self):\n",
    "        super().__init__()\n",
    "        self.model = nn.Sequential(\n",
    "            nn.Linear(128, 256),\n",
    "            nn.LeakyReLU(),\n",
    "            nn.Linear(256, 512),\n",
    "            nn.LeakyReLU(),\n",
    "            nn.Linear(512, 1024),\n",
    "            nn.LeakyReLU(),\n",
    "            nn.Linear(1024, 784),\n",
    "            nn.Tanh(),\n",
    "        )\n",
    "\n",
    "    def forward(self, x):\n",
    "        output = self.model(x)\n",
    "        output = output.view(x.size(0), 1, 28, 28)\n",
    "        return output"
   ]
  },
  {
   "cell_type": "code",
   "execution_count": 5,
   "metadata": {
    "executionInfo": {
     "elapsed": 4,
     "status": "ok",
     "timestamp": 1710700078420,
     "user": {
      "displayName": "mayank khulbe",
      "userId": "08775446541722101300"
     },
     "user_tz": -330
    },
    "id": "ed9kFcYYqrBq"
   },
   "outputs": [],
   "source": [
    "def train_discriminator(discriminator, images, real_labels, fake_images, fake_labels, criterion, d_optimizer):\n",
    "    discriminator.zero_grad()\n",
    "    outputs = discriminator(images)\n",
    "    real_loss = criterion(outputs, real_labels.unsqueeze(1))\n",
    "    real_score = outputs\n",
    "\n",
    "    outputs = discriminator(fake_images)\n",
    "    fake_loss = criterion(outputs, fake_labels.unsqueeze(1))\n",
    "    fake_score = outputs\n",
    "\n",
    "    d_loss = real_loss + fake_loss\n",
    "    d_loss.backward()\n",
    "\n",
    "    d_optimizer.step()\n",
    "    return d_loss, real_score, fake_score"
   ]
  },
  {
   "cell_type": "code",
   "execution_count": 6,
   "metadata": {
    "executionInfo": {
     "elapsed": 1,
     "status": "ok",
     "timestamp": 1710700080026,
     "user": {
      "displayName": "mayank khulbe",
      "userId": "08775446541722101300"
     },
     "user_tz": -330
    },
    "id": "q2ARWDyUqs1w"
   },
   "outputs": [],
   "source": [
    "def train_generator(generator, discriminator_outputs, real_labels, criterion, g_optimizer):\n",
    "    generator.zero_grad()\n",
    "    g_loss = criterion(discriminator_outputs, real_labels.unsqueeze(1))\n",
    "    g_loss.backward()\n",
    "\n",
    "    g_optimizer.step()\n",
    "    return g_loss"
   ]
  },
  {
   "cell_type": "code",
   "execution_count": 7,
   "metadata": {
    "executionInfo": {
     "elapsed": 2,
     "status": "ok",
     "timestamp": 1710701327946,
     "user": {
      "displayName": "mayank khulbe",
      "userId": "08775446541722101300"
     },
     "user_tz": -330
    },
    "id": "yHfHu8bWsbzA"
   },
   "outputs": [],
   "source": [
    "# Plot grid of 9 images from generator after each epoch\n",
    "def generate_new_images(generator, sample_images, latent_dim, img_dir):\n",
    "    fixed_noise = torch.randn(sample_images, latent_dim).to(device)  # Sample 15 images\n",
    "    fake_images = generator(fixed_noise).to(device)\n",
    "\n",
    "    plt.figure(figsize=(5, 5))\n",
    "    plt.axis(\"off\")\n",
    "    plt.title(\"Generated Images\")\n",
    "    plt.imshow(\n",
    "        np.transpose(\n",
    "            vutils.make_grid(fake_images, nrow=5, padding=1, normalize=True).cpu().numpy(),\n",
    "            (1, 2, 0)\n",
    "        )\n",
    "    )\n",
    "    plt.savefig(img_dir)\n",
    "    plt.show()\n",
    "    plt.close()"
   ]
  },
  {
   "cell_type": "code",
   "execution_count": 8,
   "metadata": {
    "executionInfo": {
     "elapsed": 603,
     "status": "ok",
     "timestamp": 1710701850966,
     "user": {
      "displayName": "mayank khulbe",
      "userId": "08775446541722101300"
     },
     "user_tz": -330
    },
    "id": "I25rgt_pquL1"
   },
   "outputs": [],
   "source": [
    "def train_GANs(study: optuna.Study,\n",
    "               artifact_store: FileSystemArtifactStore):\n",
    "\n",
    "    trial = study.ask() #start a trial\n",
    "\n",
    "    print(f\"running trial number: {trial.number}\")\n",
    "\n",
    "    latent_dim = 128\n",
    "\n",
    "    #define the generator and the discriminator\n",
    "    discriminator = Discriminator().to(device=device)\n",
    "    generator = Generator().to(device=device)\n",
    "\n",
    "    cfg = {\n",
    "        \"train_batch_size\": trial.suggest_categorical(\"train_batch_size\", [64, 128]),\n",
    "        \"device\": \"cuda\" if torch.cuda.is_available() else \"cpu\",\n",
    "        \"num_epochs\": 100,\n",
    "        \"lr\": trial.suggest_float(\"lr\", 1e-5, 1e-3, log=True),\n",
    "        \"optimizer\": trial.suggest_categorical(\"optimizer\", [\"Adam\", \"AdamW\"])\n",
    "    }\n",
    "\n",
    "    #define the loader\n",
    "    batch_size = cfg[\"train_batch_size\"]\n",
    "    train_loader, _ = get_mnist_loaders(batch_size, batch_size)\n",
    "\n",
    "\n",
    "    #define the optimizers\n",
    "    lr = cfg['lr']\n",
    "    optimizer_name = cfg['optimizer']\n",
    "    d_optimizer = getattr(optim, optimizer_name)(discriminator.parameters(), lr=lr)  # Instantiate optimizer from name\n",
    "    g_optimizer = getattr(optim, optimizer_name)(generator.parameters(), lr=lr)  # Instantiate optimizer from name\n",
    "\n",
    "    #define the criterion\n",
    "    criterion = nn.BCELoss()\n",
    "\n",
    "    print(f\"Batch Size: {batch_size}\\nLearning Rate: {lr}\\nOptimizer: {optimizer_name}\")\n",
    "\n",
    "    for epoch in range(cfg['num_epochs']):\n",
    "\n",
    "        print(f\"running epoch number: {epoch}\")\n",
    "\n",
    "        for n, (images, _) in tqdm(enumerate(train_loader)):\n",
    "            images = images.to(device)\n",
    "            real_labels = torch.ones(images.size(0)).to(device)\n",
    "\n",
    "            noise = torch.randn(images.size(0), latent_dim).to(device)\n",
    "            fake_images = generator(noise)\n",
    "            fake_labels = torch.zeros(images.size(0)).to(device)\n",
    "\n",
    "            # Train the discriminator\n",
    "            d_loss, real_score, fake_score = train_discriminator(discriminator, images,\n",
    "                                                                 real_labels, fake_images, fake_labels,\n",
    "                                                                  criterion, d_optimizer)\n",
    "\n",
    "            noise = torch.randn(images.size(0), latent_dim).to(device)\n",
    "            fake_images = generator(noise)\n",
    "            outputs = discriminator(fake_images)\n",
    "\n",
    "            # Train the generator\n",
    "            g_loss = train_generator(generator, outputs, real_labels, criterion, g_optimizer)\n",
    "\n",
    "            if (n+1) % len(train_loader) == 0:\n",
    "\n",
    "                print('Epoch [%d/%d], Step[%d/%d], d_loss: %.4f, g_loss: %.4f, '\n",
    "                    'D(x): %.2f, D(G(z)): %.2f'\n",
    "                    % (epoch + 1, cfg['num_epochs'], n + 1, len(train_loader), d_loss.item(), g_loss.item(),\n",
    "                        real_score.mean().item(), fake_score.mean().item()))\n",
    "\n",
    "    img_path = f\"tmp/generated_image-{trial.number}.png\"\n",
    "    generate_new_images(generator, 30, latent_dim, img_path)\n",
    "\n",
    "    user_attr_key = \"generated-image\"\n",
    "    artifact_id = upload_artifact(trial, img_path, artifact_store)\n",
    "    register_preference_feedback_component(study, \"artifact\", user_attr_key)\n",
    "    trial.set_user_attr(user_attr_key, artifact_id)"
   ]
  },
  {
   "cell_type": "code",
   "execution_count": 9,
   "metadata": {
    "executionInfo": {
     "elapsed": 635,
     "status": "ok",
     "timestamp": 1710701904370,
     "user": {
      "displayName": "mayank khulbe",
      "userId": "08775446541722101300"
     },
     "user_tz": -330
    },
    "id": "nqi0naIIxA5p"
   },
   "outputs": [],
   "source": [
    "def start_optimization(artifact_store: FileSystemArtifactStore):\n",
    "    # 1. Create Study\n",
    "    storage = \"sqlite:///pref_opt.db\"\n",
    "    study = create_study(\n",
    "        n_generate=4, #generate 4 images before running another trial for feedback\n",
    "        study_name=\"Preferential Optimization\", #name of the study\n",
    "        storage=storage, #defining the storage\n",
    "        sampler=PreferentialGPSampler(), #sampler\n",
    "        load_if_exists=True,\n",
    "    )\n",
    "\n",
    "    while True:\n",
    "    # If study.should_generate() returns False, the generator waits for human evaluation.\n",
    "        if not study.should_generate():\n",
    "            time.sleep(0.1)  # Avoid busy-loop\n",
    "            continue\n",
    "\n",
    "        train_GANs(study, artifact_store)\n",
    "\n",
    "        "
   ]
  },
  {
   "cell_type": "code",
   "execution_count": 10,
   "metadata": {
    "id": "hfgHFBIHx-tI"
   },
   "outputs": [],
   "source": [
    "def main():\n",
    "    # tmp_path = os.path.join(os.path.dirname(__file__), \"tmp\")\n",
    "    # Get the absolute path to the current notebook file\n",
    "    notebook_dir = os.getcwd()\n",
    "\n",
    "    # Create the absolute path to the \"tmp\" folder\n",
    "    tmp_path = os.path.join(notebook_dir, \"tmp\")\n",
    "\n",
    "    # 1. Create Artifact Store\n",
    "    # artifact_path = os.path.join(os.path.dirname(__file__), \"artifact\")\n",
    "    artifact_path = os.path.join(notebook_dir, \"artifact\")\n",
    "    artifact_store = FileSystemArtifactStore(artifact_path)\n",
    "\n",
    "    print(f\"paths : {tmp_path}, {artifact_path}\")\n",
    "\n",
    "    if not os.path.exists(artifact_path):\n",
    "        os.mkdir(artifact_path)\n",
    "\n",
    "    if not os.path.exists(tmp_path):\n",
    "        os.mkdir(tmp_path)\n",
    "\n",
    "    # 2. Run optimize loop\n",
    "    start_optimization(artifact_store)"
   ]
  },
  {
   "cell_type": "code",
   "execution_count": 11,
   "metadata": {},
   "outputs": [
    {
     "name": "stderr",
     "output_type": "stream",
     "text": [
      "/var/tmp/ipykernel_715862/3673421781.py:12: ExperimentalWarning: FileSystemArtifactStore is experimental (supported from v3.3.0). The interface can change in the future.\n",
      "  artifact_store = FileSystemArtifactStore(artifact_path)\n"
     ]
    },
    {
     "name": "stdout",
     "output_type": "stream",
     "text": [
      "paths : /home/mayank_khulbe_farmart_co/fmt/Optuna/experiments/tmp, /home/mayank_khulbe_farmart_co/fmt/Optuna/experiments/artifact\n"
     ]
    },
    {
     "name": "stderr",
     "output_type": "stream",
     "text": [
      "[I 2024-04-15 13:27:43,823] A new study created in RDB with name: Preferential Optimization\n",
      "/home/mayank_khulbe_farmart_co/.local/lib/python3.9/site-packages/optuna_dashboard/preferential/_study.py:297: FutureWarning: system_attrs has been deprecated in v3.1.0. This feature will be removed in v5.0.0. See https://github.com/optuna/optuna/releases/tag/v3.1.0.\n",
      "  return len(active_trials) < get_n_generate(self._study.system_attrs)\n",
      "/home/mayank_khulbe_farmart_co/.local/lib/python3.9/site-packages/optuna_dashboard/preferential/samplers/gp.py:471: UserWarning: Dynamic search space detected. Falling back to RandomSampler.\n",
      "  warnings.warn(\n"
     ]
    },
    {
     "name": "stdout",
     "output_type": "stream",
     "text": [
      "running trial number: 0\n",
      "Batch Size: 128\n",
      "Learning Rate: 0.0008698979708019593\n",
      "Optimizer: AdamW\n",
      "running epoch number: 0\n"
     ]
    },
    {
     "name": "stderr",
     "output_type": "stream",
     "text": [
      "469it [00:30, 15.35it/s]\n"
     ]
    },
    {
     "name": "stdout",
     "output_type": "stream",
     "text": [
      "Epoch [1/100], Step[469/469], d_loss: 0.0000, g_loss: 27.9315, D(x): 1.00, D(G(z)): 0.00\n",
      "running epoch number: 1\n"
     ]
    },
    {
     "name": "stderr",
     "output_type": "stream",
     "text": [
      "469it [00:27, 16.85it/s]\n"
     ]
    },
    {
     "name": "stdout",
     "output_type": "stream",
     "text": [
      "Epoch [2/100], Step[469/469], d_loss: 0.0000, g_loss: 22.0045, D(x): 1.00, D(G(z)): 0.00\n",
      "running epoch number: 2\n"
     ]
    },
    {
     "name": "stderr",
     "output_type": "stream",
     "text": [
      "469it [00:28, 16.61it/s]\n"
     ]
    },
    {
     "name": "stdout",
     "output_type": "stream",
     "text": [
      "Epoch [3/100], Step[469/469], d_loss: 0.0000, g_loss: 28.9906, D(x): 1.00, D(G(z)): 0.00\n",
      "running epoch number: 3\n"
     ]
    },
    {
     "name": "stderr",
     "output_type": "stream",
     "text": [
      "469it [00:27, 16.76it/s]\n"
     ]
    },
    {
     "name": "stdout",
     "output_type": "stream",
     "text": [
      "Epoch [4/100], Step[469/469], d_loss: 0.0000, g_loss: 25.7510, D(x): 1.00, D(G(z)): 0.00\n",
      "running epoch number: 4\n"
     ]
    },
    {
     "name": "stderr",
     "output_type": "stream",
     "text": [
      "469it [00:39, 11.76it/s]\n"
     ]
    },
    {
     "name": "stdout",
     "output_type": "stream",
     "text": [
      "Epoch [5/100], Step[469/469], d_loss: 0.0000, g_loss: 50.5992, D(x): 1.00, D(G(z)): 0.00\n",
      "running epoch number: 5\n"
     ]
    },
    {
     "name": "stderr",
     "output_type": "stream",
     "text": [
      "469it [01:33,  5.02it/s]\n"
     ]
    },
    {
     "name": "stdout",
     "output_type": "stream",
     "text": [
      "Epoch [6/100], Step[469/469], d_loss: 0.0000, g_loss: 45.8184, D(x): 1.00, D(G(z)): 0.00\n",
      "running epoch number: 6\n"
     ]
    },
    {
     "name": "stderr",
     "output_type": "stream",
     "text": [
      "469it [01:18,  5.96it/s]\n"
     ]
    },
    {
     "name": "stdout",
     "output_type": "stream",
     "text": [
      "Epoch [7/100], Step[469/469], d_loss: 0.0000, g_loss: 44.9535, D(x): 1.00, D(G(z)): 0.00\n",
      "running epoch number: 7\n"
     ]
    },
    {
     "name": "stderr",
     "output_type": "stream",
     "text": [
      "469it [01:10,  6.69it/s]\n"
     ]
    },
    {
     "name": "stdout",
     "output_type": "stream",
     "text": [
      "Epoch [8/100], Step[469/469], d_loss: 0.0000, g_loss: 43.5450, D(x): 1.00, D(G(z)): 0.00\n",
      "running epoch number: 8\n"
     ]
    },
    {
     "name": "stderr",
     "output_type": "stream",
     "text": [
      "469it [01:01,  7.59it/s]\n"
     ]
    },
    {
     "name": "stdout",
     "output_type": "stream",
     "text": [
      "Epoch [9/100], Step[469/469], d_loss: 0.0000, g_loss: 43.7894, D(x): 1.00, D(G(z)): 0.00\n",
      "running epoch number: 9\n"
     ]
    },
    {
     "name": "stderr",
     "output_type": "stream",
     "text": [
      "469it [00:53,  8.80it/s]\n"
     ]
    },
    {
     "name": "stdout",
     "output_type": "stream",
     "text": [
      "Epoch [10/100], Step[469/469], d_loss: 0.0000, g_loss: 39.1698, D(x): 1.00, D(G(z)): 0.00\n",
      "running epoch number: 10\n"
     ]
    },
    {
     "name": "stderr",
     "output_type": "stream",
     "text": [
      "469it [00:40, 11.62it/s]\n"
     ]
    },
    {
     "name": "stdout",
     "output_type": "stream",
     "text": [
      "Epoch [11/100], Step[469/469], d_loss: 0.0000, g_loss: 37.9238, D(x): 1.00, D(G(z)): 0.00\n",
      "running epoch number: 11\n"
     ]
    },
    {
     "name": "stderr",
     "output_type": "stream",
     "text": [
      "469it [00:31, 14.80it/s]\n"
     ]
    },
    {
     "name": "stdout",
     "output_type": "stream",
     "text": [
      "Epoch [12/100], Step[469/469], d_loss: 0.0000, g_loss: 34.6762, D(x): 1.00, D(G(z)): 0.00\n",
      "running epoch number: 12\n"
     ]
    },
    {
     "name": "stderr",
     "output_type": "stream",
     "text": [
      "469it [00:27, 17.27it/s]\n"
     ]
    },
    {
     "name": "stdout",
     "output_type": "stream",
     "text": [
      "Epoch [13/100], Step[469/469], d_loss: 0.0000, g_loss: 31.7806, D(x): 1.00, D(G(z)): 0.00\n",
      "running epoch number: 13\n"
     ]
    },
    {
     "name": "stderr",
     "output_type": "stream",
     "text": [
      "469it [00:27, 16.81it/s]\n"
     ]
    },
    {
     "name": "stdout",
     "output_type": "stream",
     "text": [
      "Epoch [14/100], Step[469/469], d_loss: 0.0000, g_loss: 100.0000, D(x): 1.00, D(G(z)): 0.00\n",
      "running epoch number: 14\n"
     ]
    },
    {
     "name": "stderr",
     "output_type": "stream",
     "text": [
      "469it [00:26, 17.63it/s]\n"
     ]
    },
    {
     "name": "stdout",
     "output_type": "stream",
     "text": [
      "Epoch [15/100], Step[469/469], d_loss: 0.0000, g_loss: 100.0000, D(x): 1.00, D(G(z)): 0.00\n",
      "running epoch number: 15\n"
     ]
    },
    {
     "name": "stderr",
     "output_type": "stream",
     "text": [
      "469it [00:27, 17.01it/s]\n"
     ]
    },
    {
     "name": "stdout",
     "output_type": "stream",
     "text": [
      "Epoch [16/100], Step[469/469], d_loss: 0.0000, g_loss: 100.0000, D(x): 1.00, D(G(z)): 0.00\n",
      "running epoch number: 16\n"
     ]
    },
    {
     "name": "stderr",
     "output_type": "stream",
     "text": [
      "469it [00:26, 17.55it/s]\n"
     ]
    },
    {
     "name": "stdout",
     "output_type": "stream",
     "text": [
      "Epoch [17/100], Step[469/469], d_loss: 0.0000, g_loss: 100.0000, D(x): 1.00, D(G(z)): 0.00\n",
      "running epoch number: 17\n"
     ]
    },
    {
     "name": "stderr",
     "output_type": "stream",
     "text": [
      "469it [00:27, 16.77it/s]\n"
     ]
    },
    {
     "name": "stdout",
     "output_type": "stream",
     "text": [
      "Epoch [18/100], Step[469/469], d_loss: 0.0000, g_loss: 100.0000, D(x): 1.00, D(G(z)): 0.00\n",
      "running epoch number: 18\n"
     ]
    },
    {
     "name": "stderr",
     "output_type": "stream",
     "text": [
      "469it [00:27, 17.06it/s]\n"
     ]
    },
    {
     "name": "stdout",
     "output_type": "stream",
     "text": [
      "Epoch [19/100], Step[469/469], d_loss: 0.0000, g_loss: 100.0000, D(x): 1.00, D(G(z)): 0.00\n",
      "running epoch number: 19\n"
     ]
    },
    {
     "name": "stderr",
     "output_type": "stream",
     "text": [
      "469it [00:27, 16.78it/s]\n"
     ]
    },
    {
     "name": "stdout",
     "output_type": "stream",
     "text": [
      "Epoch [20/100], Step[469/469], d_loss: 0.0000, g_loss: 100.0000, D(x): 1.00, D(G(z)): 0.00\n",
      "running epoch number: 20\n"
     ]
    },
    {
     "name": "stderr",
     "output_type": "stream",
     "text": [
      "469it [00:27, 17.08it/s]\n"
     ]
    },
    {
     "name": "stdout",
     "output_type": "stream",
     "text": [
      "Epoch [21/100], Step[469/469], d_loss: 0.0000, g_loss: 100.0000, D(x): 1.00, D(G(z)): 0.00\n",
      "running epoch number: 21\n"
     ]
    },
    {
     "name": "stderr",
     "output_type": "stream",
     "text": [
      "469it [00:27, 16.93it/s]\n"
     ]
    },
    {
     "name": "stdout",
     "output_type": "stream",
     "text": [
      "Epoch [22/100], Step[469/469], d_loss: 0.0000, g_loss: 100.0000, D(x): 1.00, D(G(z)): 0.00\n",
      "running epoch number: 22\n"
     ]
    },
    {
     "name": "stderr",
     "output_type": "stream",
     "text": [
      "469it [00:27, 16.91it/s]\n"
     ]
    },
    {
     "name": "stdout",
     "output_type": "stream",
     "text": [
      "Epoch [23/100], Step[469/469], d_loss: 0.0000, g_loss: 100.0000, D(x): 1.00, D(G(z)): 0.00\n",
      "running epoch number: 23\n"
     ]
    },
    {
     "name": "stderr",
     "output_type": "stream",
     "text": [
      "469it [00:27, 16.89it/s]\n"
     ]
    },
    {
     "name": "stdout",
     "output_type": "stream",
     "text": [
      "Epoch [24/100], Step[469/469], d_loss: 0.0000, g_loss: 100.0000, D(x): 1.00, D(G(z)): 0.00\n",
      "running epoch number: 24\n"
     ]
    },
    {
     "name": "stderr",
     "output_type": "stream",
     "text": [
      "469it [00:27, 16.95it/s]\n"
     ]
    },
    {
     "name": "stdout",
     "output_type": "stream",
     "text": [
      "Epoch [25/100], Step[469/469], d_loss: 0.0000, g_loss: 100.0000, D(x): 1.00, D(G(z)): 0.00\n",
      "running epoch number: 25\n"
     ]
    },
    {
     "name": "stderr",
     "output_type": "stream",
     "text": [
      "469it [00:27, 17.14it/s]\n"
     ]
    },
    {
     "name": "stdout",
     "output_type": "stream",
     "text": [
      "Epoch [26/100], Step[469/469], d_loss: 0.0000, g_loss: 100.0000, D(x): 1.00, D(G(z)): 0.00\n",
      "running epoch number: 26\n"
     ]
    },
    {
     "name": "stderr",
     "output_type": "stream",
     "text": [
      "469it [00:28, 16.65it/s]\n"
     ]
    },
    {
     "name": "stdout",
     "output_type": "stream",
     "text": [
      "Epoch [27/100], Step[469/469], d_loss: 0.0000, g_loss: 100.0000, D(x): 1.00, D(G(z)): 0.00\n",
      "running epoch number: 27\n"
     ]
    },
    {
     "name": "stderr",
     "output_type": "stream",
     "text": [
      "469it [00:27, 16.78it/s]\n"
     ]
    },
    {
     "name": "stdout",
     "output_type": "stream",
     "text": [
      "Epoch [28/100], Step[469/469], d_loss: 0.0000, g_loss: 100.0000, D(x): 1.00, D(G(z)): 0.00\n",
      "running epoch number: 28\n"
     ]
    },
    {
     "name": "stderr",
     "output_type": "stream",
     "text": [
      "469it [00:28, 16.66it/s]\n"
     ]
    },
    {
     "name": "stdout",
     "output_type": "stream",
     "text": [
      "Epoch [29/100], Step[469/469], d_loss: 0.0000, g_loss: 100.0000, D(x): 1.00, D(G(z)): 0.00\n",
      "running epoch number: 29\n"
     ]
    },
    {
     "name": "stderr",
     "output_type": "stream",
     "text": [
      "469it [00:27, 16.95it/s]\n"
     ]
    },
    {
     "name": "stdout",
     "output_type": "stream",
     "text": [
      "Epoch [30/100], Step[469/469], d_loss: 0.0000, g_loss: 100.0000, D(x): 1.00, D(G(z)): 0.00\n",
      "running epoch number: 30\n"
     ]
    },
    {
     "name": "stderr",
     "output_type": "stream",
     "text": [
      "469it [00:28, 16.65it/s]\n"
     ]
    },
    {
     "name": "stdout",
     "output_type": "stream",
     "text": [
      "Epoch [31/100], Step[469/469], d_loss: 0.0000, g_loss: 100.0000, D(x): 1.00, D(G(z)): 0.00\n",
      "running epoch number: 31\n"
     ]
    },
    {
     "name": "stderr",
     "output_type": "stream",
     "text": [
      "469it [00:27, 17.32it/s]\n"
     ]
    },
    {
     "name": "stdout",
     "output_type": "stream",
     "text": [
      "Epoch [32/100], Step[469/469], d_loss: 0.0000, g_loss: 100.0000, D(x): 1.00, D(G(z)): 0.00\n",
      "running epoch number: 32\n"
     ]
    },
    {
     "name": "stderr",
     "output_type": "stream",
     "text": [
      "469it [00:27, 17.02it/s]\n"
     ]
    },
    {
     "name": "stdout",
     "output_type": "stream",
     "text": [
      "Epoch [33/100], Step[469/469], d_loss: 0.0000, g_loss: 100.0000, D(x): 1.00, D(G(z)): 0.00\n",
      "running epoch number: 33\n"
     ]
    },
    {
     "name": "stderr",
     "output_type": "stream",
     "text": [
      "469it [00:27, 16.84it/s]\n"
     ]
    },
    {
     "name": "stdout",
     "output_type": "stream",
     "text": [
      "Epoch [34/100], Step[469/469], d_loss: 0.0000, g_loss: 100.0000, D(x): 1.00, D(G(z)): 0.00\n",
      "running epoch number: 34\n"
     ]
    },
    {
     "name": "stderr",
     "output_type": "stream",
     "text": [
      "469it [00:28, 16.74it/s]\n"
     ]
    },
    {
     "name": "stdout",
     "output_type": "stream",
     "text": [
      "Epoch [35/100], Step[469/469], d_loss: 0.0000, g_loss: 100.0000, D(x): 1.00, D(G(z)): 0.00\n",
      "running epoch number: 35\n"
     ]
    },
    {
     "name": "stderr",
     "output_type": "stream",
     "text": [
      "469it [00:28, 16.51it/s]\n"
     ]
    },
    {
     "name": "stdout",
     "output_type": "stream",
     "text": [
      "Epoch [36/100], Step[469/469], d_loss: 0.0000, g_loss: 100.0000, D(x): 1.00, D(G(z)): 0.00\n",
      "running epoch number: 36\n"
     ]
    },
    {
     "name": "stderr",
     "output_type": "stream",
     "text": [
      "469it [00:27, 17.11it/s]\n"
     ]
    },
    {
     "name": "stdout",
     "output_type": "stream",
     "text": [
      "Epoch [37/100], Step[469/469], d_loss: 0.0000, g_loss: 100.0000, D(x): 1.00, D(G(z)): 0.00\n",
      "running epoch number: 37\n"
     ]
    },
    {
     "name": "stderr",
     "output_type": "stream",
     "text": [
      "469it [00:28, 16.45it/s]\n"
     ]
    },
    {
     "name": "stdout",
     "output_type": "stream",
     "text": [
      "Epoch [38/100], Step[469/469], d_loss: 0.0000, g_loss: 100.0000, D(x): 1.00, D(G(z)): 0.00\n",
      "running epoch number: 38\n"
     ]
    },
    {
     "name": "stderr",
     "output_type": "stream",
     "text": [
      "469it [00:28, 16.70it/s]\n"
     ]
    },
    {
     "name": "stdout",
     "output_type": "stream",
     "text": [
      "Epoch [39/100], Step[469/469], d_loss: 0.0000, g_loss: 100.0000, D(x): 1.00, D(G(z)): 0.00\n",
      "running epoch number: 39\n"
     ]
    },
    {
     "name": "stderr",
     "output_type": "stream",
     "text": [
      "469it [00:28, 16.40it/s]\n"
     ]
    },
    {
     "name": "stdout",
     "output_type": "stream",
     "text": [
      "Epoch [40/100], Step[469/469], d_loss: 0.0000, g_loss: 100.0000, D(x): 1.00, D(G(z)): 0.00\n",
      "running epoch number: 40\n"
     ]
    },
    {
     "name": "stderr",
     "output_type": "stream",
     "text": [
      "469it [00:28, 16.57it/s]\n"
     ]
    },
    {
     "name": "stdout",
     "output_type": "stream",
     "text": [
      "Epoch [41/100], Step[469/469], d_loss: 0.0000, g_loss: 100.0000, D(x): 1.00, D(G(z)): 0.00\n",
      "running epoch number: 41\n"
     ]
    },
    {
     "name": "stderr",
     "output_type": "stream",
     "text": [
      "469it [00:28, 16.32it/s]\n"
     ]
    },
    {
     "name": "stdout",
     "output_type": "stream",
     "text": [
      "Epoch [42/100], Step[469/469], d_loss: 0.0000, g_loss: 100.0000, D(x): 1.00, D(G(z)): 0.00\n",
      "running epoch number: 42\n"
     ]
    },
    {
     "name": "stderr",
     "output_type": "stream",
     "text": [
      "469it [00:27, 16.80it/s]\n"
     ]
    },
    {
     "name": "stdout",
     "output_type": "stream",
     "text": [
      "Epoch [43/100], Step[469/469], d_loss: 0.0000, g_loss: 100.0000, D(x): 1.00, D(G(z)): 0.00\n",
      "running epoch number: 43\n"
     ]
    },
    {
     "name": "stderr",
     "output_type": "stream",
     "text": [
      "469it [00:28, 16.33it/s]\n"
     ]
    },
    {
     "name": "stdout",
     "output_type": "stream",
     "text": [
      "Epoch [44/100], Step[469/469], d_loss: 0.0000, g_loss: 100.0000, D(x): 1.00, D(G(z)): 0.00\n",
      "running epoch number: 44\n"
     ]
    },
    {
     "name": "stderr",
     "output_type": "stream",
     "text": [
      "469it [00:28, 16.52it/s]\n"
     ]
    },
    {
     "name": "stdout",
     "output_type": "stream",
     "text": [
      "Epoch [45/100], Step[469/469], d_loss: 0.0000, g_loss: 100.0000, D(x): 1.00, D(G(z)): 0.00\n",
      "running epoch number: 45\n"
     ]
    },
    {
     "name": "stderr",
     "output_type": "stream",
     "text": [
      "469it [00:28, 16.41it/s]\n"
     ]
    },
    {
     "name": "stdout",
     "output_type": "stream",
     "text": [
      "Epoch [46/100], Step[469/469], d_loss: 0.0000, g_loss: 99.8617, D(x): 1.00, D(G(z)): 0.00\n",
      "running epoch number: 46\n"
     ]
    },
    {
     "name": "stderr",
     "output_type": "stream",
     "text": [
      "469it [00:28, 16.51it/s]\n"
     ]
    },
    {
     "name": "stdout",
     "output_type": "stream",
     "text": [
      "Epoch [47/100], Step[469/469], d_loss: 0.0000, g_loss: 100.0000, D(x): 1.00, D(G(z)): 0.00\n",
      "running epoch number: 47\n"
     ]
    },
    {
     "name": "stderr",
     "output_type": "stream",
     "text": [
      "469it [00:29, 15.96it/s]\n"
     ]
    },
    {
     "name": "stdout",
     "output_type": "stream",
     "text": [
      "Epoch [48/100], Step[469/469], d_loss: 0.0000, g_loss: 99.7257, D(x): 1.00, D(G(z)): 0.00\n",
      "running epoch number: 48\n"
     ]
    },
    {
     "name": "stderr",
     "output_type": "stream",
     "text": [
      "469it [00:27, 17.30it/s]\n"
     ]
    },
    {
     "name": "stdout",
     "output_type": "stream",
     "text": [
      "Epoch [49/100], Step[469/469], d_loss: 0.0000, g_loss: 99.7998, D(x): 1.00, D(G(z)): 0.00\n",
      "running epoch number: 49\n"
     ]
    },
    {
     "name": "stderr",
     "output_type": "stream",
     "text": [
      "469it [00:28, 16.48it/s]\n"
     ]
    },
    {
     "name": "stdout",
     "output_type": "stream",
     "text": [
      "Epoch [50/100], Step[469/469], d_loss: 0.0000, g_loss: 99.8384, D(x): 1.00, D(G(z)): 0.00\n",
      "running epoch number: 50\n"
     ]
    },
    {
     "name": "stderr",
     "output_type": "stream",
     "text": [
      "469it [00:27, 16.76it/s]\n"
     ]
    },
    {
     "name": "stdout",
     "output_type": "stream",
     "text": [
      "Epoch [51/100], Step[469/469], d_loss: 0.0000, g_loss: 99.8257, D(x): 1.00, D(G(z)): 0.00\n",
      "running epoch number: 51\n"
     ]
    },
    {
     "name": "stderr",
     "output_type": "stream",
     "text": [
      "469it [00:27, 16.90it/s]\n"
     ]
    },
    {
     "name": "stdout",
     "output_type": "stream",
     "text": [
      "Epoch [52/100], Step[469/469], d_loss: 0.0000, g_loss: 100.0000, D(x): 1.00, D(G(z)): 0.00\n",
      "running epoch number: 52\n"
     ]
    },
    {
     "name": "stderr",
     "output_type": "stream",
     "text": [
      "469it [00:28, 16.73it/s]\n"
     ]
    },
    {
     "name": "stdout",
     "output_type": "stream",
     "text": [
      "Epoch [53/100], Step[469/469], d_loss: 0.0000, g_loss: 99.5358, D(x): 1.00, D(G(z)): 0.00\n",
      "running epoch number: 53\n"
     ]
    },
    {
     "name": "stderr",
     "output_type": "stream",
     "text": [
      "469it [00:27, 16.89it/s]\n"
     ]
    },
    {
     "name": "stdout",
     "output_type": "stream",
     "text": [
      "Epoch [54/100], Step[469/469], d_loss: 0.0000, g_loss: 100.0000, D(x): 1.00, D(G(z)): 0.00\n",
      "running epoch number: 54\n"
     ]
    },
    {
     "name": "stderr",
     "output_type": "stream",
     "text": [
      "469it [00:29, 16.09it/s]\n"
     ]
    },
    {
     "name": "stdout",
     "output_type": "stream",
     "text": [
      "Epoch [55/100], Step[469/469], d_loss: 0.0000, g_loss: 99.5956, D(x): 1.00, D(G(z)): 0.00\n",
      "running epoch number: 55\n"
     ]
    },
    {
     "name": "stderr",
     "output_type": "stream",
     "text": [
      "469it [00:28, 16.52it/s]\n"
     ]
    },
    {
     "name": "stdout",
     "output_type": "stream",
     "text": [
      "Epoch [56/100], Step[469/469], d_loss: 0.0000, g_loss: 99.8766, D(x): 1.00, D(G(z)): 0.00\n",
      "running epoch number: 56\n"
     ]
    },
    {
     "name": "stderr",
     "output_type": "stream",
     "text": [
      "469it [00:28, 16.45it/s]\n"
     ]
    },
    {
     "name": "stdout",
     "output_type": "stream",
     "text": [
      "Epoch [57/100], Step[469/469], d_loss: 0.0000, g_loss: 99.1678, D(x): 1.00, D(G(z)): 0.00\n",
      "running epoch number: 57\n"
     ]
    },
    {
     "name": "stderr",
     "output_type": "stream",
     "text": [
      "469it [00:28, 16.61it/s]\n"
     ]
    },
    {
     "name": "stdout",
     "output_type": "stream",
     "text": [
      "Epoch [58/100], Step[469/469], d_loss: 0.0000, g_loss: 98.7880, D(x): 1.00, D(G(z)): 0.00\n",
      "running epoch number: 58\n"
     ]
    },
    {
     "name": "stderr",
     "output_type": "stream",
     "text": [
      "469it [00:28, 16.62it/s]\n"
     ]
    },
    {
     "name": "stdout",
     "output_type": "stream",
     "text": [
      "Epoch [59/100], Step[469/469], d_loss: 0.0000, g_loss: 99.1890, D(x): 1.00, D(G(z)): 0.00\n",
      "running epoch number: 59\n"
     ]
    },
    {
     "name": "stderr",
     "output_type": "stream",
     "text": [
      "469it [00:28, 16.57it/s]\n"
     ]
    },
    {
     "name": "stdout",
     "output_type": "stream",
     "text": [
      "Epoch [60/100], Step[469/469], d_loss: 0.0000, g_loss: 99.1430, D(x): 1.00, D(G(z)): 0.00\n",
      "running epoch number: 60\n"
     ]
    },
    {
     "name": "stderr",
     "output_type": "stream",
     "text": [
      "469it [00:27, 16.94it/s]\n"
     ]
    },
    {
     "name": "stdout",
     "output_type": "stream",
     "text": [
      "Epoch [61/100], Step[469/469], d_loss: 0.0000, g_loss: 99.1108, D(x): 1.00, D(G(z)): 0.00\n",
      "running epoch number: 61\n"
     ]
    },
    {
     "name": "stderr",
     "output_type": "stream",
     "text": [
      "469it [00:27, 17.02it/s]\n"
     ]
    },
    {
     "name": "stdout",
     "output_type": "stream",
     "text": [
      "Epoch [62/100], Step[469/469], d_loss: 0.0000, g_loss: 99.3916, D(x): 1.00, D(G(z)): 0.00\n",
      "running epoch number: 62\n"
     ]
    },
    {
     "name": "stderr",
     "output_type": "stream",
     "text": [
      "469it [00:29, 15.83it/s]\n"
     ]
    },
    {
     "name": "stdout",
     "output_type": "stream",
     "text": [
      "Epoch [63/100], Step[469/469], d_loss: 0.0000, g_loss: 97.6545, D(x): 1.00, D(G(z)): 0.00\n",
      "running epoch number: 63\n"
     ]
    },
    {
     "name": "stderr",
     "output_type": "stream",
     "text": [
      "469it [00:28, 16.63it/s]\n"
     ]
    },
    {
     "name": "stdout",
     "output_type": "stream",
     "text": [
      "Epoch [64/100], Step[469/469], d_loss: 0.0000, g_loss: 96.7794, D(x): 1.00, D(G(z)): 0.00\n",
      "running epoch number: 64\n"
     ]
    },
    {
     "name": "stderr",
     "output_type": "stream",
     "text": [
      "469it [00:29, 15.73it/s]\n"
     ]
    },
    {
     "name": "stdout",
     "output_type": "stream",
     "text": [
      "Epoch [65/100], Step[469/469], d_loss: 0.0000, g_loss: 96.4715, D(x): 1.00, D(G(z)): 0.00\n",
      "running epoch number: 65\n"
     ]
    },
    {
     "name": "stderr",
     "output_type": "stream",
     "text": [
      "469it [00:30, 15.56it/s]\n"
     ]
    },
    {
     "name": "stdout",
     "output_type": "stream",
     "text": [
      "Epoch [66/100], Step[469/469], d_loss: 0.0000, g_loss: 95.5383, D(x): 1.00, D(G(z)): 0.00\n",
      "running epoch number: 66\n"
     ]
    },
    {
     "name": "stderr",
     "output_type": "stream",
     "text": [
      "469it [00:28, 16.30it/s]\n"
     ]
    },
    {
     "name": "stdout",
     "output_type": "stream",
     "text": [
      "Epoch [67/100], Step[469/469], d_loss: 0.0000, g_loss: 94.8903, D(x): 1.00, D(G(z)): 0.00\n",
      "running epoch number: 67\n"
     ]
    },
    {
     "name": "stderr",
     "output_type": "stream",
     "text": [
      "469it [00:29, 16.02it/s]\n"
     ]
    },
    {
     "name": "stdout",
     "output_type": "stream",
     "text": [
      "Epoch [68/100], Step[469/469], d_loss: 0.0000, g_loss: 97.3084, D(x): 1.00, D(G(z)): 0.00\n",
      "running epoch number: 68\n"
     ]
    },
    {
     "name": "stderr",
     "output_type": "stream",
     "text": [
      "469it [00:30, 15.53it/s]\n"
     ]
    },
    {
     "name": "stdout",
     "output_type": "stream",
     "text": [
      "Epoch [69/100], Step[469/469], d_loss: 0.0000, g_loss: 94.8518, D(x): 1.00, D(G(z)): 0.00\n",
      "running epoch number: 69\n"
     ]
    },
    {
     "name": "stderr",
     "output_type": "stream",
     "text": [
      "469it [00:30, 15.44it/s]\n"
     ]
    },
    {
     "name": "stdout",
     "output_type": "stream",
     "text": [
      "Epoch [70/100], Step[469/469], d_loss: 0.0000, g_loss: 95.1524, D(x): 1.00, D(G(z)): 0.00\n",
      "running epoch number: 70\n"
     ]
    },
    {
     "name": "stderr",
     "output_type": "stream",
     "text": [
      "469it [00:30, 15.43it/s]\n"
     ]
    },
    {
     "name": "stdout",
     "output_type": "stream",
     "text": [
      "Epoch [71/100], Step[469/469], d_loss: 0.0000, g_loss: 93.0334, D(x): 1.00, D(G(z)): 0.00\n",
      "running epoch number: 71\n"
     ]
    },
    {
     "name": "stderr",
     "output_type": "stream",
     "text": [
      "469it [00:31, 14.68it/s]\n"
     ]
    },
    {
     "name": "stdout",
     "output_type": "stream",
     "text": [
      "Epoch [72/100], Step[469/469], d_loss: 0.0000, g_loss: 91.0165, D(x): 1.00, D(G(z)): 0.00\n",
      "running epoch number: 72\n"
     ]
    },
    {
     "name": "stderr",
     "output_type": "stream",
     "text": [
      "469it [00:32, 14.57it/s]\n"
     ]
    },
    {
     "name": "stdout",
     "output_type": "stream",
     "text": [
      "Epoch [73/100], Step[469/469], d_loss: 0.0000, g_loss: 90.8292, D(x): 1.00, D(G(z)): 0.00\n",
      "running epoch number: 73\n"
     ]
    },
    {
     "name": "stderr",
     "output_type": "stream",
     "text": [
      "469it [00:31, 15.08it/s]\n"
     ]
    },
    {
     "name": "stdout",
     "output_type": "stream",
     "text": [
      "Epoch [74/100], Step[469/469], d_loss: 0.0000, g_loss: 89.9260, D(x): 1.00, D(G(z)): 0.00\n",
      "running epoch number: 74\n"
     ]
    },
    {
     "name": "stderr",
     "output_type": "stream",
     "text": [
      "469it [00:30, 15.45it/s]\n"
     ]
    },
    {
     "name": "stdout",
     "output_type": "stream",
     "text": [
      "Epoch [75/100], Step[469/469], d_loss: 0.0000, g_loss: 88.8258, D(x): 1.00, D(G(z)): 0.00\n",
      "running epoch number: 75\n"
     ]
    },
    {
     "name": "stderr",
     "output_type": "stream",
     "text": [
      "469it [00:30, 15.29it/s]\n"
     ]
    },
    {
     "name": "stdout",
     "output_type": "stream",
     "text": [
      "Epoch [76/100], Step[469/469], d_loss: 0.0000, g_loss: 90.1239, D(x): 1.00, D(G(z)): 0.00\n",
      "running epoch number: 76\n"
     ]
    },
    {
     "name": "stderr",
     "output_type": "stream",
     "text": [
      "469it [00:32, 14.60it/s]\n"
     ]
    },
    {
     "name": "stdout",
     "output_type": "stream",
     "text": [
      "Epoch [77/100], Step[469/469], d_loss: 0.0000, g_loss: 85.3538, D(x): 1.00, D(G(z)): 0.00\n",
      "running epoch number: 77\n"
     ]
    },
    {
     "name": "stderr",
     "output_type": "stream",
     "text": [
      "469it [00:33, 13.96it/s]\n"
     ]
    },
    {
     "name": "stdout",
     "output_type": "stream",
     "text": [
      "Epoch [78/100], Step[469/469], d_loss: 0.0000, g_loss: 85.2179, D(x): 1.00, D(G(z)): 0.00\n",
      "running epoch number: 78\n"
     ]
    },
    {
     "name": "stderr",
     "output_type": "stream",
     "text": [
      "469it [00:33, 13.87it/s]\n"
     ]
    },
    {
     "name": "stdout",
     "output_type": "stream",
     "text": [
      "Epoch [79/100], Step[469/469], d_loss: 0.0000, g_loss: 84.7749, D(x): 1.00, D(G(z)): 0.00\n",
      "running epoch number: 79\n"
     ]
    },
    {
     "name": "stderr",
     "output_type": "stream",
     "text": [
      "469it [00:34, 13.57it/s]\n"
     ]
    },
    {
     "name": "stdout",
     "output_type": "stream",
     "text": [
      "Epoch [80/100], Step[469/469], d_loss: 0.0000, g_loss: 84.3478, D(x): 1.00, D(G(z)): 0.00\n",
      "running epoch number: 80\n"
     ]
    },
    {
     "name": "stderr",
     "output_type": "stream",
     "text": [
      "469it [00:35, 13.11it/s]\n"
     ]
    },
    {
     "name": "stdout",
     "output_type": "stream",
     "text": [
      "Epoch [81/100], Step[469/469], d_loss: 0.0000, g_loss: 80.3511, D(x): 1.00, D(G(z)): 0.00\n",
      "running epoch number: 81\n"
     ]
    },
    {
     "name": "stderr",
     "output_type": "stream",
     "text": [
      "469it [00:40, 11.50it/s]\n"
     ]
    },
    {
     "name": "stdout",
     "output_type": "stream",
     "text": [
      "Epoch [82/100], Step[469/469], d_loss: 0.0000, g_loss: 75.2550, D(x): 1.00, D(G(z)): 0.00\n",
      "running epoch number: 82\n"
     ]
    },
    {
     "name": "stderr",
     "output_type": "stream",
     "text": [
      "469it [00:46, 10.15it/s]\n"
     ]
    },
    {
     "name": "stdout",
     "output_type": "stream",
     "text": [
      "Epoch [83/100], Step[469/469], d_loss: 0.0000, g_loss: 68.4134, D(x): 1.00, D(G(z)): 0.00\n",
      "running epoch number: 83\n"
     ]
    },
    {
     "name": "stderr",
     "output_type": "stream",
     "text": [
      "469it [01:11,  6.59it/s]\n"
     ]
    },
    {
     "name": "stdout",
     "output_type": "stream",
     "text": [
      "Epoch [84/100], Step[469/469], d_loss: 0.0000, g_loss: 80.9883, D(x): 1.00, D(G(z)): 0.00\n",
      "running epoch number: 84\n"
     ]
    },
    {
     "name": "stderr",
     "output_type": "stream",
     "text": [
      "469it [00:26, 17.95it/s]\n"
     ]
    },
    {
     "name": "stdout",
     "output_type": "stream",
     "text": [
      "Epoch [85/100], Step[469/469], d_loss: 0.0000, g_loss: 100.0000, D(x): 1.00, D(G(z)): 0.00\n",
      "running epoch number: 85\n"
     ]
    },
    {
     "name": "stderr",
     "output_type": "stream",
     "text": [
      "469it [00:27, 17.23it/s]\n"
     ]
    },
    {
     "name": "stdout",
     "output_type": "stream",
     "text": [
      "Epoch [86/100], Step[469/469], d_loss: 0.0000, g_loss: 99.5120, D(x): 1.00, D(G(z)): 0.00\n",
      "running epoch number: 86\n"
     ]
    },
    {
     "name": "stderr",
     "output_type": "stream",
     "text": [
      "469it [00:26, 18.01it/s]\n"
     ]
    },
    {
     "name": "stdout",
     "output_type": "stream",
     "text": [
      "Epoch [87/100], Step[469/469], d_loss: 0.0000, g_loss: 100.0000, D(x): 1.00, D(G(z)): 0.00\n",
      "running epoch number: 87\n"
     ]
    },
    {
     "name": "stderr",
     "output_type": "stream",
     "text": [
      "469it [00:27, 17.07it/s]\n"
     ]
    },
    {
     "name": "stdout",
     "output_type": "stream",
     "text": [
      "Epoch [88/100], Step[469/469], d_loss: 0.0000, g_loss: 99.5283, D(x): 1.00, D(G(z)): 0.00\n",
      "running epoch number: 88\n"
     ]
    },
    {
     "name": "stderr",
     "output_type": "stream",
     "text": [
      "469it [00:26, 17.63it/s]\n"
     ]
    },
    {
     "name": "stdout",
     "output_type": "stream",
     "text": [
      "Epoch [89/100], Step[469/469], d_loss: 0.0000, g_loss: 99.5766, D(x): 1.00, D(G(z)): 0.00\n",
      "running epoch number: 89\n"
     ]
    },
    {
     "name": "stderr",
     "output_type": "stream",
     "text": [
      "469it [00:26, 17.78it/s]\n"
     ]
    },
    {
     "name": "stdout",
     "output_type": "stream",
     "text": [
      "Epoch [90/100], Step[469/469], d_loss: 0.0000, g_loss: 99.7323, D(x): 1.00, D(G(z)): 0.00\n",
      "running epoch number: 90\n"
     ]
    },
    {
     "name": "stderr",
     "output_type": "stream",
     "text": [
      "469it [00:27, 17.36it/s]\n"
     ]
    },
    {
     "name": "stdout",
     "output_type": "stream",
     "text": [
      "Epoch [91/100], Step[469/469], d_loss: 0.0000, g_loss: 99.4309, D(x): 1.00, D(G(z)): 0.00\n",
      "running epoch number: 91\n"
     ]
    },
    {
     "name": "stderr",
     "output_type": "stream",
     "text": [
      "469it [00:27, 17.15it/s]\n"
     ]
    },
    {
     "name": "stdout",
     "output_type": "stream",
     "text": [
      "Epoch [92/100], Step[469/469], d_loss: 0.0000, g_loss: 100.0000, D(x): 1.00, D(G(z)): 0.00\n",
      "running epoch number: 92\n"
     ]
    },
    {
     "name": "stderr",
     "output_type": "stream",
     "text": [
      "469it [00:28, 16.67it/s]\n"
     ]
    },
    {
     "name": "stdout",
     "output_type": "stream",
     "text": [
      "Epoch [93/100], Step[469/469], d_loss: 0.0000, g_loss: 99.2392, D(x): 1.00, D(G(z)): 0.00\n",
      "running epoch number: 93\n"
     ]
    },
    {
     "name": "stderr",
     "output_type": "stream",
     "text": [
      "469it [00:27, 17.30it/s]\n"
     ]
    },
    {
     "name": "stdout",
     "output_type": "stream",
     "text": [
      "Epoch [94/100], Step[469/469], d_loss: 0.0000, g_loss: 100.0000, D(x): 1.00, D(G(z)): 0.00\n",
      "running epoch number: 94\n"
     ]
    },
    {
     "name": "stderr",
     "output_type": "stream",
     "text": [
      "469it [00:27, 17.00it/s]\n"
     ]
    },
    {
     "name": "stdout",
     "output_type": "stream",
     "text": [
      "Epoch [95/100], Step[469/469], d_loss: 0.0000, g_loss: 98.8182, D(x): 1.00, D(G(z)): 0.00\n",
      "running epoch number: 95\n"
     ]
    },
    {
     "name": "stderr",
     "output_type": "stream",
     "text": [
      "469it [00:27, 16.90it/s]\n"
     ]
    },
    {
     "name": "stdout",
     "output_type": "stream",
     "text": [
      "Epoch [96/100], Step[469/469], d_loss: 0.0000, g_loss: 99.6913, D(x): 1.00, D(G(z)): 0.00\n",
      "running epoch number: 96\n"
     ]
    },
    {
     "name": "stderr",
     "output_type": "stream",
     "text": [
      "469it [00:27, 16.95it/s]\n"
     ]
    },
    {
     "name": "stdout",
     "output_type": "stream",
     "text": [
      "Epoch [97/100], Step[469/469], d_loss: 0.0000, g_loss: 99.4900, D(x): 1.00, D(G(z)): 0.00\n",
      "running epoch number: 97\n"
     ]
    },
    {
     "name": "stderr",
     "output_type": "stream",
     "text": [
      "469it [00:27, 16.93it/s]\n"
     ]
    },
    {
     "name": "stdout",
     "output_type": "stream",
     "text": [
      "Epoch [98/100], Step[469/469], d_loss: 0.0000, g_loss: 99.2572, D(x): 1.00, D(G(z)): 0.00\n",
      "running epoch number: 98\n"
     ]
    },
    {
     "name": "stderr",
     "output_type": "stream",
     "text": [
      "469it [00:27, 17.11it/s]\n"
     ]
    },
    {
     "name": "stdout",
     "output_type": "stream",
     "text": [
      "Epoch [99/100], Step[469/469], d_loss: 0.0000, g_loss: 99.6356, D(x): 1.00, D(G(z)): 0.00\n",
      "running epoch number: 99\n"
     ]
    },
    {
     "name": "stderr",
     "output_type": "stream",
     "text": [
      "469it [00:27, 17.18it/s]\n"
     ]
    },
    {
     "name": "stdout",
     "output_type": "stream",
     "text": [
      "Epoch [100/100], Step[469/469], d_loss: 0.0000, g_loss: 98.1559, D(x): 1.00, D(G(z)): 0.00\n"
     ]
    },
    {
     "data": {
      "image/png": "[encoded data removed]",
      "text/plain": [
       "<Figure size 500x500 with 1 Axes>"
      ]
     },
     "metadata": {},
     "output_type": "display_data"
    },
    {
     "name": "stderr",
     "output_type": "stream",
     "text": [
      "/var/tmp/ipykernel_715862/2031151001.py:73: ExperimentalWarning: upload_artifact is experimental (supported from v3.3.0). The interface can change in the future.\n",
      "  artifact_id = upload_artifact(trial, img_path, artifact_store)\n"
     ]
    },
    {
     "name": "stdout",
     "output_type": "stream",
     "text": [
      "running trial number: 1\n",
      "Batch Size: 64\n",
      "Learning Rate: 0.000274079143162446\n",
      "Optimizer: AdamW\n",
      "running epoch number: 0\n"
     ]
    },
    {
     "name": "stderr",
     "output_type": "stream",
     "text": [
      "938it [00:33, 27.64it/s]\n"
     ]
    },
    {
     "name": "stdout",
     "output_type": "stream",
     "text": [
      "Epoch [1/100], Step[938/938], d_loss: 1.3970, g_loss: 2.0597, D(x): 0.69, D(G(z)): 0.41\n",
      "running epoch number: 1\n"
     ]
    },
    {
     "name": "stderr",
     "output_type": "stream",
     "text": [
      "938it [00:33, 28.12it/s]\n"
     ]
    },
    {
     "name": "stdout",
     "output_type": "stream",
     "text": [
      "Epoch [2/100], Step[938/938], d_loss: 0.2592, g_loss: 5.0784, D(x): 0.91, D(G(z)): 0.01\n",
      "running epoch number: 2\n"
     ]
    },
    {
     "name": "stderr",
     "output_type": "stream",
     "text": [
      "938it [00:33, 27.78it/s]\n"
     ]
    },
    {
     "name": "stdout",
     "output_type": "stream",
     "text": [
      "Epoch [3/100], Step[938/938], d_loss: 0.1506, g_loss: 4.9531, D(x): 0.97, D(G(z)): 0.02\n",
      "running epoch number: 3\n"
     ]
    },
    {
     "name": "stderr",
     "output_type": "stream",
     "text": [
      "938it [00:33, 28.09it/s]\n"
     ]
    },
    {
     "name": "stdout",
     "output_type": "stream",
     "text": [
      "Epoch [4/100], Step[938/938], d_loss: 0.1815, g_loss: 4.7882, D(x): 0.94, D(G(z)): 0.02\n",
      "running epoch number: 4\n"
     ]
    },
    {
     "name": "stderr",
     "output_type": "stream",
     "text": [
      "938it [00:33, 27.91it/s]\n"
     ]
    },
    {
     "name": "stdout",
     "output_type": "stream",
     "text": [
      "Epoch [5/100], Step[938/938], d_loss: 0.2104, g_loss: 4.5584, D(x): 0.90, D(G(z)): 0.03\n",
      "running epoch number: 5\n"
     ]
    },
    {
     "name": "stderr",
     "output_type": "stream",
     "text": [
      "938it [00:33, 27.92it/s]\n"
     ]
    },
    {
     "name": "stdout",
     "output_type": "stream",
     "text": [
      "Epoch [6/100], Step[938/938], d_loss: 0.3533, g_loss: 2.9494, D(x): 0.87, D(G(z)): 0.07\n",
      "running epoch number: 6\n"
     ]
    },
    {
     "name": "stderr",
     "output_type": "stream",
     "text": [
      "938it [00:33, 27.83it/s]\n"
     ]
    },
    {
     "name": "stdout",
     "output_type": "stream",
     "text": [
      "Epoch [7/100], Step[938/938], d_loss: 0.3265, g_loss: 2.4289, D(x): 0.98, D(G(z)): 0.23\n",
      "running epoch number: 7\n"
     ]
    },
    {
     "name": "stderr",
     "output_type": "stream",
     "text": [
      "938it [00:33, 27.73it/s]\n"
     ]
    },
    {
     "name": "stdout",
     "output_type": "stream",
     "text": [
      "Epoch [8/100], Step[938/938], d_loss: 0.2986, g_loss: 2.8496, D(x): 0.93, D(G(z)): 0.12\n",
      "running epoch number: 8\n"
     ]
    },
    {
     "name": "stderr",
     "output_type": "stream",
     "text": [
      "938it [00:33, 27.90it/s]\n"
     ]
    },
    {
     "name": "stdout",
     "output_type": "stream",
     "text": [
      "Epoch [9/100], Step[938/938], d_loss: 0.5190, g_loss: 1.6524, D(x): 0.91, D(G(z)): 0.26\n",
      "running epoch number: 9\n"
     ]
    },
    {
     "name": "stderr",
     "output_type": "stream",
     "text": [
      "938it [00:33, 27.71it/s]\n"
     ]
    },
    {
     "name": "stdout",
     "output_type": "stream",
     "text": [
      "Epoch [10/100], Step[938/938], d_loss: 0.8436, g_loss: 1.8698, D(x): 0.75, D(G(z)): 0.20\n",
      "running epoch number: 10\n"
     ]
    },
    {
     "name": "stderr",
     "output_type": "stream",
     "text": [
      "938it [00:33, 27.77it/s]\n"
     ]
    },
    {
     "name": "stdout",
     "output_type": "stream",
     "text": [
      "Epoch [11/100], Step[938/938], d_loss: 0.8274, g_loss: 2.1198, D(x): 0.78, D(G(z)): 0.18\n",
      "running epoch number: 11\n"
     ]
    },
    {
     "name": "stderr",
     "output_type": "stream",
     "text": [
      "938it [00:34, 27.31it/s]\n"
     ]
    },
    {
     "name": "stdout",
     "output_type": "stream",
     "text": [
      "Epoch [12/100], Step[938/938], d_loss: 0.6999, g_loss: 1.8834, D(x): 0.77, D(G(z)): 0.18\n",
      "running epoch number: 12\n"
     ]
    },
    {
     "name": "stderr",
     "output_type": "stream",
     "text": [
      "938it [00:33, 28.00it/s]\n"
     ]
    },
    {
     "name": "stdout",
     "output_type": "stream",
     "text": [
      "Epoch [13/100], Step[938/938], d_loss: 0.6296, g_loss: 1.3884, D(x): 0.85, D(G(z)): 0.26\n",
      "running epoch number: 13\n"
     ]
    },
    {
     "name": "stderr",
     "output_type": "stream",
     "text": [
      "938it [00:34, 27.40it/s]\n"
     ]
    },
    {
     "name": "stdout",
     "output_type": "stream",
     "text": [
      "Epoch [14/100], Step[938/938], d_loss: 0.9722, g_loss: 1.5085, D(x): 0.71, D(G(z)): 0.26\n",
      "running epoch number: 14\n"
     ]
    },
    {
     "name": "stderr",
     "output_type": "stream",
     "text": [
      "938it [00:33, 27.89it/s]\n"
     ]
    },
    {
     "name": "stdout",
     "output_type": "stream",
     "text": [
      "Epoch [15/100], Step[938/938], d_loss: 0.9824, g_loss: 1.7816, D(x): 0.76, D(G(z)): 0.35\n",
      "running epoch number: 15\n"
     ]
    },
    {
     "name": "stderr",
     "output_type": "stream",
     "text": [
      "938it [00:34, 27.49it/s]\n"
     ]
    },
    {
     "name": "stdout",
     "output_type": "stream",
     "text": [
      "Epoch [16/100], Step[938/938], d_loss: 0.8737, g_loss: 2.1982, D(x): 0.74, D(G(z)): 0.27\n",
      "running epoch number: 16\n"
     ]
    },
    {
     "name": "stderr",
     "output_type": "stream",
     "text": [
      "938it [00:34, 27.41it/s]\n"
     ]
    },
    {
     "name": "stdout",
     "output_type": "stream",
     "text": [
      "Epoch [17/100], Step[938/938], d_loss: 0.9770, g_loss: 1.4386, D(x): 0.60, D(G(z)): 0.25\n",
      "running epoch number: 17\n"
     ]
    },
    {
     "name": "stderr",
     "output_type": "stream",
     "text": [
      "938it [00:33, 28.15it/s]\n"
     ]
    },
    {
     "name": "stdout",
     "output_type": "stream",
     "text": [
      "Epoch [18/100], Step[938/938], d_loss: 0.8474, g_loss: 1.4762, D(x): 0.72, D(G(z)): 0.29\n",
      "running epoch number: 18\n"
     ]
    },
    {
     "name": "stderr",
     "output_type": "stream",
     "text": [
      "938it [00:33, 27.60it/s]\n"
     ]
    },
    {
     "name": "stdout",
     "output_type": "stream",
     "text": [
      "Epoch [19/100], Step[938/938], d_loss: 0.8582, g_loss: 1.5469, D(x): 0.67, D(G(z)): 0.26\n",
      "running epoch number: 19\n"
     ]
    },
    {
     "name": "stderr",
     "output_type": "stream",
     "text": [
      "938it [00:33, 27.68it/s]\n"
     ]
    },
    {
     "name": "stdout",
     "output_type": "stream",
     "text": [
      "Epoch [20/100], Step[938/938], d_loss: 1.0116, g_loss: 1.5801, D(x): 0.62, D(G(z)): 0.29\n",
      "running epoch number: 20\n"
     ]
    },
    {
     "name": "stderr",
     "output_type": "stream",
     "text": [
      "938it [00:33, 27.67it/s]\n"
     ]
    },
    {
     "name": "stdout",
     "output_type": "stream",
     "text": [
      "Epoch [21/100], Step[938/938], d_loss: 1.0221, g_loss: 1.3698, D(x): 0.64, D(G(z)): 0.26\n",
      "running epoch number: 21\n"
     ]
    },
    {
     "name": "stderr",
     "output_type": "stream",
     "text": [
      "938it [00:33, 27.66it/s]\n"
     ]
    },
    {
     "name": "stdout",
     "output_type": "stream",
     "text": [
      "Epoch [22/100], Step[938/938], d_loss: 1.0077, g_loss: 1.4246, D(x): 0.64, D(G(z)): 0.34\n",
      "running epoch number: 22\n"
     ]
    },
    {
     "name": "stderr",
     "output_type": "stream",
     "text": [
      "938it [00:33, 27.64it/s]\n"
     ]
    },
    {
     "name": "stdout",
     "output_type": "stream",
     "text": [
      "Epoch [23/100], Step[938/938], d_loss: 1.1538, g_loss: 1.4008, D(x): 0.57, D(G(z)): 0.36\n",
      "running epoch number: 23\n"
     ]
    },
    {
     "name": "stderr",
     "output_type": "stream",
     "text": [
      "938it [00:33, 27.61it/s]\n"
     ]
    },
    {
     "name": "stdout",
     "output_type": "stream",
     "text": [
      "Epoch [24/100], Step[938/938], d_loss: 0.9783, g_loss: 1.2453, D(x): 0.70, D(G(z)): 0.35\n",
      "running epoch number: 24\n"
     ]
    },
    {
     "name": "stderr",
     "output_type": "stream",
     "text": [
      "938it [00:32, 28.49it/s]\n"
     ]
    },
    {
     "name": "stdout",
     "output_type": "stream",
     "text": [
      "Epoch [25/100], Step[938/938], d_loss: 0.8003, g_loss: 1.2754, D(x): 0.75, D(G(z)): 0.32\n",
      "running epoch number: 25\n"
     ]
    },
    {
     "name": "stderr",
     "output_type": "stream",
     "text": [
      "938it [00:33, 28.00it/s]\n"
     ]
    },
    {
     "name": "stdout",
     "output_type": "stream",
     "text": [
      "Epoch [26/100], Step[938/938], d_loss: 1.0942, g_loss: 1.1852, D(x): 0.64, D(G(z)): 0.37\n",
      "running epoch number: 26\n"
     ]
    },
    {
     "name": "stderr",
     "output_type": "stream",
     "text": [
      "938it [00:32, 28.78it/s]\n"
     ]
    },
    {
     "name": "stdout",
     "output_type": "stream",
     "text": [
      "Epoch [27/100], Step[938/938], d_loss: 0.9744, g_loss: 1.0814, D(x): 0.69, D(G(z)): 0.34\n",
      "running epoch number: 27\n"
     ]
    },
    {
     "name": "stderr",
     "output_type": "stream",
     "text": [
      "938it [00:33, 28.17it/s]\n"
     ]
    },
    {
     "name": "stdout",
     "output_type": "stream",
     "text": [
      "Epoch [28/100], Step[938/938], d_loss: 1.0969, g_loss: 1.0188, D(x): 0.67, D(G(z)): 0.41\n",
      "running epoch number: 28\n"
     ]
    },
    {
     "name": "stderr",
     "output_type": "stream",
     "text": [
      "938it [00:32, 28.62it/s]\n"
     ]
    },
    {
     "name": "stdout",
     "output_type": "stream",
     "text": [
      "Epoch [29/100], Step[938/938], d_loss: 1.0776, g_loss: 1.1895, D(x): 0.56, D(G(z)): 0.30\n",
      "running epoch number: 29\n"
     ]
    },
    {
     "name": "stderr",
     "output_type": "stream",
     "text": [
      "938it [00:32, 28.63it/s]\n"
     ]
    },
    {
     "name": "stdout",
     "output_type": "stream",
     "text": [
      "Epoch [30/100], Step[938/938], d_loss: 0.8630, g_loss: 1.1090, D(x): 0.63, D(G(z)): 0.25\n",
      "running epoch number: 30\n"
     ]
    },
    {
     "name": "stderr",
     "output_type": "stream",
     "text": [
      "938it [00:32, 29.01it/s]\n"
     ]
    },
    {
     "name": "stdout",
     "output_type": "stream",
     "text": [
      "Epoch [31/100], Step[938/938], d_loss: 1.1023, g_loss: 1.1596, D(x): 0.64, D(G(z)): 0.36\n",
      "running epoch number: 31\n"
     ]
    },
    {
     "name": "stderr",
     "output_type": "stream",
     "text": [
      "938it [00:32, 28.48it/s]\n"
     ]
    },
    {
     "name": "stdout",
     "output_type": "stream",
     "text": [
      "Epoch [32/100], Step[938/938], d_loss: 1.1282, g_loss: 1.1389, D(x): 0.67, D(G(z)): 0.41\n",
      "running epoch number: 32\n"
     ]
    },
    {
     "name": "stderr",
     "output_type": "stream",
     "text": [
      "938it [00:32, 28.69it/s]\n"
     ]
    },
    {
     "name": "stdout",
     "output_type": "stream",
     "text": [
      "Epoch [33/100], Step[938/938], d_loss: 1.0073, g_loss: 1.1944, D(x): 0.67, D(G(z)): 0.35\n",
      "running epoch number: 33\n"
     ]
    },
    {
     "name": "stderr",
     "output_type": "stream",
     "text": [
      "938it [00:34, 27.33it/s]\n"
     ]
    },
    {
     "name": "stdout",
     "output_type": "stream",
     "text": [
      "Epoch [34/100], Step[938/938], d_loss: 0.9788, g_loss: 1.3416, D(x): 0.70, D(G(z)): 0.39\n",
      "running epoch number: 34\n"
     ]
    },
    {
     "name": "stderr",
     "output_type": "stream",
     "text": [
      "938it [00:33, 28.41it/s]\n"
     ]
    },
    {
     "name": "stdout",
     "output_type": "stream",
     "text": [
      "Epoch [35/100], Step[938/938], d_loss: 0.9137, g_loss: 1.1905, D(x): 0.67, D(G(z)): 0.35\n",
      "running epoch number: 35\n"
     ]
    },
    {
     "name": "stderr",
     "output_type": "stream",
     "text": [
      "938it [00:33, 28.34it/s]\n"
     ]
    },
    {
     "name": "stdout",
     "output_type": "stream",
     "text": [
      "Epoch [36/100], Step[938/938], d_loss: 1.0155, g_loss: 1.0942, D(x): 0.70, D(G(z)): 0.42\n",
      "running epoch number: 36\n"
     ]
    },
    {
     "name": "stderr",
     "output_type": "stream",
     "text": [
      "938it [00:33, 27.81it/s]\n"
     ]
    },
    {
     "name": "stdout",
     "output_type": "stream",
     "text": [
      "Epoch [37/100], Step[938/938], d_loss: 1.2105, g_loss: 1.0191, D(x): 0.53, D(G(z)): 0.36\n",
      "running epoch number: 37\n"
     ]
    },
    {
     "name": "stderr",
     "output_type": "stream",
     "text": [
      "938it [00:33, 28.01it/s]\n"
     ]
    },
    {
     "name": "stdout",
     "output_type": "stream",
     "text": [
      "Epoch [38/100], Step[938/938], d_loss: 1.1461, g_loss: 1.1470, D(x): 0.64, D(G(z)): 0.45\n",
      "running epoch number: 38\n"
     ]
    },
    {
     "name": "stderr",
     "output_type": "stream",
     "text": [
      "938it [00:33, 27.63it/s]\n"
     ]
    },
    {
     "name": "stdout",
     "output_type": "stream",
     "text": [
      "Epoch [39/100], Step[938/938], d_loss: 1.1944, g_loss: 1.0571, D(x): 0.64, D(G(z)): 0.44\n",
      "running epoch number: 39\n"
     ]
    },
    {
     "name": "stderr",
     "output_type": "stream",
     "text": [
      "938it [00:33, 28.04it/s]\n"
     ]
    },
    {
     "name": "stdout",
     "output_type": "stream",
     "text": [
      "Epoch [40/100], Step[938/938], d_loss: 1.2011, g_loss: 1.1563, D(x): 0.61, D(G(z)): 0.34\n",
      "running epoch number: 40\n"
     ]
    },
    {
     "name": "stderr",
     "output_type": "stream",
     "text": [
      "938it [00:34, 27.57it/s]\n"
     ]
    },
    {
     "name": "stdout",
     "output_type": "stream",
     "text": [
      "Epoch [41/100], Step[938/938], d_loss: 1.2468, g_loss: 1.0434, D(x): 0.65, D(G(z)): 0.47\n",
      "running epoch number: 41\n"
     ]
    },
    {
     "name": "stderr",
     "output_type": "stream",
     "text": [
      "938it [00:33, 27.82it/s]\n"
     ]
    },
    {
     "name": "stdout",
     "output_type": "stream",
     "text": [
      "Epoch [42/100], Step[938/938], d_loss: 1.2671, g_loss: 0.9853, D(x): 0.56, D(G(z)): 0.41\n",
      "running epoch number: 42\n"
     ]
    },
    {
     "name": "stderr",
     "output_type": "stream",
     "text": [
      "938it [00:33, 27.95it/s]\n"
     ]
    },
    {
     "name": "stdout",
     "output_type": "stream",
     "text": [
      "Epoch [43/100], Step[938/938], d_loss: 1.1511, g_loss: 0.8562, D(x): 0.67, D(G(z)): 0.46\n",
      "running epoch number: 43\n"
     ]
    },
    {
     "name": "stderr",
     "output_type": "stream",
     "text": [
      "938it [00:33, 27.84it/s]\n"
     ]
    },
    {
     "name": "stdout",
     "output_type": "stream",
     "text": [
      "Epoch [44/100], Step[938/938], d_loss: 0.9209, g_loss: 1.0587, D(x): 0.66, D(G(z)): 0.34\n",
      "running epoch number: 44\n"
     ]
    },
    {
     "name": "stderr",
     "output_type": "stream",
     "text": [
      "938it [00:33, 27.91it/s]\n"
     ]
    },
    {
     "name": "stdout",
     "output_type": "stream",
     "text": [
      "Epoch [45/100], Step[938/938], d_loss: 1.1394, g_loss: 1.0060, D(x): 0.58, D(G(z)): 0.39\n",
      "running epoch number: 45\n"
     ]
    },
    {
     "name": "stderr",
     "output_type": "stream",
     "text": [
      "938it [00:33, 27.95it/s]\n"
     ]
    },
    {
     "name": "stdout",
     "output_type": "stream",
     "text": [
      "Epoch [46/100], Step[938/938], d_loss: 1.0133, g_loss: 1.0450, D(x): 0.67, D(G(z)): 0.37\n",
      "running epoch number: 46\n"
     ]
    },
    {
     "name": "stderr",
     "output_type": "stream",
     "text": [
      "938it [00:33, 28.36it/s]\n"
     ]
    },
    {
     "name": "stdout",
     "output_type": "stream",
     "text": [
      "Epoch [47/100], Step[938/938], d_loss: 1.1618, g_loss: 0.9458, D(x): 0.60, D(G(z)): 0.39\n",
      "running epoch number: 47\n"
     ]
    },
    {
     "name": "stderr",
     "output_type": "stream",
     "text": [
      "938it [00:33, 28.41it/s]\n"
     ]
    },
    {
     "name": "stdout",
     "output_type": "stream",
     "text": [
      "Epoch [48/100], Step[938/938], d_loss: 1.0502, g_loss: 0.9838, D(x): 0.60, D(G(z)): 0.34\n",
      "running epoch number: 48\n"
     ]
    },
    {
     "name": "stderr",
     "output_type": "stream",
     "text": [
      "938it [00:31, 29.41it/s]\n"
     ]
    },
    {
     "name": "stdout",
     "output_type": "stream",
     "text": [
      "Epoch [49/100], Step[938/938], d_loss: 1.2494, g_loss: 1.3428, D(x): 0.58, D(G(z)): 0.42\n",
      "running epoch number: 49\n"
     ]
    },
    {
     "name": "stderr",
     "output_type": "stream",
     "text": [
      "938it [00:33, 28.39it/s]\n"
     ]
    },
    {
     "name": "stdout",
     "output_type": "stream",
     "text": [
      "Epoch [50/100], Step[938/938], d_loss: 1.0371, g_loss: 0.6931, D(x): 0.69, D(G(z)): 0.44\n",
      "running epoch number: 50\n"
     ]
    },
    {
     "name": "stderr",
     "output_type": "stream",
     "text": [
      "938it [00:32, 28.61it/s]\n"
     ]
    },
    {
     "name": "stdout",
     "output_type": "stream",
     "text": [
      "Epoch [51/100], Step[938/938], d_loss: 1.2403, g_loss: 0.9228, D(x): 0.56, D(G(z)): 0.39\n",
      "running epoch number: 51\n"
     ]
    },
    {
     "name": "stderr",
     "output_type": "stream",
     "text": [
      "938it [00:32, 28.70it/s]\n"
     ]
    },
    {
     "name": "stdout",
     "output_type": "stream",
     "text": [
      "Epoch [52/100], Step[938/938], d_loss: 1.1730, g_loss: 0.9839, D(x): 0.65, D(G(z)): 0.42\n",
      "running epoch number: 52\n"
     ]
    },
    {
     "name": "stderr",
     "output_type": "stream",
     "text": [
      "938it [00:32, 29.19it/s]\n"
     ]
    },
    {
     "name": "stdout",
     "output_type": "stream",
     "text": [
      "Epoch [53/100], Step[938/938], d_loss: 1.1479, g_loss: 0.9300, D(x): 0.59, D(G(z)): 0.39\n",
      "running epoch number: 53\n"
     ]
    },
    {
     "name": "stderr",
     "output_type": "stream",
     "text": [
      "938it [00:31, 29.78it/s]\n"
     ]
    },
    {
     "name": "stdout",
     "output_type": "stream",
     "text": [
      "Epoch [54/100], Step[938/938], d_loss: 1.1630, g_loss: 0.9840, D(x): 0.56, D(G(z)): 0.37\n",
      "running epoch number: 54\n"
     ]
    },
    {
     "name": "stderr",
     "output_type": "stream",
     "text": [
      "938it [00:32, 29.06it/s]\n"
     ]
    },
    {
     "name": "stdout",
     "output_type": "stream",
     "text": [
      "Epoch [55/100], Step[938/938], d_loss: 1.1342, g_loss: 1.1459, D(x): 0.58, D(G(z)): 0.38\n",
      "running epoch number: 55\n"
     ]
    },
    {
     "name": "stderr",
     "output_type": "stream",
     "text": [
      "938it [00:31, 29.64it/s]\n"
     ]
    },
    {
     "name": "stdout",
     "output_type": "stream",
     "text": [
      "Epoch [56/100], Step[938/938], d_loss: 1.2077, g_loss: 1.1853, D(x): 0.60, D(G(z)): 0.39\n",
      "running epoch number: 56\n"
     ]
    },
    {
     "name": "stderr",
     "output_type": "stream",
     "text": [
      "938it [00:32, 29.16it/s]\n"
     ]
    },
    {
     "name": "stdout",
     "output_type": "stream",
     "text": [
      "Epoch [57/100], Step[938/938], d_loss: 1.0796, g_loss: 1.0711, D(x): 0.61, D(G(z)): 0.37\n",
      "running epoch number: 57\n"
     ]
    },
    {
     "name": "stderr",
     "output_type": "stream",
     "text": [
      "938it [00:31, 29.58it/s]\n"
     ]
    },
    {
     "name": "stdout",
     "output_type": "stream",
     "text": [
      "Epoch [58/100], Step[938/938], d_loss: 1.0922, g_loss: 0.9166, D(x): 0.59, D(G(z)): 0.34\n",
      "running epoch number: 58\n"
     ]
    },
    {
     "name": "stderr",
     "output_type": "stream",
     "text": [
      "938it [00:33, 28.23it/s]\n"
     ]
    },
    {
     "name": "stdout",
     "output_type": "stream",
     "text": [
      "Epoch [59/100], Step[938/938], d_loss: 1.0284, g_loss: 0.9886, D(x): 0.60, D(G(z)): 0.33\n",
      "running epoch number: 59\n"
     ]
    },
    {
     "name": "stderr",
     "output_type": "stream",
     "text": [
      "938it [00:33, 28.25it/s]\n"
     ]
    },
    {
     "name": "stdout",
     "output_type": "stream",
     "text": [
      "Epoch [60/100], Step[938/938], d_loss: 1.1527, g_loss: 1.1321, D(x): 0.61, D(G(z)): 0.40\n",
      "running epoch number: 60\n"
     ]
    },
    {
     "name": "stderr",
     "output_type": "stream",
     "text": [
      "938it [00:33, 27.86it/s]\n"
     ]
    },
    {
     "name": "stdout",
     "output_type": "stream",
     "text": [
      "Epoch [61/100], Step[938/938], d_loss: 1.1916, g_loss: 0.9578, D(x): 0.59, D(G(z)): 0.39\n",
      "running epoch number: 61\n"
     ]
    },
    {
     "name": "stderr",
     "output_type": "stream",
     "text": [
      "938it [00:33, 27.91it/s]\n"
     ]
    },
    {
     "name": "stdout",
     "output_type": "stream",
     "text": [
      "Epoch [62/100], Step[938/938], d_loss: 1.2013, g_loss: 1.0987, D(x): 0.51, D(G(z)): 0.35\n",
      "running epoch number: 62\n"
     ]
    },
    {
     "name": "stderr",
     "output_type": "stream",
     "text": [
      "938it [00:33, 27.77it/s]\n"
     ]
    },
    {
     "name": "stdout",
     "output_type": "stream",
     "text": [
      "Epoch [63/100], Step[938/938], d_loss: 1.1648, g_loss: 0.9863, D(x): 0.61, D(G(z)): 0.41\n",
      "running epoch number: 63\n"
     ]
    },
    {
     "name": "stderr",
     "output_type": "stream",
     "text": [
      "938it [00:34, 27.40it/s]\n"
     ]
    },
    {
     "name": "stdout",
     "output_type": "stream",
     "text": [
      "Epoch [64/100], Step[938/938], d_loss: 1.1482, g_loss: 0.9847, D(x): 0.60, D(G(z)): 0.42\n",
      "running epoch number: 64\n"
     ]
    },
    {
     "name": "stderr",
     "output_type": "stream",
     "text": [
      "938it [00:33, 28.35it/s]\n"
     ]
    },
    {
     "name": "stdout",
     "output_type": "stream",
     "text": [
      "Epoch [65/100], Step[938/938], d_loss: 1.0619, g_loss: 1.0846, D(x): 0.65, D(G(z)): 0.40\n",
      "running epoch number: 65\n"
     ]
    },
    {
     "name": "stderr",
     "output_type": "stream",
     "text": [
      "938it [00:33, 27.97it/s]\n"
     ]
    },
    {
     "name": "stdout",
     "output_type": "stream",
     "text": [
      "Epoch [66/100], Step[938/938], d_loss: 1.1185, g_loss: 0.9440, D(x): 0.66, D(G(z)): 0.43\n",
      "running epoch number: 66\n"
     ]
    },
    {
     "name": "stderr",
     "output_type": "stream",
     "text": [
      "938it [00:33, 28.36it/s]\n"
     ]
    },
    {
     "name": "stdout",
     "output_type": "stream",
     "text": [
      "Epoch [67/100], Step[938/938], d_loss: 1.2600, g_loss: 1.0143, D(x): 0.55, D(G(z)): 0.40\n",
      "running epoch number: 67\n"
     ]
    },
    {
     "name": "stderr",
     "output_type": "stream",
     "text": [
      "938it [00:32, 28.47it/s]\n"
     ]
    },
    {
     "name": "stdout",
     "output_type": "stream",
     "text": [
      "Epoch [68/100], Step[938/938], d_loss: 1.1082, g_loss: 1.2139, D(x): 0.62, D(G(z)): 0.39\n",
      "running epoch number: 68\n"
     ]
    },
    {
     "name": "stderr",
     "output_type": "stream",
     "text": [
      "938it [00:31, 29.38it/s]\n"
     ]
    },
    {
     "name": "stdout",
     "output_type": "stream",
     "text": [
      "Epoch [69/100], Step[938/938], d_loss: 1.1292, g_loss: 1.2723, D(x): 0.60, D(G(z)): 0.37\n",
      "running epoch number: 69\n"
     ]
    },
    {
     "name": "stderr",
     "output_type": "stream",
     "text": [
      "938it [00:32, 28.68it/s]\n"
     ]
    },
    {
     "name": "stdout",
     "output_type": "stream",
     "text": [
      "Epoch [70/100], Step[938/938], d_loss: 1.1528, g_loss: 0.8030, D(x): 0.61, D(G(z)): 0.41\n",
      "running epoch number: 70\n"
     ]
    },
    {
     "name": "stderr",
     "output_type": "stream",
     "text": [
      "938it [00:32, 28.95it/s]\n"
     ]
    },
    {
     "name": "stdout",
     "output_type": "stream",
     "text": [
      "Epoch [71/100], Step[938/938], d_loss: 1.1843, g_loss: 0.9275, D(x): 0.58, D(G(z)): 0.42\n",
      "running epoch number: 71\n"
     ]
    },
    {
     "name": "stderr",
     "output_type": "stream",
     "text": [
      "938it [00:33, 27.96it/s]\n"
     ]
    },
    {
     "name": "stdout",
     "output_type": "stream",
     "text": [
      "Epoch [72/100], Step[938/938], d_loss: 1.1627, g_loss: 0.8960, D(x): 0.57, D(G(z)): 0.39\n",
      "running epoch number: 72\n"
     ]
    },
    {
     "name": "stderr",
     "output_type": "stream",
     "text": [
      "938it [00:33, 28.08it/s]\n"
     ]
    },
    {
     "name": "stdout",
     "output_type": "stream",
     "text": [
      "Epoch [73/100], Step[938/938], d_loss: 1.1850, g_loss: 1.0889, D(x): 0.62, D(G(z)): 0.43\n",
      "running epoch number: 73\n"
     ]
    },
    {
     "name": "stderr",
     "output_type": "stream",
     "text": [
      "938it [00:33, 28.09it/s]\n"
     ]
    },
    {
     "name": "stdout",
     "output_type": "stream",
     "text": [
      "Epoch [74/100], Step[938/938], d_loss: 1.3004, g_loss: 0.9692, D(x): 0.58, D(G(z)): 0.42\n",
      "running epoch number: 74\n"
     ]
    },
    {
     "name": "stderr",
     "output_type": "stream",
     "text": [
      "938it [00:33, 27.63it/s]\n"
     ]
    },
    {
     "name": "stdout",
     "output_type": "stream",
     "text": [
      "Epoch [75/100], Step[938/938], d_loss: 1.2042, g_loss: 1.1945, D(x): 0.62, D(G(z)): 0.43\n",
      "running epoch number: 75\n"
     ]
    },
    {
     "name": "stderr",
     "output_type": "stream",
     "text": [
      "938it [00:33, 28.16it/s]\n"
     ]
    },
    {
     "name": "stdout",
     "output_type": "stream",
     "text": [
      "Epoch [76/100], Step[938/938], d_loss: 1.1759, g_loss: 0.8843, D(x): 0.64, D(G(z)): 0.43\n",
      "running epoch number: 76\n"
     ]
    },
    {
     "name": "stderr",
     "output_type": "stream",
     "text": [
      "938it [00:32, 28.82it/s]\n"
     ]
    },
    {
     "name": "stdout",
     "output_type": "stream",
     "text": [
      "Epoch [77/100], Step[938/938], d_loss: 1.1095, g_loss: 1.0416, D(x): 0.62, D(G(z)): 0.40\n",
      "running epoch number: 77\n"
     ]
    },
    {
     "name": "stderr",
     "output_type": "stream",
     "text": [
      "938it [00:32, 28.76it/s]\n"
     ]
    },
    {
     "name": "stdout",
     "output_type": "stream",
     "text": [
      "Epoch [78/100], Step[938/938], d_loss: 1.2097, g_loss: 1.0339, D(x): 0.56, D(G(z)): 0.39\n",
      "running epoch number: 78\n"
     ]
    },
    {
     "name": "stderr",
     "output_type": "stream",
     "text": [
      "938it [00:33, 27.83it/s]\n"
     ]
    },
    {
     "name": "stdout",
     "output_type": "stream",
     "text": [
      "Epoch [79/100], Step[938/938], d_loss: 1.1107, g_loss: 1.0991, D(x): 0.63, D(G(z)): 0.40\n",
      "running epoch number: 79\n"
     ]
    },
    {
     "name": "stderr",
     "output_type": "stream",
     "text": [
      "938it [00:33, 28.13it/s]\n"
     ]
    },
    {
     "name": "stdout",
     "output_type": "stream",
     "text": [
      "Epoch [80/100], Step[938/938], d_loss: 1.4154, g_loss: 1.0919, D(x): 0.56, D(G(z)): 0.45\n",
      "running epoch number: 80\n"
     ]
    },
    {
     "name": "stderr",
     "output_type": "stream",
     "text": [
      "938it [00:33, 27.68it/s]\n"
     ]
    },
    {
     "name": "stdout",
     "output_type": "stream",
     "text": [
      "Epoch [81/100], Step[938/938], d_loss: 1.2624, g_loss: 0.9095, D(x): 0.57, D(G(z)): 0.44\n",
      "running epoch number: 81\n"
     ]
    },
    {
     "name": "stderr",
     "output_type": "stream",
     "text": [
      "938it [00:34, 27.56it/s]\n"
     ]
    },
    {
     "name": "stdout",
     "output_type": "stream",
     "text": [
      "Epoch [82/100], Step[938/938], d_loss: 1.3299, g_loss: 0.9769, D(x): 0.53, D(G(z)): 0.43\n",
      "running epoch number: 82\n"
     ]
    },
    {
     "name": "stderr",
     "output_type": "stream",
     "text": [
      "938it [00:33, 28.29it/s]\n"
     ]
    },
    {
     "name": "stdout",
     "output_type": "stream",
     "text": [
      "Epoch [83/100], Step[938/938], d_loss: 1.0182, g_loss: 0.8783, D(x): 0.65, D(G(z)): 0.38\n",
      "running epoch number: 83\n"
     ]
    },
    {
     "name": "stderr",
     "output_type": "stream",
     "text": [
      "938it [00:33, 27.71it/s]\n"
     ]
    },
    {
     "name": "stdout",
     "output_type": "stream",
     "text": [
      "Epoch [84/100], Step[938/938], d_loss: 1.1359, g_loss: 0.9937, D(x): 0.59, D(G(z)): 0.40\n",
      "running epoch number: 84\n"
     ]
    },
    {
     "name": "stderr",
     "output_type": "stream",
     "text": [
      "938it [00:33, 28.39it/s]\n"
     ]
    },
    {
     "name": "stdout",
     "output_type": "stream",
     "text": [
      "Epoch [85/100], Step[938/938], d_loss: 1.1923, g_loss: 0.8128, D(x): 0.60, D(G(z)): 0.40\n",
      "running epoch number: 85\n"
     ]
    },
    {
     "name": "stderr",
     "output_type": "stream",
     "text": [
      "938it [00:33, 27.91it/s]\n"
     ]
    },
    {
     "name": "stdout",
     "output_type": "stream",
     "text": [
      "Epoch [86/100], Step[938/938], d_loss: 1.0514, g_loss: 0.9813, D(x): 0.63, D(G(z)): 0.39\n",
      "running epoch number: 86\n"
     ]
    },
    {
     "name": "stderr",
     "output_type": "stream",
     "text": [
      "938it [00:33, 28.00it/s]\n"
     ]
    },
    {
     "name": "stdout",
     "output_type": "stream",
     "text": [
      "Epoch [87/100], Step[938/938], d_loss: 1.1173, g_loss: 0.8609, D(x): 0.61, D(G(z)): 0.41\n",
      "running epoch number: 87\n"
     ]
    },
    {
     "name": "stderr",
     "output_type": "stream",
     "text": [
      "938it [00:33, 28.04it/s]\n"
     ]
    },
    {
     "name": "stdout",
     "output_type": "stream",
     "text": [
      "Epoch [88/100], Step[938/938], d_loss: 1.1209, g_loss: 0.9510, D(x): 0.60, D(G(z)): 0.39\n",
      "running epoch number: 88\n"
     ]
    },
    {
     "name": "stderr",
     "output_type": "stream",
     "text": [
      "938it [00:33, 28.22it/s]\n"
     ]
    },
    {
     "name": "stdout",
     "output_type": "stream",
     "text": [
      "Epoch [89/100], Step[938/938], d_loss: 1.2248, g_loss: 1.0922, D(x): 0.57, D(G(z)): 0.41\n",
      "running epoch number: 89\n"
     ]
    },
    {
     "name": "stderr",
     "output_type": "stream",
     "text": [
      "938it [00:33, 27.92it/s]\n"
     ]
    },
    {
     "name": "stdout",
     "output_type": "stream",
     "text": [
      "Epoch [90/100], Step[938/938], d_loss: 1.2627, g_loss: 1.0858, D(x): 0.60, D(G(z)): 0.45\n",
      "running epoch number: 90\n"
     ]
    },
    {
     "name": "stderr",
     "output_type": "stream",
     "text": [
      "938it [00:33, 27.77it/s]\n"
     ]
    },
    {
     "name": "stdout",
     "output_type": "stream",
     "text": [
      "Epoch [91/100], Step[938/938], d_loss: 1.1451, g_loss: 0.9488, D(x): 0.54, D(G(z)): 0.35\n",
      "running epoch number: 91\n"
     ]
    },
    {
     "name": "stderr",
     "output_type": "stream",
     "text": [
      "938it [00:32, 28.71it/s]\n"
     ]
    },
    {
     "name": "stdout",
     "output_type": "stream",
     "text": [
      "Epoch [92/100], Step[938/938], d_loss: 1.1526, g_loss: 1.1750, D(x): 0.59, D(G(z)): 0.38\n",
      "running epoch number: 92\n"
     ]
    },
    {
     "name": "stderr",
     "output_type": "stream",
     "text": [
      "938it [00:33, 28.18it/s]\n"
     ]
    },
    {
     "name": "stdout",
     "output_type": "stream",
     "text": [
      "Epoch [93/100], Step[938/938], d_loss: 1.2660, g_loss: 1.1039, D(x): 0.64, D(G(z)): 0.46\n",
      "running epoch number: 93\n"
     ]
    },
    {
     "name": "stderr",
     "output_type": "stream",
     "text": [
      "938it [00:32, 28.62it/s]\n"
     ]
    },
    {
     "name": "stdout",
     "output_type": "stream",
     "text": [
      "Epoch [94/100], Step[938/938], d_loss: 0.9599, g_loss: 1.0879, D(x): 0.62, D(G(z)): 0.31\n",
      "running epoch number: 94\n"
     ]
    },
    {
     "name": "stderr",
     "output_type": "stream",
     "text": [
      "938it [00:33, 28.01it/s]\n"
     ]
    },
    {
     "name": "stdout",
     "output_type": "stream",
     "text": [
      "Epoch [95/100], Step[938/938], d_loss: 0.9840, g_loss: 0.9508, D(x): 0.59, D(G(z)): 0.30\n",
      "running epoch number: 95\n"
     ]
    },
    {
     "name": "stderr",
     "output_type": "stream",
     "text": [
      "938it [00:33, 28.31it/s]\n"
     ]
    },
    {
     "name": "stdout",
     "output_type": "stream",
     "text": [
      "Epoch [96/100], Step[938/938], d_loss: 1.1136, g_loss: 0.8687, D(x): 0.63, D(G(z)): 0.43\n",
      "running epoch number: 96\n"
     ]
    },
    {
     "name": "stderr",
     "output_type": "stream",
     "text": [
      "938it [00:33, 28.06it/s]\n"
     ]
    },
    {
     "name": "stdout",
     "output_type": "stream",
     "text": [
      "Epoch [97/100], Step[938/938], d_loss: 1.1706, g_loss: 1.0913, D(x): 0.55, D(G(z)): 0.37\n",
      "running epoch number: 97\n"
     ]
    },
    {
     "name": "stderr",
     "output_type": "stream",
     "text": [
      "938it [00:33, 28.21it/s]\n"
     ]
    },
    {
     "name": "stdout",
     "output_type": "stream",
     "text": [
      "Epoch [98/100], Step[938/938], d_loss: 1.1680, g_loss: 0.9122, D(x): 0.58, D(G(z)): 0.37\n",
      "running epoch number: 98\n"
     ]
    },
    {
     "name": "stderr",
     "output_type": "stream",
     "text": [
      "938it [00:33, 27.99it/s]\n"
     ]
    },
    {
     "name": "stdout",
     "output_type": "stream",
     "text": [
      "Epoch [99/100], Step[938/938], d_loss: 1.1125, g_loss: 0.8892, D(x): 0.66, D(G(z)): 0.43\n",
      "running epoch number: 99\n"
     ]
    },
    {
     "name": "stderr",
     "output_type": "stream",
     "text": [
      "938it [00:33, 27.82it/s]\n"
     ]
    },
    {
     "name": "stdout",
     "output_type": "stream",
     "text": [
      "Epoch [100/100], Step[938/938], d_loss: 1.0844, g_loss: 1.0037, D(x): 0.58, D(G(z)): 0.34\n"
     ]
    },
    {
     "data": {
      "image/png": "[encoded data removed]",
      "text/plain": [
       "<Figure size 500x500 with 1 Axes>"
      ]
     },
     "metadata": {},
     "output_type": "display_data"
    },
    {
     "name": "stdout",
     "output_type": "stream",
     "text": [
      "running trial number: 2\n",
      "Batch Size: 64\n",
      "Learning Rate: 1.8491421805403017e-05\n",
      "Optimizer: AdamW\n",
      "running epoch number: 0\n"
     ]
    },
    {
     "name": "stderr",
     "output_type": "stream",
     "text": [
      "938it [00:34, 27.55it/s]\n"
     ]
    },
    {
     "name": "stdout",
     "output_type": "stream",
     "text": [
      "Epoch [1/100], Step[938/938], d_loss: 0.2129, g_loss: 2.3947, D(x): 0.94, D(G(z)): 0.13\n",
      "running epoch number: 1\n"
     ]
    },
    {
     "name": "stderr",
     "output_type": "stream",
     "text": [
      "938it [00:34, 27.35it/s]\n"
     ]
    },
    {
     "name": "stdout",
     "output_type": "stream",
     "text": [
      "Epoch [2/100], Step[938/938], d_loss: 0.0973, g_loss: 4.9689, D(x): 0.99, D(G(z)): 0.07\n",
      "running epoch number: 2\n"
     ]
    },
    {
     "name": "stderr",
     "output_type": "stream",
     "text": [
      "938it [00:34, 27.53it/s]\n"
     ]
    },
    {
     "name": "stdout",
     "output_type": "stream",
     "text": [
      "Epoch [3/100], Step[938/938], d_loss: 0.0721, g_loss: 4.6611, D(x): 0.97, D(G(z)): 0.03\n",
      "running epoch number: 3\n"
     ]
    },
    {
     "name": "stderr",
     "output_type": "stream",
     "text": [
      "938it [00:33, 27.86it/s]\n"
     ]
    },
    {
     "name": "stdout",
     "output_type": "stream",
     "text": [
      "Epoch [4/100], Step[938/938], d_loss: 0.0124, g_loss: 5.2718, D(x): 1.00, D(G(z)): 0.01\n",
      "running epoch number: 4\n"
     ]
    },
    {
     "name": "stderr",
     "output_type": "stream",
     "text": [
      "938it [00:34, 27.47it/s]\n"
     ]
    },
    {
     "name": "stdout",
     "output_type": "stream",
     "text": [
      "Epoch [5/100], Step[938/938], d_loss: 0.0060, g_loss: 7.0042, D(x): 1.00, D(G(z)): 0.01\n",
      "running epoch number: 5\n"
     ]
    },
    {
     "name": "stderr",
     "output_type": "stream",
     "text": [
      "938it [00:34, 27.14it/s]\n"
     ]
    },
    {
     "name": "stdout",
     "output_type": "stream",
     "text": [
      "Epoch [6/100], Step[938/938], d_loss: 0.0045, g_loss: 6.7101, D(x): 1.00, D(G(z)): 0.00\n",
      "running epoch number: 6\n"
     ]
    },
    {
     "name": "stderr",
     "output_type": "stream",
     "text": [
      "938it [00:34, 26.98it/s]\n"
     ]
    },
    {
     "name": "stdout",
     "output_type": "stream",
     "text": [
      "Epoch [7/100], Step[938/938], d_loss: 0.0077, g_loss: 5.1905, D(x): 1.00, D(G(z)): 0.01\n",
      "running epoch number: 7\n"
     ]
    },
    {
     "name": "stderr",
     "output_type": "stream",
     "text": [
      "938it [00:34, 27.38it/s]\n"
     ]
    },
    {
     "name": "stdout",
     "output_type": "stream",
     "text": [
      "Epoch [8/100], Step[938/938], d_loss: 0.0109, g_loss: 8.8865, D(x): 1.00, D(G(z)): 0.01\n",
      "running epoch number: 8\n"
     ]
    },
    {
     "name": "stderr",
     "output_type": "stream",
     "text": [
      "938it [00:34, 27.55it/s]\n"
     ]
    },
    {
     "name": "stdout",
     "output_type": "stream",
     "text": [
      "Epoch [9/100], Step[938/938], d_loss: 0.0432, g_loss: 7.1163, D(x): 0.98, D(G(z)): 0.01\n",
      "running epoch number: 9\n"
     ]
    },
    {
     "name": "stderr",
     "output_type": "stream",
     "text": [
      "938it [00:34, 27.45it/s]\n"
     ]
    },
    {
     "name": "stdout",
     "output_type": "stream",
     "text": [
      "Epoch [10/100], Step[938/938], d_loss: 0.0121, g_loss: 8.9982, D(x): 1.00, D(G(z)): 0.01\n",
      "running epoch number: 10\n"
     ]
    },
    {
     "name": "stderr",
     "output_type": "stream",
     "text": [
      "938it [00:34, 27.08it/s]\n"
     ]
    },
    {
     "name": "stdout",
     "output_type": "stream",
     "text": [
      "Epoch [11/100], Step[938/938], d_loss: 0.0010, g_loss: 9.5054, D(x): 1.00, D(G(z)): 0.00\n",
      "running epoch number: 11\n"
     ]
    },
    {
     "name": "stderr",
     "output_type": "stream",
     "text": [
      "938it [00:34, 27.17it/s]\n"
     ]
    },
    {
     "name": "stdout",
     "output_type": "stream",
     "text": [
      "Epoch [12/100], Step[938/938], d_loss: 0.0028, g_loss: 10.2610, D(x): 1.00, D(G(z)): 0.00\n",
      "running epoch number: 12\n"
     ]
    },
    {
     "name": "stderr",
     "output_type": "stream",
     "text": [
      "938it [00:34, 27.22it/s]\n"
     ]
    },
    {
     "name": "stdout",
     "output_type": "stream",
     "text": [
      "Epoch [13/100], Step[938/938], d_loss: 0.0002, g_loss: 10.0951, D(x): 1.00, D(G(z)): 0.00\n",
      "running epoch number: 13\n"
     ]
    },
    {
     "name": "stderr",
     "output_type": "stream",
     "text": [
      "938it [00:34, 26.96it/s]\n"
     ]
    },
    {
     "name": "stdout",
     "output_type": "stream",
     "text": [
      "Epoch [14/100], Step[938/938], d_loss: 0.0053, g_loss: 8.6653, D(x): 1.00, D(G(z)): 0.00\n",
      "running epoch number: 14\n"
     ]
    },
    {
     "name": "stderr",
     "output_type": "stream",
     "text": [
      "938it [00:33, 27.64it/s]\n"
     ]
    },
    {
     "name": "stdout",
     "output_type": "stream",
     "text": [
      "Epoch [15/100], Step[938/938], d_loss: 0.0048, g_loss: 7.5891, D(x): 1.00, D(G(z)): 0.00\n",
      "running epoch number: 15\n"
     ]
    },
    {
     "name": "stderr",
     "output_type": "stream",
     "text": [
      "938it [00:34, 27.02it/s]\n"
     ]
    },
    {
     "name": "stdout",
     "output_type": "stream",
     "text": [
      "Epoch [16/100], Step[938/938], d_loss: 0.0026, g_loss: 9.5186, D(x): 1.00, D(G(z)): 0.00\n",
      "running epoch number: 16\n"
     ]
    },
    {
     "name": "stderr",
     "output_type": "stream",
     "text": [
      "938it [00:33, 27.71it/s]\n"
     ]
    },
    {
     "name": "stdout",
     "output_type": "stream",
     "text": [
      "Epoch [17/100], Step[938/938], d_loss: 0.0054, g_loss: 8.7334, D(x): 1.00, D(G(z)): 0.00\n",
      "running epoch number: 17\n"
     ]
    },
    {
     "name": "stderr",
     "output_type": "stream",
     "text": [
      "938it [00:34, 27.13it/s]\n"
     ]
    },
    {
     "name": "stdout",
     "output_type": "stream",
     "text": [
      "Epoch [18/100], Step[938/938], d_loss: 0.0629, g_loss: 7.4389, D(x): 0.97, D(G(z)): 0.00\n",
      "running epoch number: 18\n"
     ]
    },
    {
     "name": "stderr",
     "output_type": "stream",
     "text": [
      "938it [00:34, 27.55it/s]\n"
     ]
    },
    {
     "name": "stdout",
     "output_type": "stream",
     "text": [
      "Epoch [19/100], Step[938/938], d_loss: 0.0050, g_loss: 7.7297, D(x): 1.00, D(G(z)): 0.00\n",
      "running epoch number: 19\n"
     ]
    },
    {
     "name": "stderr",
     "output_type": "stream",
     "text": [
      "938it [00:34, 27.25it/s]\n"
     ]
    },
    {
     "name": "stdout",
     "output_type": "stream",
     "text": [
      "Epoch [20/100], Step[938/938], d_loss: 0.0112, g_loss: 10.4172, D(x): 0.99, D(G(z)): 0.00\n",
      "running epoch number: 20\n"
     ]
    },
    {
     "name": "stderr",
     "output_type": "stream",
     "text": [
      "938it [00:34, 27.03it/s]\n"
     ]
    },
    {
     "name": "stdout",
     "output_type": "stream",
     "text": [
      "Epoch [21/100], Step[938/938], d_loss: 0.0121, g_loss: 9.2849, D(x): 1.00, D(G(z)): 0.01\n",
      "running epoch number: 21\n"
     ]
    },
    {
     "name": "stderr",
     "output_type": "stream",
     "text": [
      "938it [00:33, 27.90it/s]\n"
     ]
    },
    {
     "name": "stdout",
     "output_type": "stream",
     "text": [
      "Epoch [22/100], Step[938/938], d_loss: 0.0218, g_loss: 12.2760, D(x): 1.00, D(G(z)): 0.02\n",
      "running epoch number: 22\n"
     ]
    },
    {
     "name": "stderr",
     "output_type": "stream",
     "text": [
      "938it [00:33, 27.87it/s]\n"
     ]
    },
    {
     "name": "stdout",
     "output_type": "stream",
     "text": [
      "Epoch [23/100], Step[938/938], d_loss: 0.0075, g_loss: 10.8954, D(x): 1.00, D(G(z)): 0.01\n",
      "running epoch number: 23\n"
     ]
    },
    {
     "name": "stderr",
     "output_type": "stream",
     "text": [
      "938it [00:32, 28.65it/s]\n"
     ]
    },
    {
     "name": "stdout",
     "output_type": "stream",
     "text": [
      "Epoch [24/100], Step[938/938], d_loss: 0.0012, g_loss: 12.7198, D(x): 1.00, D(G(z)): 0.00\n",
      "running epoch number: 24\n"
     ]
    },
    {
     "name": "stderr",
     "output_type": "stream",
     "text": [
      "938it [00:32, 28.67it/s]\n"
     ]
    },
    {
     "name": "stdout",
     "output_type": "stream",
     "text": [
      "Epoch [25/100], Step[938/938], d_loss: 0.0356, g_loss: 12.2785, D(x): 1.00, D(G(z)): 0.03\n",
      "running epoch number: 25\n"
     ]
    },
    {
     "name": "stderr",
     "output_type": "stream",
     "text": [
      "938it [00:32, 28.80it/s]\n"
     ]
    },
    {
     "name": "stdout",
     "output_type": "stream",
     "text": [
      "Epoch [26/100], Step[938/938], d_loss: 0.0082, g_loss: 6.3992, D(x): 1.00, D(G(z)): 0.01\n",
      "running epoch number: 26\n"
     ]
    },
    {
     "name": "stderr",
     "output_type": "stream",
     "text": [
      "938it [00:32, 28.79it/s]\n"
     ]
    },
    {
     "name": "stdout",
     "output_type": "stream",
     "text": [
      "Epoch [27/100], Step[938/938], d_loss: 0.0005, g_loss: 10.3389, D(x): 1.00, D(G(z)): 0.00\n",
      "running epoch number: 27\n"
     ]
    },
    {
     "name": "stderr",
     "output_type": "stream",
     "text": [
      "938it [00:32, 28.82it/s]\n"
     ]
    },
    {
     "name": "stdout",
     "output_type": "stream",
     "text": [
      "Epoch [28/100], Step[938/938], d_loss: 0.0259, g_loss: 6.2987, D(x): 0.98, D(G(z)): 0.00\n",
      "running epoch number: 28\n"
     ]
    },
    {
     "name": "stderr",
     "output_type": "stream",
     "text": [
      "938it [00:32, 28.78it/s]\n"
     ]
    },
    {
     "name": "stdout",
     "output_type": "stream",
     "text": [
      "Epoch [29/100], Step[938/938], d_loss: 0.0005, g_loss: 7.8479, D(x): 1.00, D(G(z)): 0.00\n",
      "running epoch number: 29\n"
     ]
    },
    {
     "name": "stderr",
     "output_type": "stream",
     "text": [
      "938it [00:33, 28.39it/s]\n"
     ]
    },
    {
     "name": "stdout",
     "output_type": "stream",
     "text": [
      "Epoch [30/100], Step[938/938], d_loss: 0.0001, g_loss: 14.5471, D(x): 1.00, D(G(z)): 0.00\n",
      "running epoch number: 30\n"
     ]
    },
    {
     "name": "stderr",
     "output_type": "stream",
     "text": [
      "938it [00:32, 28.79it/s]\n"
     ]
    },
    {
     "name": "stdout",
     "output_type": "stream",
     "text": [
      "Epoch [31/100], Step[938/938], d_loss: 0.0088, g_loss: 7.0751, D(x): 1.00, D(G(z)): 0.01\n",
      "running epoch number: 31\n"
     ]
    },
    {
     "name": "stderr",
     "output_type": "stream",
     "text": [
      "938it [00:32, 28.52it/s]\n"
     ]
    },
    {
     "name": "stdout",
     "output_type": "stream",
     "text": [
      "Epoch [32/100], Step[938/938], d_loss: 0.0001, g_loss: 12.4830, D(x): 1.00, D(G(z)): 0.00\n",
      "running epoch number: 32\n"
     ]
    },
    {
     "name": "stderr",
     "output_type": "stream",
     "text": [
      "938it [00:32, 28.68it/s]\n"
     ]
    },
    {
     "name": "stdout",
     "output_type": "stream",
     "text": [
      "Epoch [33/100], Step[938/938], d_loss: 0.0189, g_loss: 8.1093, D(x): 1.00, D(G(z)): 0.01\n",
      "running epoch number: 33\n"
     ]
    },
    {
     "name": "stderr",
     "output_type": "stream",
     "text": [
      "938it [00:32, 28.65it/s]\n"
     ]
    },
    {
     "name": "stdout",
     "output_type": "stream",
     "text": [
      "Epoch [34/100], Step[938/938], d_loss: 0.0047, g_loss: 10.2421, D(x): 1.00, D(G(z)): 0.00\n",
      "running epoch number: 34\n"
     ]
    },
    {
     "name": "stderr",
     "output_type": "stream",
     "text": [
      "938it [00:32, 28.84it/s]\n"
     ]
    },
    {
     "name": "stdout",
     "output_type": "stream",
     "text": [
      "Epoch [35/100], Step[938/938], d_loss: 0.0015, g_loss: 14.6322, D(x): 1.00, D(G(z)): 0.00\n",
      "running epoch number: 35\n"
     ]
    },
    {
     "name": "stderr",
     "output_type": "stream",
     "text": [
      "938it [00:36, 25.94it/s]\n"
     ]
    },
    {
     "name": "stdout",
     "output_type": "stream",
     "text": [
      "Epoch [36/100], Step[938/938], d_loss: 0.0000, g_loss: 84.6848, D(x): 1.00, D(G(z)): 0.00\n",
      "running epoch number: 36\n"
     ]
    },
    {
     "name": "stderr",
     "output_type": "stream",
     "text": [
      "938it [00:40, 23.40it/s]\n"
     ]
    },
    {
     "name": "stdout",
     "output_type": "stream",
     "text": [
      "Epoch [37/100], Step[938/938], d_loss: 0.0000, g_loss: 75.8538, D(x): 1.00, D(G(z)): 0.00\n",
      "running epoch number: 37\n"
     ]
    },
    {
     "name": "stderr",
     "output_type": "stream",
     "text": [
      "938it [01:01, 15.32it/s]\n"
     ]
    },
    {
     "name": "stdout",
     "output_type": "stream",
     "text": [
      "Epoch [38/100], Step[938/938], d_loss: 0.0000, g_loss: 78.2079, D(x): 1.00, D(G(z)): 0.00\n",
      "running epoch number: 38\n"
     ]
    },
    {
     "name": "stderr",
     "output_type": "stream",
     "text": [
      "938it [01:01, 15.30it/s]\n"
     ]
    },
    {
     "name": "stdout",
     "output_type": "stream",
     "text": [
      "Epoch [39/100], Step[938/938], d_loss: 0.0000, g_loss: 75.6314, D(x): 1.00, D(G(z)): 0.00\n",
      "running epoch number: 39\n"
     ]
    },
    {
     "name": "stderr",
     "output_type": "stream",
     "text": [
      "938it [01:00, 15.46it/s]\n"
     ]
    },
    {
     "name": "stdout",
     "output_type": "stream",
     "text": [
      "Epoch [40/100], Step[938/938], d_loss: 0.0000, g_loss: 74.3124, D(x): 1.00, D(G(z)): 0.00\n",
      "running epoch number: 40\n"
     ]
    },
    {
     "name": "stderr",
     "output_type": "stream",
     "text": [
      "938it [01:02, 15.02it/s]\n"
     ]
    },
    {
     "name": "stdout",
     "output_type": "stream",
     "text": [
      "Epoch [41/100], Step[938/938], d_loss: 0.0000, g_loss: 75.6242, D(x): 1.00, D(G(z)): 0.00\n",
      "running epoch number: 41\n"
     ]
    },
    {
     "name": "stderr",
     "output_type": "stream",
     "text": [
      "938it [01:01, 15.14it/s]\n"
     ]
    },
    {
     "name": "stdout",
     "output_type": "stream",
     "text": [
      "Epoch [42/100], Step[938/938], d_loss: 0.0000, g_loss: 77.3851, D(x): 1.00, D(G(z)): 0.00\n",
      "running epoch number: 42\n"
     ]
    },
    {
     "name": "stderr",
     "output_type": "stream",
     "text": [
      "938it [01:01, 15.21it/s]\n"
     ]
    },
    {
     "name": "stdout",
     "output_type": "stream",
     "text": [
      "Epoch [43/100], Step[938/938], d_loss: 0.0000, g_loss: 77.0047, D(x): 1.00, D(G(z)): 0.00\n",
      "running epoch number: 43\n"
     ]
    },
    {
     "name": "stderr",
     "output_type": "stream",
     "text": [
      "938it [01:02, 14.93it/s]\n"
     ]
    },
    {
     "name": "stdout",
     "output_type": "stream",
     "text": [
      "Epoch [44/100], Step[938/938], d_loss: 0.0000, g_loss: 75.6214, D(x): 1.00, D(G(z)): 0.00\n",
      "running epoch number: 44\n"
     ]
    },
    {
     "name": "stderr",
     "output_type": "stream",
     "text": [
      "938it [01:02, 14.91it/s]\n"
     ]
    },
    {
     "name": "stdout",
     "output_type": "stream",
     "text": [
      "Epoch [45/100], Step[938/938], d_loss: 0.0000, g_loss: 75.8915, D(x): 1.00, D(G(z)): 0.00\n",
      "running epoch number: 45\n"
     ]
    },
    {
     "name": "stderr",
     "output_type": "stream",
     "text": [
      "938it [01:03, 14.82it/s]\n"
     ]
    },
    {
     "name": "stdout",
     "output_type": "stream",
     "text": [
      "Epoch [46/100], Step[938/938], d_loss: 0.0000, g_loss: 73.6240, D(x): 1.00, D(G(z)): 0.00\n",
      "running epoch number: 46\n"
     ]
    },
    {
     "name": "stderr",
     "output_type": "stream",
     "text": [
      "938it [01:04, 14.52it/s]\n"
     ]
    },
    {
     "name": "stdout",
     "output_type": "stream",
     "text": [
      "Epoch [47/100], Step[938/938], d_loss: 0.0000, g_loss: 74.6529, D(x): 1.00, D(G(z)): 0.00\n",
      "running epoch number: 47\n"
     ]
    },
    {
     "name": "stderr",
     "output_type": "stream",
     "text": [
      "938it [01:06, 14.04it/s]\n"
     ]
    },
    {
     "name": "stdout",
     "output_type": "stream",
     "text": [
      "Epoch [48/100], Step[938/938], d_loss: 0.0000, g_loss: 74.9146, D(x): 1.00, D(G(z)): 0.00\n",
      "running epoch number: 48\n"
     ]
    },
    {
     "name": "stderr",
     "output_type": "stream",
     "text": [
      "938it [01:08, 13.65it/s]\n"
     ]
    },
    {
     "name": "stdout",
     "output_type": "stream",
     "text": [
      "Epoch [49/100], Step[938/938], d_loss: 0.0000, g_loss: 72.5725, D(x): 1.00, D(G(z)): 0.00\n",
      "running epoch number: 49\n"
     ]
    },
    {
     "name": "stderr",
     "output_type": "stream",
     "text": [
      "938it [01:10, 13.32it/s]\n"
     ]
    },
    {
     "name": "stdout",
     "output_type": "stream",
     "text": [
      "Epoch [50/100], Step[938/938], d_loss: 0.0000, g_loss: 76.0871, D(x): 1.00, D(G(z)): 0.00\n",
      "running epoch number: 50\n"
     ]
    },
    {
     "name": "stderr",
     "output_type": "stream",
     "text": [
      "938it [01:12, 13.02it/s]\n"
     ]
    },
    {
     "name": "stdout",
     "output_type": "stream",
     "text": [
      "Epoch [51/100], Step[938/938], d_loss: 0.0000, g_loss: 71.3756, D(x): 1.00, D(G(z)): 0.00\n",
      "running epoch number: 51\n"
     ]
    },
    {
     "name": "stderr",
     "output_type": "stream",
     "text": [
      "938it [01:16, 12.23it/s]\n"
     ]
    },
    {
     "name": "stdout",
     "output_type": "stream",
     "text": [
      "Epoch [52/100], Step[938/938], d_loss: 0.0000, g_loss: 72.5607, D(x): 1.00, D(G(z)): 0.00\n",
      "running epoch number: 52\n"
     ]
    },
    {
     "name": "stderr",
     "output_type": "stream",
     "text": [
      "938it [01:21, 11.45it/s]\n"
     ]
    },
    {
     "name": "stdout",
     "output_type": "stream",
     "text": [
      "Epoch [53/100], Step[938/938], d_loss: 0.0000, g_loss: 72.1073, D(x): 1.00, D(G(z)): 0.00\n",
      "running epoch number: 53\n"
     ]
    },
    {
     "name": "stderr",
     "output_type": "stream",
     "text": [
      "938it [01:29, 10.47it/s]\n"
     ]
    },
    {
     "name": "stdout",
     "output_type": "stream",
     "text": [
      "Epoch [54/100], Step[938/938], d_loss: 0.0000, g_loss: 95.7633, D(x): 1.00, D(G(z)): 0.00\n",
      "running epoch number: 54\n"
     ]
    },
    {
     "name": "stderr",
     "output_type": "stream",
     "text": [
      "938it [01:10, 13.22it/s]\n"
     ]
    },
    {
     "name": "stdout",
     "output_type": "stream",
     "text": [
      "Epoch [55/100], Step[938/938], d_loss: 0.0005, g_loss: 10.8490, D(x): 1.00, D(G(z)): 0.00\n",
      "running epoch number: 55\n"
     ]
    },
    {
     "name": "stderr",
     "output_type": "stream",
     "text": [
      "938it [00:33, 27.95it/s]\n"
     ]
    },
    {
     "name": "stdout",
     "output_type": "stream",
     "text": [
      "Epoch [56/100], Step[938/938], d_loss: 0.0022, g_loss: 12.0639, D(x): 1.00, D(G(z)): 0.00\n",
      "running epoch number: 56\n"
     ]
    },
    {
     "name": "stderr",
     "output_type": "stream",
     "text": [
      "938it [00:34, 26.84it/s]\n"
     ]
    },
    {
     "name": "stdout",
     "output_type": "stream",
     "text": [
      "Epoch [57/100], Step[938/938], d_loss: 0.0060, g_loss: 11.6786, D(x): 1.00, D(G(z)): 0.00\n",
      "running epoch number: 57\n"
     ]
    },
    {
     "name": "stderr",
     "output_type": "stream",
     "text": [
      "938it [00:34, 27.06it/s]\n"
     ]
    },
    {
     "name": "stdout",
     "output_type": "stream",
     "text": [
      "Epoch [58/100], Step[938/938], d_loss: 0.0025, g_loss: 10.2793, D(x): 1.00, D(G(z)): 0.00\n",
      "running epoch number: 58\n"
     ]
    },
    {
     "name": "stderr",
     "output_type": "stream",
     "text": [
      "938it [00:34, 27.31it/s]\n"
     ]
    },
    {
     "name": "stdout",
     "output_type": "stream",
     "text": [
      "Epoch [59/100], Step[938/938], d_loss: 0.0006, g_loss: 15.2614, D(x): 1.00, D(G(z)): 0.00\n",
      "running epoch number: 59\n"
     ]
    },
    {
     "name": "stderr",
     "output_type": "stream",
     "text": [
      "938it [00:34, 26.94it/s]\n"
     ]
    },
    {
     "name": "stdout",
     "output_type": "stream",
     "text": [
      "Epoch [60/100], Step[938/938], d_loss: 0.0020, g_loss: 8.8242, D(x): 1.00, D(G(z)): 0.00\n",
      "running epoch number: 60\n"
     ]
    },
    {
     "name": "stderr",
     "output_type": "stream",
     "text": [
      "938it [00:34, 27.29it/s]\n"
     ]
    },
    {
     "name": "stdout",
     "output_type": "stream",
     "text": [
      "Epoch [61/100], Step[938/938], d_loss: 0.0002, g_loss: 15.4285, D(x): 1.00, D(G(z)): 0.00\n",
      "running epoch number: 61\n"
     ]
    },
    {
     "name": "stderr",
     "output_type": "stream",
     "text": [
      "938it [00:34, 27.09it/s]\n"
     ]
    },
    {
     "name": "stdout",
     "output_type": "stream",
     "text": [
      "Epoch [62/100], Step[938/938], d_loss: 0.0012, g_loss: 17.6635, D(x): 1.00, D(G(z)): 0.00\n",
      "running epoch number: 62\n"
     ]
    },
    {
     "name": "stderr",
     "output_type": "stream",
     "text": [
      "938it [00:33, 27.82it/s]\n"
     ]
    },
    {
     "name": "stdout",
     "output_type": "stream",
     "text": [
      "Epoch [63/100], Step[938/938], d_loss: 0.0000, g_loss: 19.9756, D(x): 1.00, D(G(z)): 0.00\n",
      "running epoch number: 63\n"
     ]
    },
    {
     "name": "stderr",
     "output_type": "stream",
     "text": [
      "938it [00:34, 27.35it/s]\n"
     ]
    },
    {
     "name": "stdout",
     "output_type": "stream",
     "text": [
      "Epoch [64/100], Step[938/938], d_loss: 0.0001, g_loss: 12.2637, D(x): 1.00, D(G(z)): 0.00\n",
      "running epoch number: 64\n"
     ]
    },
    {
     "name": "stderr",
     "output_type": "stream",
     "text": [
      "938it [00:34, 27.19it/s]\n"
     ]
    },
    {
     "name": "stdout",
     "output_type": "stream",
     "text": [
      "Epoch [65/100], Step[938/938], d_loss: 0.0700, g_loss: 9.8587, D(x): 0.97, D(G(z)): 0.00\n",
      "running epoch number: 65\n"
     ]
    },
    {
     "name": "stderr",
     "output_type": "stream",
     "text": [
      "938it [00:34, 27.47it/s]\n"
     ]
    },
    {
     "name": "stdout",
     "output_type": "stream",
     "text": [
      "Epoch [66/100], Step[938/938], d_loss: 0.0131, g_loss: 10.1843, D(x): 1.00, D(G(z)): 0.01\n",
      "running epoch number: 66\n"
     ]
    },
    {
     "name": "stderr",
     "output_type": "stream",
     "text": [
      "938it [00:34, 27.13it/s]\n"
     ]
    },
    {
     "name": "stdout",
     "output_type": "stream",
     "text": [
      "Epoch [67/100], Step[938/938], d_loss: 0.1486, g_loss: 8.9196, D(x): 0.95, D(G(z)): 0.00\n",
      "running epoch number: 67\n"
     ]
    },
    {
     "name": "stderr",
     "output_type": "stream",
     "text": [
      "938it [00:33, 27.60it/s]\n"
     ]
    },
    {
     "name": "stdout",
     "output_type": "stream",
     "text": [
      "Epoch [68/100], Step[938/938], d_loss: 0.0009, g_loss: 10.9019, D(x): 1.00, D(G(z)): 0.00\n",
      "running epoch number: 68\n"
     ]
    },
    {
     "name": "stderr",
     "output_type": "stream",
     "text": [
      "938it [00:34, 27.28it/s]\n"
     ]
    },
    {
     "name": "stdout",
     "output_type": "stream",
     "text": [
      "Epoch [69/100], Step[938/938], d_loss: 0.0010, g_loss: 9.3475, D(x): 1.00, D(G(z)): 0.00\n",
      "running epoch number: 69\n"
     ]
    },
    {
     "name": "stderr",
     "output_type": "stream",
     "text": [
      "938it [00:34, 27.53it/s]\n"
     ]
    },
    {
     "name": "stdout",
     "output_type": "stream",
     "text": [
      "Epoch [70/100], Step[938/938], d_loss: 0.0025, g_loss: 6.5480, D(x): 1.00, D(G(z)): 0.00\n",
      "running epoch number: 70\n"
     ]
    },
    {
     "name": "stderr",
     "output_type": "stream",
     "text": [
      "938it [00:34, 27.21it/s]\n"
     ]
    },
    {
     "name": "stdout",
     "output_type": "stream",
     "text": [
      "Epoch [71/100], Step[938/938], d_loss: 0.0314, g_loss: 6.0172, D(x): 1.00, D(G(z)): 0.03\n",
      "running epoch number: 71\n"
     ]
    },
    {
     "name": "stderr",
     "output_type": "stream",
     "text": [
      "938it [00:34, 27.23it/s]\n"
     ]
    },
    {
     "name": "stdout",
     "output_type": "stream",
     "text": [
      "Epoch [72/100], Step[938/938], d_loss: 0.0304, g_loss: 5.6201, D(x): 0.98, D(G(z)): 0.01\n",
      "running epoch number: 72\n"
     ]
    },
    {
     "name": "stderr",
     "output_type": "stream",
     "text": [
      "938it [00:34, 27.22it/s]\n"
     ]
    },
    {
     "name": "stdout",
     "output_type": "stream",
     "text": [
      "Epoch [73/100], Step[938/938], d_loss: 0.0391, g_loss: 6.0702, D(x): 1.00, D(G(z)): 0.03\n",
      "running epoch number: 73\n"
     ]
    },
    {
     "name": "stderr",
     "output_type": "stream",
     "text": [
      "938it [00:34, 27.37it/s]\n"
     ]
    },
    {
     "name": "stdout",
     "output_type": "stream",
     "text": [
      "Epoch [74/100], Step[938/938], d_loss: 0.0240, g_loss: 6.2958, D(x): 1.00, D(G(z)): 0.02\n",
      "running epoch number: 74\n"
     ]
    },
    {
     "name": "stderr",
     "output_type": "stream",
     "text": [
      "938it [00:33, 27.61it/s]\n"
     ]
    },
    {
     "name": "stdout",
     "output_type": "stream",
     "text": [
      "Epoch [75/100], Step[938/938], d_loss: 0.0359, g_loss: 5.4791, D(x): 0.98, D(G(z)): 0.01\n",
      "running epoch number: 75\n"
     ]
    },
    {
     "name": "stderr",
     "output_type": "stream",
     "text": [
      "938it [00:34, 27.24it/s]\n"
     ]
    },
    {
     "name": "stdout",
     "output_type": "stream",
     "text": [
      "Epoch [76/100], Step[938/938], d_loss: 0.0372, g_loss: 6.5581, D(x): 0.99, D(G(z)): 0.02\n",
      "running epoch number: 76\n"
     ]
    },
    {
     "name": "stderr",
     "output_type": "stream",
     "text": [
      "938it [00:34, 27.52it/s]\n"
     ]
    },
    {
     "name": "stdout",
     "output_type": "stream",
     "text": [
      "Epoch [77/100], Step[938/938], d_loss: 0.0316, g_loss: 6.6937, D(x): 0.99, D(G(z)): 0.02\n",
      "running epoch number: 77\n"
     ]
    },
    {
     "name": "stderr",
     "output_type": "stream",
     "text": [
      "938it [00:34, 27.24it/s]\n"
     ]
    },
    {
     "name": "stdout",
     "output_type": "stream",
     "text": [
      "Epoch [78/100], Step[938/938], d_loss: 0.0197, g_loss: 5.9164, D(x): 1.00, D(G(z)): 0.02\n",
      "running epoch number: 78\n"
     ]
    },
    {
     "name": "stderr",
     "output_type": "stream",
     "text": [
      "938it [00:34, 27.11it/s]\n"
     ]
    },
    {
     "name": "stdout",
     "output_type": "stream",
     "text": [
      "Epoch [79/100], Step[938/938], d_loss: 0.4433, g_loss: 7.3850, D(x): 0.97, D(G(z)): 0.01\n",
      "running epoch number: 79\n"
     ]
    },
    {
     "name": "stderr",
     "output_type": "stream",
     "text": [
      "938it [00:33, 27.85it/s]\n"
     ]
    },
    {
     "name": "stdout",
     "output_type": "stream",
     "text": [
      "Epoch [80/100], Step[938/938], d_loss: 0.0240, g_loss: 6.0303, D(x): 1.00, D(G(z)): 0.02\n",
      "running epoch number: 80\n"
     ]
    },
    {
     "name": "stderr",
     "output_type": "stream",
     "text": [
      "938it [00:33, 27.79it/s]\n"
     ]
    },
    {
     "name": "stdout",
     "output_type": "stream",
     "text": [
      "Epoch [81/100], Step[938/938], d_loss: 0.0015, g_loss: 7.0051, D(x): 1.00, D(G(z)): 0.00\n",
      "running epoch number: 81\n"
     ]
    },
    {
     "name": "stderr",
     "output_type": "stream",
     "text": [
      "938it [00:32, 28.82it/s]\n"
     ]
    },
    {
     "name": "stdout",
     "output_type": "stream",
     "text": [
      "Epoch [82/100], Step[938/938], d_loss: 0.0153, g_loss: 5.8013, D(x): 1.00, D(G(z)): 0.01\n",
      "running epoch number: 82\n"
     ]
    },
    {
     "name": "stderr",
     "output_type": "stream",
     "text": [
      "938it [00:33, 28.28it/s]\n"
     ]
    },
    {
     "name": "stdout",
     "output_type": "stream",
     "text": [
      "Epoch [83/100], Step[938/938], d_loss: 0.1035, g_loss: 5.4781, D(x): 0.95, D(G(z)): 0.01\n",
      "running epoch number: 83\n"
     ]
    },
    {
     "name": "stderr",
     "output_type": "stream",
     "text": [
      "938it [00:32, 28.77it/s]\n"
     ]
    },
    {
     "name": "stdout",
     "output_type": "stream",
     "text": [
      "Epoch [84/100], Step[938/938], d_loss: 0.1232, g_loss: 6.8316, D(x): 0.97, D(G(z)): 0.04\n",
      "running epoch number: 84\n"
     ]
    },
    {
     "name": "stderr",
     "output_type": "stream",
     "text": [
      "938it [00:33, 27.69it/s]\n"
     ]
    },
    {
     "name": "stdout",
     "output_type": "stream",
     "text": [
      "Epoch [85/100], Step[938/938], d_loss: 0.0339, g_loss: 6.7997, D(x): 0.98, D(G(z)): 0.00\n",
      "running epoch number: 85\n"
     ]
    },
    {
     "name": "stderr",
     "output_type": "stream",
     "text": [
      "938it [00:33, 28.19it/s]\n"
     ]
    },
    {
     "name": "stdout",
     "output_type": "stream",
     "text": [
      "Epoch [86/100], Step[938/938], d_loss: 0.0828, g_loss: 7.1938, D(x): 0.97, D(G(z)): 0.00\n",
      "running epoch number: 86\n"
     ]
    },
    {
     "name": "stderr",
     "output_type": "stream",
     "text": [
      "938it [00:34, 27.30it/s]\n"
     ]
    },
    {
     "name": "stdout",
     "output_type": "stream",
     "text": [
      "Epoch [87/100], Step[938/938], d_loss: 0.0120, g_loss: 6.7308, D(x): 1.00, D(G(z)): 0.01\n",
      "running epoch number: 87\n"
     ]
    },
    {
     "name": "stderr",
     "output_type": "stream",
     "text": [
      "938it [00:34, 27.16it/s]\n"
     ]
    },
    {
     "name": "stdout",
     "output_type": "stream",
     "text": [
      "Epoch [88/100], Step[938/938], d_loss: 0.0046, g_loss: 5.8394, D(x): 1.00, D(G(z)): 0.00\n",
      "running epoch number: 88\n"
     ]
    },
    {
     "name": "stderr",
     "output_type": "stream",
     "text": [
      "938it [00:34, 27.58it/s]\n"
     ]
    },
    {
     "name": "stdout",
     "output_type": "stream",
     "text": [
      "Epoch [89/100], Step[938/938], d_loss: 0.0099, g_loss: 5.8174, D(x): 1.00, D(G(z)): 0.01\n",
      "running epoch number: 89\n"
     ]
    },
    {
     "name": "stderr",
     "output_type": "stream",
     "text": [
      "938it [00:34, 27.24it/s]\n"
     ]
    },
    {
     "name": "stdout",
     "output_type": "stream",
     "text": [
      "Epoch [90/100], Step[938/938], d_loss: 0.0548, g_loss: 5.8116, D(x): 1.00, D(G(z)): 0.04\n",
      "running epoch number: 90\n"
     ]
    },
    {
     "name": "stderr",
     "output_type": "stream",
     "text": [
      "938it [00:34, 27.20it/s]\n"
     ]
    },
    {
     "name": "stdout",
     "output_type": "stream",
     "text": [
      "Epoch [91/100], Step[938/938], d_loss: 0.0157, g_loss: 6.7113, D(x): 1.00, D(G(z)): 0.01\n",
      "running epoch number: 91\n"
     ]
    },
    {
     "name": "stderr",
     "output_type": "stream",
     "text": [
      "938it [00:34, 27.32it/s]\n"
     ]
    },
    {
     "name": "stdout",
     "output_type": "stream",
     "text": [
      "Epoch [92/100], Step[938/938], d_loss: 0.0107, g_loss: 6.4695, D(x): 1.00, D(G(z)): 0.01\n",
      "running epoch number: 92\n"
     ]
    },
    {
     "name": "stderr",
     "output_type": "stream",
     "text": [
      "938it [00:34, 27.58it/s]\n"
     ]
    },
    {
     "name": "stdout",
     "output_type": "stream",
     "text": [
      "Epoch [93/100], Step[938/938], d_loss: 0.0100, g_loss: 5.2949, D(x): 1.00, D(G(z)): 0.01\n",
      "running epoch number: 93\n"
     ]
    },
    {
     "name": "stderr",
     "output_type": "stream",
     "text": [
      "938it [00:34, 27.26it/s]\n"
     ]
    },
    {
     "name": "stdout",
     "output_type": "stream",
     "text": [
      "Epoch [94/100], Step[938/938], d_loss: 0.0187, g_loss: 8.4005, D(x): 1.00, D(G(z)): 0.02\n",
      "running epoch number: 94\n"
     ]
    },
    {
     "name": "stderr",
     "output_type": "stream",
     "text": [
      "938it [00:33, 27.92it/s]\n"
     ]
    },
    {
     "name": "stdout",
     "output_type": "stream",
     "text": [
      "Epoch [95/100], Step[938/938], d_loss: 0.0302, g_loss: 6.9949, D(x): 0.98, D(G(z)): 0.00\n",
      "running epoch number: 95\n"
     ]
    },
    {
     "name": "stderr",
     "output_type": "stream",
     "text": [
      "938it [00:32, 28.78it/s]\n"
     ]
    },
    {
     "name": "stdout",
     "output_type": "stream",
     "text": [
      "Epoch [96/100], Step[938/938], d_loss: 0.0898, g_loss: 5.9383, D(x): 0.95, D(G(z)): 0.02\n",
      "running epoch number: 96\n"
     ]
    },
    {
     "name": "stderr",
     "output_type": "stream",
     "text": [
      "938it [00:33, 28.14it/s]\n"
     ]
    },
    {
     "name": "stdout",
     "output_type": "stream",
     "text": [
      "Epoch [97/100], Step[938/938], d_loss: 0.0703, g_loss: 5.0537, D(x): 0.97, D(G(z)): 0.01\n",
      "running epoch number: 97\n"
     ]
    },
    {
     "name": "stderr",
     "output_type": "stream",
     "text": [
      "938it [00:32, 28.74it/s]\n"
     ]
    },
    {
     "name": "stdout",
     "output_type": "stream",
     "text": [
      "Epoch [98/100], Step[938/938], d_loss: 0.0295, g_loss: 5.9289, D(x): 1.00, D(G(z)): 0.03\n",
      "running epoch number: 98\n"
     ]
    },
    {
     "name": "stderr",
     "output_type": "stream",
     "text": [
      "938it [00:32, 28.55it/s]\n"
     ]
    },
    {
     "name": "stdout",
     "output_type": "stream",
     "text": [
      "Epoch [99/100], Step[938/938], d_loss: 0.0051, g_loss: 6.6630, D(x): 1.00, D(G(z)): 0.01\n",
      "running epoch number: 99\n"
     ]
    },
    {
     "name": "stderr",
     "output_type": "stream",
     "text": [
      "938it [00:32, 28.83it/s]\n"
     ]
    },
    {
     "name": "stdout",
     "output_type": "stream",
     "text": [
      "Epoch [100/100], Step[938/938], d_loss: 0.2840, g_loss: 6.8931, D(x): 0.90, D(G(z)): 0.00\n"
     ]
    },
    {
     "data": {
      "image/png": "[encoded data removed]",
      "text/plain": [
       "<Figure size 500x500 with 1 Axes>"
      ]
     },
     "metadata": {},
     "output_type": "display_data"
    },
    {
     "name": "stdout",
     "output_type": "stream",
     "text": [
      "running trial number: 3\n",
      "Batch Size: 64\n",
      "Learning Rate: 0.00014696656777859752\n",
      "Optimizer: Adam\n",
      "running epoch number: 0\n"
     ]
    },
    {
     "name": "stderr",
     "output_type": "stream",
     "text": [
      "938it [00:32, 29.04it/s]\n"
     ]
    },
    {
     "name": "stdout",
     "output_type": "stream",
     "text": [
      "Epoch [1/100], Step[938/938], d_loss: 0.1533, g_loss: 6.2459, D(x): 0.97, D(G(z)): 0.09\n",
      "running epoch number: 1\n"
     ]
    },
    {
     "name": "stderr",
     "output_type": "stream",
     "text": [
      "938it [00:31, 29.75it/s]\n"
     ]
    },
    {
     "name": "stdout",
     "output_type": "stream",
     "text": [
      "Epoch [2/100], Step[938/938], d_loss: 0.0129, g_loss: 6.0463, D(x): 1.00, D(G(z)): 0.01\n",
      "running epoch number: 2\n"
     ]
    },
    {
     "name": "stderr",
     "output_type": "stream",
     "text": [
      "938it [00:32, 28.76it/s]\n"
     ]
    },
    {
     "name": "stdout",
     "output_type": "stream",
     "text": [
      "Epoch [3/100], Step[938/938], d_loss: 0.0868, g_loss: 5.4332, D(x): 0.96, D(G(z)): 0.01\n",
      "running epoch number: 3\n"
     ]
    },
    {
     "name": "stderr",
     "output_type": "stream",
     "text": [
      "938it [00:32, 29.26it/s]\n"
     ]
    },
    {
     "name": "stdout",
     "output_type": "stream",
     "text": [
      "Epoch [4/100], Step[938/938], d_loss: 0.0244, g_loss: 7.5529, D(x): 0.98, D(G(z)): 0.00\n",
      "running epoch number: 4\n"
     ]
    },
    {
     "name": "stderr",
     "output_type": "stream",
     "text": [
      "938it [00:32, 28.69it/s]\n"
     ]
    },
    {
     "name": "stdout",
     "output_type": "stream",
     "text": [
      "Epoch [5/100], Step[938/938], d_loss: 0.0366, g_loss: 5.0169, D(x): 0.98, D(G(z)): 0.01\n",
      "running epoch number: 5\n"
     ]
    },
    {
     "name": "stderr",
     "output_type": "stream",
     "text": [
      "938it [00:32, 29.09it/s]\n"
     ]
    },
    {
     "name": "stdout",
     "output_type": "stream",
     "text": [
      "Epoch [6/100], Step[938/938], d_loss: 0.1021, g_loss: 4.6045, D(x): 0.96, D(G(z)): 0.00\n",
      "running epoch number: 6\n"
     ]
    },
    {
     "name": "stderr",
     "output_type": "stream",
     "text": [
      "938it [00:32, 28.92it/s]\n"
     ]
    },
    {
     "name": "stdout",
     "output_type": "stream",
     "text": [
      "Epoch [7/100], Step[938/938], d_loss: 0.4516, g_loss: 4.0287, D(x): 0.88, D(G(z)): 0.13\n",
      "running epoch number: 7\n"
     ]
    },
    {
     "name": "stderr",
     "output_type": "stream",
     "text": [
      "938it [00:32, 28.71it/s]\n"
     ]
    },
    {
     "name": "stdout",
     "output_type": "stream",
     "text": [
      "Epoch [8/100], Step[938/938], d_loss: 0.2019, g_loss: 3.4299, D(x): 0.92, D(G(z)): 0.02\n",
      "running epoch number: 8\n"
     ]
    },
    {
     "name": "stderr",
     "output_type": "stream",
     "text": [
      "938it [00:32, 29.28it/s]\n"
     ]
    },
    {
     "name": "stdout",
     "output_type": "stream",
     "text": [
      "Epoch [9/100], Step[938/938], d_loss: 0.2932, g_loss: 4.1486, D(x): 0.95, D(G(z)): 0.14\n",
      "running epoch number: 9\n"
     ]
    },
    {
     "name": "stderr",
     "output_type": "stream",
     "text": [
      "938it [00:32, 29.02it/s]\n"
     ]
    },
    {
     "name": "stdout",
     "output_type": "stream",
     "text": [
      "Epoch [10/100], Step[938/938], d_loss: 0.5821, g_loss: 2.3001, D(x): 0.79, D(G(z)): 0.09\n",
      "running epoch number: 10\n"
     ]
    },
    {
     "name": "stderr",
     "output_type": "stream",
     "text": [
      "938it [00:32, 29.04it/s]\n"
     ]
    },
    {
     "name": "stdout",
     "output_type": "stream",
     "text": [
      "Epoch [11/100], Step[938/938], d_loss: 0.5006, g_loss: 1.9527, D(x): 0.87, D(G(z)): 0.18\n",
      "running epoch number: 11\n"
     ]
    },
    {
     "name": "stderr",
     "output_type": "stream",
     "text": [
      "938it [00:32, 28.70it/s]\n"
     ]
    },
    {
     "name": "stdout",
     "output_type": "stream",
     "text": [
      "Epoch [12/100], Step[938/938], d_loss: 0.5227, g_loss: 2.4884, D(x): 0.83, D(G(z)): 0.12\n",
      "running epoch number: 12\n"
     ]
    },
    {
     "name": "stderr",
     "output_type": "stream",
     "text": [
      "938it [00:31, 29.65it/s]\n"
     ]
    },
    {
     "name": "stdout",
     "output_type": "stream",
     "text": [
      "Epoch [13/100], Step[938/938], d_loss: 0.7011, g_loss: 2.0640, D(x): 0.79, D(G(z)): 0.18\n",
      "running epoch number: 13\n"
     ]
    },
    {
     "name": "stderr",
     "output_type": "stream",
     "text": [
      "938it [00:33, 28.30it/s]\n"
     ]
    },
    {
     "name": "stdout",
     "output_type": "stream",
     "text": [
      "Epoch [14/100], Step[938/938], d_loss: 0.6059, g_loss: 1.9988, D(x): 0.76, D(G(z)): 0.18\n",
      "running epoch number: 14\n"
     ]
    },
    {
     "name": "stderr",
     "output_type": "stream",
     "text": [
      "938it [00:32, 28.78it/s]\n"
     ]
    },
    {
     "name": "stdout",
     "output_type": "stream",
     "text": [
      "Epoch [15/100], Step[938/938], d_loss: 0.4727, g_loss: 1.9413, D(x): 0.85, D(G(z)): 0.17\n",
      "running epoch number: 15\n"
     ]
    },
    {
     "name": "stderr",
     "output_type": "stream",
     "text": [
      "938it [00:33, 27.61it/s]\n"
     ]
    },
    {
     "name": "stdout",
     "output_type": "stream",
     "text": [
      "Epoch [16/100], Step[938/938], d_loss: 0.7886, g_loss: 2.3376, D(x): 0.73, D(G(z)): 0.15\n",
      "running epoch number: 16\n"
     ]
    },
    {
     "name": "stderr",
     "output_type": "stream",
     "text": [
      "938it [00:33, 28.20it/s]\n"
     ]
    },
    {
     "name": "stdout",
     "output_type": "stream",
     "text": [
      "Epoch [17/100], Step[938/938], d_loss: 0.6203, g_loss: 1.8872, D(x): 0.79, D(G(z)): 0.25\n",
      "running epoch number: 17\n"
     ]
    },
    {
     "name": "stderr",
     "output_type": "stream",
     "text": [
      "938it [00:33, 28.30it/s]\n"
     ]
    },
    {
     "name": "stdout",
     "output_type": "stream",
     "text": [
      "Epoch [18/100], Step[938/938], d_loss: 0.6380, g_loss: 1.5442, D(x): 0.83, D(G(z)): 0.27\n",
      "running epoch number: 18\n"
     ]
    },
    {
     "name": "stderr",
     "output_type": "stream",
     "text": [
      "938it [00:33, 28.15it/s]\n"
     ]
    },
    {
     "name": "stdout",
     "output_type": "stream",
     "text": [
      "Epoch [19/100], Step[938/938], d_loss: 0.6107, g_loss: 1.7362, D(x): 0.80, D(G(z)): 0.19\n",
      "running epoch number: 19\n"
     ]
    },
    {
     "name": "stderr",
     "output_type": "stream",
     "text": [
      "938it [00:32, 28.95it/s]\n"
     ]
    },
    {
     "name": "stdout",
     "output_type": "stream",
     "text": [
      "Epoch [20/100], Step[938/938], d_loss: 0.7670, g_loss: 1.9257, D(x): 0.70, D(G(z)): 0.21\n",
      "running epoch number: 20\n"
     ]
    },
    {
     "name": "stderr",
     "output_type": "stream",
     "text": [
      "938it [00:31, 29.59it/s]\n"
     ]
    },
    {
     "name": "stdout",
     "output_type": "stream",
     "text": [
      "Epoch [21/100], Step[938/938], d_loss: 0.8638, g_loss: 1.6980, D(x): 0.74, D(G(z)): 0.30\n",
      "running epoch number: 21\n"
     ]
    },
    {
     "name": "stderr",
     "output_type": "stream",
     "text": [
      "938it [00:31, 29.87it/s]\n"
     ]
    },
    {
     "name": "stdout",
     "output_type": "stream",
     "text": [
      "Epoch [22/100], Step[938/938], d_loss: 0.9743, g_loss: 1.3914, D(x): 0.69, D(G(z)): 0.30\n",
      "running epoch number: 22\n"
     ]
    },
    {
     "name": "stderr",
     "output_type": "stream",
     "text": [
      "938it [00:32, 28.97it/s]\n"
     ]
    },
    {
     "name": "stdout",
     "output_type": "stream",
     "text": [
      "Epoch [23/100], Step[938/938], d_loss: 0.8528, g_loss: 1.8587, D(x): 0.66, D(G(z)): 0.22\n",
      "running epoch number: 23\n"
     ]
    },
    {
     "name": "stderr",
     "output_type": "stream",
     "text": [
      "938it [00:32, 28.89it/s]\n"
     ]
    },
    {
     "name": "stdout",
     "output_type": "stream",
     "text": [
      "Epoch [24/100], Step[938/938], d_loss: 0.8292, g_loss: 1.7289, D(x): 0.75, D(G(z)): 0.26\n",
      "running epoch number: 24\n"
     ]
    },
    {
     "name": "stderr",
     "output_type": "stream",
     "text": [
      "938it [00:32, 28.89it/s]\n"
     ]
    },
    {
     "name": "stdout",
     "output_type": "stream",
     "text": [
      "Epoch [25/100], Step[938/938], d_loss: 0.9821, g_loss: 1.5975, D(x): 0.69, D(G(z)): 0.30\n",
      "running epoch number: 25\n"
     ]
    },
    {
     "name": "stderr",
     "output_type": "stream",
     "text": [
      "938it [00:32, 29.21it/s]\n"
     ]
    },
    {
     "name": "stdout",
     "output_type": "stream",
     "text": [
      "Epoch [26/100], Step[938/938], d_loss: 0.6117, g_loss: 1.7022, D(x): 0.79, D(G(z)): 0.23\n",
      "running epoch number: 26\n"
     ]
    },
    {
     "name": "stderr",
     "output_type": "stream",
     "text": [
      "938it [00:33, 28.19it/s]\n"
     ]
    },
    {
     "name": "stdout",
     "output_type": "stream",
     "text": [
      "Epoch [27/100], Step[938/938], d_loss: 0.9556, g_loss: 1.4078, D(x): 0.74, D(G(z)): 0.37\n",
      "running epoch number: 27\n"
     ]
    },
    {
     "name": "stderr",
     "output_type": "stream",
     "text": [
      "938it [00:33, 27.97it/s]\n"
     ]
    },
    {
     "name": "stdout",
     "output_type": "stream",
     "text": [
      "Epoch [28/100], Step[938/938], d_loss: 0.8932, g_loss: 1.5228, D(x): 0.65, D(G(z)): 0.25\n",
      "running epoch number: 28\n"
     ]
    },
    {
     "name": "stderr",
     "output_type": "stream",
     "text": [
      "938it [00:32, 29.02it/s]\n"
     ]
    },
    {
     "name": "stdout",
     "output_type": "stream",
     "text": [
      "Epoch [29/100], Step[938/938], d_loss: 0.7992, g_loss: 1.5532, D(x): 0.68, D(G(z)): 0.25\n",
      "running epoch number: 29\n"
     ]
    },
    {
     "name": "stderr",
     "output_type": "stream",
     "text": [
      "938it [00:33, 28.02it/s]\n"
     ]
    },
    {
     "name": "stdout",
     "output_type": "stream",
     "text": [
      "Epoch [30/100], Step[938/938], d_loss: 0.7910, g_loss: 1.4006, D(x): 0.69, D(G(z)): 0.22\n",
      "running epoch number: 30\n"
     ]
    },
    {
     "name": "stderr",
     "output_type": "stream",
     "text": [
      "938it [00:32, 28.64it/s]\n"
     ]
    },
    {
     "name": "stdout",
     "output_type": "stream",
     "text": [
      "Epoch [31/100], Step[938/938], d_loss: 0.7377, g_loss: 1.3897, D(x): 0.72, D(G(z)): 0.24\n",
      "running epoch number: 31\n"
     ]
    },
    {
     "name": "stderr",
     "output_type": "stream",
     "text": [
      "938it [00:33, 28.21it/s]\n"
     ]
    },
    {
     "name": "stdout",
     "output_type": "stream",
     "text": [
      "Epoch [32/100], Step[938/938], d_loss: 0.9974, g_loss: 1.1446, D(x): 0.74, D(G(z)): 0.39\n",
      "running epoch number: 32\n"
     ]
    },
    {
     "name": "stderr",
     "output_type": "stream",
     "text": [
      "938it [00:32, 28.72it/s]\n"
     ]
    },
    {
     "name": "stdout",
     "output_type": "stream",
     "text": [
      "Epoch [33/100], Step[938/938], d_loss: 1.0261, g_loss: 1.4548, D(x): 0.67, D(G(z)): 0.34\n",
      "running epoch number: 33\n"
     ]
    },
    {
     "name": "stderr",
     "output_type": "stream",
     "text": [
      "938it [00:32, 28.44it/s]\n"
     ]
    },
    {
     "name": "stdout",
     "output_type": "stream",
     "text": [
      "Epoch [34/100], Step[938/938], d_loss: 1.0145, g_loss: 1.5681, D(x): 0.60, D(G(z)): 0.27\n",
      "running epoch number: 34\n"
     ]
    },
    {
     "name": "stderr",
     "output_type": "stream",
     "text": [
      "938it [00:32, 28.47it/s]\n"
     ]
    },
    {
     "name": "stdout",
     "output_type": "stream",
     "text": [
      "Epoch [35/100], Step[938/938], d_loss: 0.9095, g_loss: 1.1357, D(x): 0.72, D(G(z)): 0.36\n",
      "running epoch number: 35\n"
     ]
    },
    {
     "name": "stderr",
     "output_type": "stream",
     "text": [
      "938it [00:33, 27.93it/s]\n"
     ]
    },
    {
     "name": "stdout",
     "output_type": "stream",
     "text": [
      "Epoch [36/100], Step[938/938], d_loss: 0.9580, g_loss: 1.2036, D(x): 0.63, D(G(z)): 0.31\n",
      "running epoch number: 36\n"
     ]
    },
    {
     "name": "stderr",
     "output_type": "stream",
     "text": [
      "938it [00:32, 28.53it/s]\n"
     ]
    },
    {
     "name": "stdout",
     "output_type": "stream",
     "text": [
      "Epoch [37/100], Step[938/938], d_loss: 0.9791, g_loss: 1.0474, D(x): 0.64, D(G(z)): 0.32\n",
      "running epoch number: 37\n"
     ]
    },
    {
     "name": "stderr",
     "output_type": "stream",
     "text": [
      "938it [00:33, 28.07it/s]\n"
     ]
    },
    {
     "name": "stdout",
     "output_type": "stream",
     "text": [
      "Epoch [38/100], Step[938/938], d_loss: 0.9928, g_loss: 1.2872, D(x): 0.65, D(G(z)): 0.34\n",
      "running epoch number: 38\n"
     ]
    },
    {
     "name": "stderr",
     "output_type": "stream",
     "text": [
      "938it [00:32, 28.45it/s]\n"
     ]
    },
    {
     "name": "stdout",
     "output_type": "stream",
     "text": [
      "Epoch [39/100], Step[938/938], d_loss: 1.2186, g_loss: 1.2504, D(x): 0.60, D(G(z)): 0.39\n",
      "running epoch number: 39\n"
     ]
    },
    {
     "name": "stderr",
     "output_type": "stream",
     "text": [
      "938it [00:32, 28.89it/s]\n"
     ]
    },
    {
     "name": "stdout",
     "output_type": "stream",
     "text": [
      "Epoch [40/100], Step[938/938], d_loss: 0.7312, g_loss: 1.1016, D(x): 0.82, D(G(z)): 0.35\n",
      "running epoch number: 40\n"
     ]
    },
    {
     "name": "stderr",
     "output_type": "stream",
     "text": [
      "938it [00:33, 28.25it/s]\n"
     ]
    },
    {
     "name": "stdout",
     "output_type": "stream",
     "text": [
      "Epoch [41/100], Step[938/938], d_loss: 1.1341, g_loss: 1.1554, D(x): 0.60, D(G(z)): 0.34\n",
      "running epoch number: 41\n"
     ]
    },
    {
     "name": "stderr",
     "output_type": "stream",
     "text": [
      "938it [00:32, 28.89it/s]\n"
     ]
    },
    {
     "name": "stdout",
     "output_type": "stream",
     "text": [
      "Epoch [42/100], Step[938/938], d_loss: 1.0981, g_loss: 1.2176, D(x): 0.63, D(G(z)): 0.37\n",
      "running epoch number: 42\n"
     ]
    },
    {
     "name": "stderr",
     "output_type": "stream",
     "text": [
      "938it [00:33, 28.37it/s]\n"
     ]
    },
    {
     "name": "stdout",
     "output_type": "stream",
     "text": [
      "Epoch [43/100], Step[938/938], d_loss: 1.2812, g_loss: 1.1517, D(x): 0.57, D(G(z)): 0.36\n",
      "running epoch number: 43\n"
     ]
    },
    {
     "name": "stderr",
     "output_type": "stream",
     "text": [
      "938it [00:32, 28.58it/s]\n"
     ]
    },
    {
     "name": "stdout",
     "output_type": "stream",
     "text": [
      "Epoch [44/100], Step[938/938], d_loss: 1.0747, g_loss: 1.0607, D(x): 0.68, D(G(z)): 0.39\n",
      "running epoch number: 44\n"
     ]
    },
    {
     "name": "stderr",
     "output_type": "stream",
     "text": [
      "938it [00:33, 28.27it/s]\n"
     ]
    },
    {
     "name": "stdout",
     "output_type": "stream",
     "text": [
      "Epoch [45/100], Step[938/938], d_loss: 1.0032, g_loss: 1.0802, D(x): 0.72, D(G(z)): 0.40\n",
      "running epoch number: 45\n"
     ]
    },
    {
     "name": "stderr",
     "output_type": "stream",
     "text": [
      "938it [00:33, 28.34it/s]\n"
     ]
    },
    {
     "name": "stdout",
     "output_type": "stream",
     "text": [
      "Epoch [46/100], Step[938/938], d_loss: 0.9643, g_loss: 1.2383, D(x): 0.75, D(G(z)): 0.40\n",
      "running epoch number: 46\n"
     ]
    },
    {
     "name": "stderr",
     "output_type": "stream",
     "text": [
      "938it [00:33, 28.33it/s]\n"
     ]
    },
    {
     "name": "stdout",
     "output_type": "stream",
     "text": [
      "Epoch [47/100], Step[938/938], d_loss: 1.0839, g_loss: 1.1882, D(x): 0.59, D(G(z)): 0.30\n",
      "running epoch number: 47\n"
     ]
    },
    {
     "name": "stderr",
     "output_type": "stream",
     "text": [
      "938it [00:33, 27.76it/s]\n"
     ]
    },
    {
     "name": "stdout",
     "output_type": "stream",
     "text": [
      "Epoch [48/100], Step[938/938], d_loss: 1.1238, g_loss: 1.0970, D(x): 0.73, D(G(z)): 0.43\n",
      "running epoch number: 48\n"
     ]
    },
    {
     "name": "stderr",
     "output_type": "stream",
     "text": [
      "938it [00:32, 28.84it/s]\n"
     ]
    },
    {
     "name": "stdout",
     "output_type": "stream",
     "text": [
      "Epoch [49/100], Step[938/938], d_loss: 0.9692, g_loss: 1.1472, D(x): 0.71, D(G(z)): 0.35\n",
      "running epoch number: 49\n"
     ]
    },
    {
     "name": "stderr",
     "output_type": "stream",
     "text": [
      "938it [00:33, 28.29it/s]\n"
     ]
    },
    {
     "name": "stdout",
     "output_type": "stream",
     "text": [
      "Epoch [50/100], Step[938/938], d_loss: 0.8600, g_loss: 1.3213, D(x): 0.77, D(G(z)): 0.36\n",
      "running epoch number: 50\n"
     ]
    },
    {
     "name": "stderr",
     "output_type": "stream",
     "text": [
      "938it [00:32, 28.64it/s]\n"
     ]
    },
    {
     "name": "stdout",
     "output_type": "stream",
     "text": [
      "Epoch [51/100], Step[938/938], d_loss: 0.9363, g_loss: 1.4204, D(x): 0.72, D(G(z)): 0.35\n",
      "running epoch number: 51\n"
     ]
    },
    {
     "name": "stderr",
     "output_type": "stream",
     "text": [
      "938it [00:32, 28.53it/s]\n"
     ]
    },
    {
     "name": "stdout",
     "output_type": "stream",
     "text": [
      "Epoch [52/100], Step[938/938], d_loss: 1.0523, g_loss: 1.2133, D(x): 0.62, D(G(z)): 0.36\n",
      "running epoch number: 52\n"
     ]
    },
    {
     "name": "stderr",
     "output_type": "stream",
     "text": [
      "938it [00:32, 28.52it/s]\n"
     ]
    },
    {
     "name": "stdout",
     "output_type": "stream",
     "text": [
      "Epoch [53/100], Step[938/938], d_loss: 0.9063, g_loss: 1.2639, D(x): 0.69, D(G(z)): 0.35\n",
      "running epoch number: 53\n"
     ]
    },
    {
     "name": "stderr",
     "output_type": "stream",
     "text": [
      "938it [00:33, 28.19it/s]\n"
     ]
    },
    {
     "name": "stdout",
     "output_type": "stream",
     "text": [
      "Epoch [54/100], Step[938/938], d_loss: 0.7567, g_loss: 1.3695, D(x): 0.72, D(G(z)): 0.29\n",
      "running epoch number: 54\n"
     ]
    },
    {
     "name": "stderr",
     "output_type": "stream",
     "text": [
      "938it [00:32, 28.50it/s]\n"
     ]
    },
    {
     "name": "stdout",
     "output_type": "stream",
     "text": [
      "Epoch [55/100], Step[938/938], d_loss: 1.0123, g_loss: 1.0065, D(x): 0.64, D(G(z)): 0.34\n",
      "running epoch number: 55\n"
     ]
    },
    {
     "name": "stderr",
     "output_type": "stream",
     "text": [
      "938it [00:33, 28.20it/s]\n"
     ]
    },
    {
     "name": "stdout",
     "output_type": "stream",
     "text": [
      "Epoch [56/100], Step[938/938], d_loss: 0.8570, g_loss: 1.0238, D(x): 0.76, D(G(z)): 0.38\n",
      "running epoch number: 56\n"
     ]
    },
    {
     "name": "stderr",
     "output_type": "stream",
     "text": [
      "938it [00:32, 28.73it/s]\n"
     ]
    },
    {
     "name": "stdout",
     "output_type": "stream",
     "text": [
      "Epoch [57/100], Step[938/938], d_loss: 1.1549, g_loss: 1.0756, D(x): 0.61, D(G(z)): 0.37\n",
      "running epoch number: 57\n"
     ]
    },
    {
     "name": "stderr",
     "output_type": "stream",
     "text": [
      "938it [00:33, 27.88it/s]\n"
     ]
    },
    {
     "name": "stdout",
     "output_type": "stream",
     "text": [
      "Epoch [58/100], Step[938/938], d_loss: 0.9394, g_loss: 1.1222, D(x): 0.68, D(G(z)): 0.31\n",
      "running epoch number: 58\n"
     ]
    },
    {
     "name": "stderr",
     "output_type": "stream",
     "text": [
      "938it [00:33, 27.95it/s]\n"
     ]
    },
    {
     "name": "stdout",
     "output_type": "stream",
     "text": [
      "Epoch [59/100], Step[938/938], d_loss: 0.9992, g_loss: 1.1280, D(x): 0.61, D(G(z)): 0.32\n",
      "running epoch number: 59\n"
     ]
    },
    {
     "name": "stderr",
     "output_type": "stream",
     "text": [
      "938it [00:32, 28.60it/s]\n"
     ]
    },
    {
     "name": "stdout",
     "output_type": "stream",
     "text": [
      "Epoch [60/100], Step[938/938], d_loss: 1.2354, g_loss: 1.2181, D(x): 0.59, D(G(z)): 0.40\n",
      "running epoch number: 60\n"
     ]
    },
    {
     "name": "stderr",
     "output_type": "stream",
     "text": [
      "938it [00:33, 27.99it/s]\n"
     ]
    },
    {
     "name": "stdout",
     "output_type": "stream",
     "text": [
      "Epoch [61/100], Step[938/938], d_loss: 1.1046, g_loss: 1.3030, D(x): 0.61, D(G(z)): 0.34\n",
      "running epoch number: 61\n"
     ]
    },
    {
     "name": "stderr",
     "output_type": "stream",
     "text": [
      "938it [00:32, 28.75it/s]\n"
     ]
    },
    {
     "name": "stdout",
     "output_type": "stream",
     "text": [
      "Epoch [62/100], Step[938/938], d_loss: 0.9870, g_loss: 0.9868, D(x): 0.61, D(G(z)): 0.32\n",
      "running epoch number: 62\n"
     ]
    },
    {
     "name": "stderr",
     "output_type": "stream",
     "text": [
      "938it [00:33, 27.87it/s]\n"
     ]
    },
    {
     "name": "stdout",
     "output_type": "stream",
     "text": [
      "Epoch [63/100], Step[938/938], d_loss: 0.9619, g_loss: 1.2722, D(x): 0.63, D(G(z)): 0.27\n",
      "running epoch number: 63\n"
     ]
    },
    {
     "name": "stderr",
     "output_type": "stream",
     "text": [
      "938it [00:32, 28.82it/s]\n"
     ]
    },
    {
     "name": "stdout",
     "output_type": "stream",
     "text": [
      "Epoch [64/100], Step[938/938], d_loss: 0.9573, g_loss: 1.2446, D(x): 0.68, D(G(z)): 0.35\n",
      "running epoch number: 64\n"
     ]
    },
    {
     "name": "stderr",
     "output_type": "stream",
     "text": [
      "938it [00:33, 28.29it/s]\n"
     ]
    },
    {
     "name": "stdout",
     "output_type": "stream",
     "text": [
      "Epoch [65/100], Step[938/938], d_loss: 1.1866, g_loss: 1.3143, D(x): 0.54, D(G(z)): 0.32\n",
      "running epoch number: 65\n"
     ]
    },
    {
     "name": "stderr",
     "output_type": "stream",
     "text": [
      "938it [00:33, 28.31it/s]\n"
     ]
    },
    {
     "name": "stdout",
     "output_type": "stream",
     "text": [
      "Epoch [66/100], Step[938/938], d_loss: 1.3670, g_loss: 1.4028, D(x): 0.54, D(G(z)): 0.41\n",
      "running epoch number: 66\n"
     ]
    },
    {
     "name": "stderr",
     "output_type": "stream",
     "text": [
      "938it [00:33, 28.07it/s]\n"
     ]
    },
    {
     "name": "stdout",
     "output_type": "stream",
     "text": [
      "Epoch [67/100], Step[938/938], d_loss: 0.9043, g_loss: 1.2576, D(x): 0.64, D(G(z)): 0.30\n",
      "running epoch number: 67\n"
     ]
    },
    {
     "name": "stderr",
     "output_type": "stream",
     "text": [
      "938it [00:33, 28.08it/s]\n"
     ]
    },
    {
     "name": "stdout",
     "output_type": "stream",
     "text": [
      "Epoch [68/100], Step[938/938], d_loss: 1.2429, g_loss: 1.1914, D(x): 0.62, D(G(z)): 0.41\n",
      "running epoch number: 68\n"
     ]
    },
    {
     "name": "stderr",
     "output_type": "stream",
     "text": [
      "938it [00:32, 28.76it/s]\n"
     ]
    },
    {
     "name": "stdout",
     "output_type": "stream",
     "text": [
      "Epoch [69/100], Step[938/938], d_loss: 0.9869, g_loss: 1.3460, D(x): 0.62, D(G(z)): 0.32\n",
      "running epoch number: 69\n"
     ]
    },
    {
     "name": "stderr",
     "output_type": "stream",
     "text": [
      "938it [00:33, 27.92it/s]\n"
     ]
    },
    {
     "name": "stdout",
     "output_type": "stream",
     "text": [
      "Epoch [70/100], Step[938/938], d_loss: 1.0246, g_loss: 1.3368, D(x): 0.66, D(G(z)): 0.37\n",
      "running epoch number: 70\n"
     ]
    },
    {
     "name": "stderr",
     "output_type": "stream",
     "text": [
      "938it [00:32, 28.61it/s]\n"
     ]
    },
    {
     "name": "stdout",
     "output_type": "stream",
     "text": [
      "Epoch [71/100], Step[938/938], d_loss: 0.9742, g_loss: 1.4036, D(x): 0.66, D(G(z)): 0.34\n",
      "running epoch number: 71\n"
     ]
    },
    {
     "name": "stderr",
     "output_type": "stream",
     "text": [
      "938it [00:33, 28.18it/s]\n"
     ]
    },
    {
     "name": "stdout",
     "output_type": "stream",
     "text": [
      "Epoch [72/100], Step[938/938], d_loss: 1.1686, g_loss: 1.1741, D(x): 0.60, D(G(z)): 0.36\n",
      "running epoch number: 72\n"
     ]
    },
    {
     "name": "stderr",
     "output_type": "stream",
     "text": [
      "938it [00:33, 28.20it/s]\n"
     ]
    },
    {
     "name": "stdout",
     "output_type": "stream",
     "text": [
      "Epoch [73/100], Step[938/938], d_loss: 0.9418, g_loss: 1.2115, D(x): 0.65, D(G(z)): 0.32\n",
      "running epoch number: 73\n"
     ]
    },
    {
     "name": "stderr",
     "output_type": "stream",
     "text": [
      "938it [00:33, 27.70it/s]\n"
     ]
    },
    {
     "name": "stdout",
     "output_type": "stream",
     "text": [
      "Epoch [74/100], Step[938/938], d_loss: 1.0710, g_loss: 0.9899, D(x): 0.74, D(G(z)): 0.45\n",
      "running epoch number: 74\n"
     ]
    },
    {
     "name": "stderr",
     "output_type": "stream",
     "text": [
      "938it [00:32, 28.57it/s]\n"
     ]
    },
    {
     "name": "stdout",
     "output_type": "stream",
     "text": [
      "Epoch [75/100], Step[938/938], d_loss: 1.0601, g_loss: 0.9341, D(x): 0.62, D(G(z)): 0.34\n",
      "running epoch number: 75\n"
     ]
    },
    {
     "name": "stderr",
     "output_type": "stream",
     "text": [
      "938it [00:33, 27.78it/s]\n"
     ]
    },
    {
     "name": "stdout",
     "output_type": "stream",
     "text": [
      "Epoch [76/100], Step[938/938], d_loss: 0.9484, g_loss: 1.0827, D(x): 0.67, D(G(z)): 0.34\n",
      "running epoch number: 76\n"
     ]
    },
    {
     "name": "stderr",
     "output_type": "stream",
     "text": [
      "938it [00:33, 27.88it/s]\n"
     ]
    },
    {
     "name": "stdout",
     "output_type": "stream",
     "text": [
      "Epoch [77/100], Step[938/938], d_loss: 0.9587, g_loss: 1.2704, D(x): 0.68, D(G(z)): 0.36\n",
      "running epoch number: 77\n"
     ]
    },
    {
     "name": "stderr",
     "output_type": "stream",
     "text": [
      "938it [00:32, 28.48it/s]\n"
     ]
    },
    {
     "name": "stdout",
     "output_type": "stream",
     "text": [
      "Epoch [78/100], Step[938/938], d_loss: 1.0278, g_loss: 1.1885, D(x): 0.65, D(G(z)): 0.38\n",
      "running epoch number: 78\n"
     ]
    },
    {
     "name": "stderr",
     "output_type": "stream",
     "text": [
      "938it [00:33, 28.15it/s]\n"
     ]
    },
    {
     "name": "stdout",
     "output_type": "stream",
     "text": [
      "Epoch [79/100], Step[938/938], d_loss: 0.9419, g_loss: 1.3243, D(x): 0.67, D(G(z)): 0.33\n",
      "running epoch number: 79\n"
     ]
    },
    {
     "name": "stderr",
     "output_type": "stream",
     "text": [
      "938it [00:32, 28.62it/s]\n"
     ]
    },
    {
     "name": "stdout",
     "output_type": "stream",
     "text": [
      "Epoch [80/100], Step[938/938], d_loss: 0.9694, g_loss: 1.1002, D(x): 0.71, D(G(z)): 0.37\n",
      "running epoch number: 80\n"
     ]
    },
    {
     "name": "stderr",
     "output_type": "stream",
     "text": [
      "938it [00:33, 28.42it/s]\n"
     ]
    },
    {
     "name": "stdout",
     "output_type": "stream",
     "text": [
      "Epoch [81/100], Step[938/938], d_loss: 0.9656, g_loss: 1.1043, D(x): 0.71, D(G(z)): 0.34\n",
      "running epoch number: 81\n"
     ]
    },
    {
     "name": "stderr",
     "output_type": "stream",
     "text": [
      "938it [00:32, 28.87it/s]\n"
     ]
    },
    {
     "name": "stdout",
     "output_type": "stream",
     "text": [
      "Epoch [82/100], Step[938/938], d_loss: 1.0658, g_loss: 1.2443, D(x): 0.61, D(G(z)): 0.35\n",
      "running epoch number: 82\n"
     ]
    },
    {
     "name": "stderr",
     "output_type": "stream",
     "text": [
      "938it [00:32, 28.96it/s]\n"
     ]
    },
    {
     "name": "stdout",
     "output_type": "stream",
     "text": [
      "Epoch [83/100], Step[938/938], d_loss: 1.0235, g_loss: 1.3721, D(x): 0.63, D(G(z)): 0.34\n",
      "running epoch number: 83\n"
     ]
    },
    {
     "name": "stderr",
     "output_type": "stream",
     "text": [
      "938it [00:33, 28.27it/s]\n"
     ]
    },
    {
     "name": "stdout",
     "output_type": "stream",
     "text": [
      "Epoch [84/100], Step[938/938], d_loss: 0.9672, g_loss: 1.2034, D(x): 0.66, D(G(z)): 0.34\n",
      "running epoch number: 84\n"
     ]
    },
    {
     "name": "stderr",
     "output_type": "stream",
     "text": [
      "938it [00:33, 28.35it/s]\n"
     ]
    },
    {
     "name": "stdout",
     "output_type": "stream",
     "text": [
      "Epoch [85/100], Step[938/938], d_loss: 1.0477, g_loss: 1.2566, D(x): 0.68, D(G(z)): 0.39\n",
      "running epoch number: 85\n"
     ]
    },
    {
     "name": "stderr",
     "output_type": "stream",
     "text": [
      "938it [00:33, 28.01it/s]\n"
     ]
    },
    {
     "name": "stdout",
     "output_type": "stream",
     "text": [
      "Epoch [86/100], Step[938/938], d_loss: 0.9564, g_loss: 1.5993, D(x): 0.70, D(G(z)): 0.32\n",
      "running epoch number: 86\n"
     ]
    },
    {
     "name": "stderr",
     "output_type": "stream",
     "text": [
      "938it [00:32, 28.62it/s]\n"
     ]
    },
    {
     "name": "stdout",
     "output_type": "stream",
     "text": [
      "Epoch [87/100], Step[938/938], d_loss: 0.9235, g_loss: 1.1451, D(x): 0.65, D(G(z)): 0.32\n",
      "running epoch number: 87\n"
     ]
    },
    {
     "name": "stderr",
     "output_type": "stream",
     "text": [
      "938it [00:33, 28.38it/s]\n"
     ]
    },
    {
     "name": "stdout",
     "output_type": "stream",
     "text": [
      "Epoch [88/100], Step[938/938], d_loss: 1.1508, g_loss: 1.4762, D(x): 0.62, D(G(z)): 0.37\n",
      "running epoch number: 88\n"
     ]
    },
    {
     "name": "stderr",
     "output_type": "stream",
     "text": [
      "938it [00:32, 28.49it/s]\n"
     ]
    },
    {
     "name": "stdout",
     "output_type": "stream",
     "text": [
      "Epoch [89/100], Step[938/938], d_loss: 0.9504, g_loss: 1.2767, D(x): 0.77, D(G(z)): 0.37\n",
      "running epoch number: 89\n"
     ]
    },
    {
     "name": "stderr",
     "output_type": "stream",
     "text": [
      "938it [00:32, 28.60it/s]\n"
     ]
    },
    {
     "name": "stdout",
     "output_type": "stream",
     "text": [
      "Epoch [90/100], Step[938/938], d_loss: 1.0276, g_loss: 1.2383, D(x): 0.62, D(G(z)): 0.32\n",
      "running epoch number: 90\n"
     ]
    },
    {
     "name": "stderr",
     "output_type": "stream",
     "text": [
      "938it [00:33, 28.13it/s]\n"
     ]
    },
    {
     "name": "stdout",
     "output_type": "stream",
     "text": [
      "Epoch [91/100], Step[938/938], d_loss: 1.1016, g_loss: 1.1079, D(x): 0.58, D(G(z)): 0.32\n",
      "running epoch number: 91\n"
     ]
    },
    {
     "name": "stderr",
     "output_type": "stream",
     "text": [
      "938it [00:33, 28.30it/s]\n"
     ]
    },
    {
     "name": "stdout",
     "output_type": "stream",
     "text": [
      "Epoch [92/100], Step[938/938], d_loss: 1.0623, g_loss: 1.2565, D(x): 0.67, D(G(z)): 0.39\n",
      "running epoch number: 92\n"
     ]
    },
    {
     "name": "stderr",
     "output_type": "stream",
     "text": [
      "938it [00:33, 28.42it/s]\n"
     ]
    },
    {
     "name": "stdout",
     "output_type": "stream",
     "text": [
      "Epoch [93/100], Step[938/938], d_loss: 0.9416, g_loss: 1.1689, D(x): 0.68, D(G(z)): 0.32\n",
      "running epoch number: 93\n"
     ]
    },
    {
     "name": "stderr",
     "output_type": "stream",
     "text": [
      "938it [00:33, 28.20it/s]\n"
     ]
    },
    {
     "name": "stdout",
     "output_type": "stream",
     "text": [
      "Epoch [94/100], Step[938/938], d_loss: 1.0285, g_loss: 1.0349, D(x): 0.68, D(G(z)): 0.39\n",
      "running epoch number: 94\n"
     ]
    },
    {
     "name": "stderr",
     "output_type": "stream",
     "text": [
      "938it [00:32, 28.65it/s]\n"
     ]
    },
    {
     "name": "stdout",
     "output_type": "stream",
     "text": [
      "Epoch [95/100], Step[938/938], d_loss: 1.1725, g_loss: 1.2257, D(x): 0.56, D(G(z)): 0.36\n",
      "running epoch number: 95\n"
     ]
    },
    {
     "name": "stderr",
     "output_type": "stream",
     "text": [
      "938it [00:33, 28.24it/s]\n"
     ]
    },
    {
     "name": "stdout",
     "output_type": "stream",
     "text": [
      "Epoch [96/100], Step[938/938], d_loss: 1.2781, g_loss: 1.3998, D(x): 0.61, D(G(z)): 0.43\n",
      "running epoch number: 96\n"
     ]
    },
    {
     "name": "stderr",
     "output_type": "stream",
     "text": [
      "938it [00:33, 28.25it/s]\n"
     ]
    },
    {
     "name": "stdout",
     "output_type": "stream",
     "text": [
      "Epoch [97/100], Step[938/938], d_loss: 0.9993, g_loss: 1.2477, D(x): 0.68, D(G(z)): 0.35\n",
      "running epoch number: 97\n"
     ]
    },
    {
     "name": "stderr",
     "output_type": "stream",
     "text": [
      "938it [00:33, 28.33it/s]\n"
     ]
    },
    {
     "name": "stdout",
     "output_type": "stream",
     "text": [
      "Epoch [98/100], Step[938/938], d_loss: 0.9080, g_loss: 1.4069, D(x): 0.66, D(G(z)): 0.32\n",
      "running epoch number: 98\n"
     ]
    },
    {
     "name": "stderr",
     "output_type": "stream",
     "text": [
      "938it [00:33, 27.70it/s]\n"
     ]
    },
    {
     "name": "stdout",
     "output_type": "stream",
     "text": [
      "Epoch [99/100], Step[938/938], d_loss: 0.9712, g_loss: 1.0181, D(x): 0.68, D(G(z)): 0.39\n",
      "running epoch number: 99\n"
     ]
    },
    {
     "name": "stderr",
     "output_type": "stream",
     "text": [
      "938it [00:33, 28.15it/s]\n"
     ]
    },
    {
     "name": "stdout",
     "output_type": "stream",
     "text": [
      "Epoch [100/100], Step[938/938], d_loss: 0.9703, g_loss: 1.3414, D(x): 0.64, D(G(z)): 0.31\n"
     ]
    },
    {
     "data": {
      "image/png": "[encoded data removed]",
      "text/plain": [
       "<Figure size 500x500 with 1 Axes>"
      ]
     },
     "metadata": {},
     "output_type": "display_data"
    },
    {
     "name": "stdout",
     "output_type": "stream",
     "text": [
      "running trial number: 4\n"
     ]
    },
    {
     "ename": "RuntimeError",
     "evalue": "The NVIDIA driver on your system is too old (found version 11060). Please update your GPU driver by downloading and installing a new version from the URL: http://www.nvidia.com/Download/index.aspx Alternatively, go to: https://pytorch.org to install a PyTorch version that has been compiled with your version of the CUDA driver.",
     "output_type": "error",
     "traceback": [
      "\u001b[0;31m---------------------------------------------------------------------------\u001b[0m",
      "\u001b[0;31mRuntimeError\u001b[0m                              Traceback (most recent call last)",
      "Cell \u001b[0;32mIn[11], line 2\u001b[0m\n\u001b[1;32m      1\u001b[0m \u001b[39mif\u001b[39;00m \u001b[39m__name__\u001b[39m \u001b[39m==\u001b[39m \u001b[39m\"\u001b[39m\u001b[39m__main__\u001b[39m\u001b[39m\"\u001b[39m:\n\u001b[0;32m----> 2\u001b[0m     main()\n",
      "Cell \u001b[0;32mIn[10], line 23\u001b[0m, in \u001b[0;36mmain\u001b[0;34m()\u001b[0m\n\u001b[1;32m     20\u001b[0m     os\u001b[39m.\u001b[39mmkdir(tmp_path)\n\u001b[1;32m     22\u001b[0m \u001b[39m# 2. Run optimize loop\u001b[39;00m\n\u001b[0;32m---> 23\u001b[0m start_optimization(artifact_store)\n",
      "Cell \u001b[0;32mIn[9], line 18\u001b[0m, in \u001b[0;36mstart_optimization\u001b[0;34m(artifact_store)\u001b[0m\n\u001b[1;32m     15\u001b[0m     time\u001b[39m.\u001b[39msleep(\u001b[39m0.1\u001b[39m)  \u001b[39m# Avoid busy-loop\u001b[39;00m\n\u001b[1;32m     16\u001b[0m     \u001b[39mcontinue\u001b[39;00m\n\u001b[0;32m---> 18\u001b[0m train_GANs(study, artifact_store)\n",
      "Cell \u001b[0;32mIn[8], line 15\u001b[0m, in \u001b[0;36mtrain_GANs\u001b[0;34m(study, artifact_store)\u001b[0m\n\u001b[1;32m     11\u001b[0m discriminator \u001b[39m=\u001b[39m Discriminator()\u001b[39m.\u001b[39mto(device\u001b[39m=\u001b[39mdevice)\n\u001b[1;32m     12\u001b[0m generator \u001b[39m=\u001b[39m Generator()\u001b[39m.\u001b[39mto(device\u001b[39m=\u001b[39mdevice)\n\u001b[1;32m     14\u001b[0m cfg \u001b[39m=\u001b[39m {\n\u001b[0;32m---> 15\u001b[0m     \u001b[39m\"\u001b[39m\u001b[39mtrain_batch_size\u001b[39m\u001b[39m\"\u001b[39m: trial\u001b[39m.\u001b[39;49msuggest_categorical(\u001b[39m\"\u001b[39;49m\u001b[39mtrain_batch_size\u001b[39;49m\u001b[39m\"\u001b[39;49m, [\u001b[39m64\u001b[39;49m, \u001b[39m128\u001b[39;49m]),\n\u001b[1;32m     16\u001b[0m     \u001b[39m\"\u001b[39m\u001b[39mdevice\u001b[39m\u001b[39m\"\u001b[39m: \u001b[39m\"\u001b[39m\u001b[39mcuda\u001b[39m\u001b[39m\"\u001b[39m \u001b[39mif\u001b[39;00m torch\u001b[39m.\u001b[39mcuda\u001b[39m.\u001b[39mis_available() \u001b[39melse\u001b[39;00m \u001b[39m\"\u001b[39m\u001b[39mcpu\u001b[39m\u001b[39m\"\u001b[39m,\n\u001b[1;32m     17\u001b[0m     \u001b[39m\"\u001b[39m\u001b[39mnum_epochs\u001b[39m\u001b[39m\"\u001b[39m: \u001b[39m100\u001b[39m,\n\u001b[1;32m     18\u001b[0m     \u001b[39m\"\u001b[39m\u001b[39mlr\u001b[39m\u001b[39m\"\u001b[39m: trial\u001b[39m.\u001b[39msuggest_float(\u001b[39m\"\u001b[39m\u001b[39mlr\u001b[39m\u001b[39m\"\u001b[39m, \u001b[39m1e-5\u001b[39m, \u001b[39m1e-3\u001b[39m, log\u001b[39m=\u001b[39m\u001b[39mTrue\u001b[39;00m),\n\u001b[1;32m     19\u001b[0m     \u001b[39m\"\u001b[39m\u001b[39moptimizer\u001b[39m\u001b[39m\"\u001b[39m: trial\u001b[39m.\u001b[39msuggest_categorical(\u001b[39m\"\u001b[39m\u001b[39moptimizer\u001b[39m\u001b[39m\"\u001b[39m, [\u001b[39m\"\u001b[39m\u001b[39mAdam\u001b[39m\u001b[39m\"\u001b[39m, \u001b[39m\"\u001b[39m\u001b[39mAdamW\u001b[39m\u001b[39m\"\u001b[39m])\n\u001b[1;32m     20\u001b[0m }\n\u001b[1;32m     22\u001b[0m \u001b[39m#define the loader\u001b[39;00m\n\u001b[1;32m     23\u001b[0m batch_size \u001b[39m=\u001b[39m cfg[\u001b[39m\"\u001b[39m\u001b[39mtrain_batch_size\u001b[39m\u001b[39m\"\u001b[39m]\n",
      "File \u001b[0;32m~/.local/lib/python3.9/site-packages/optuna/trial/_trial.py:405\u001b[0m, in \u001b[0;36mTrial.suggest_categorical\u001b[0;34m(self, name, choices)\u001b[0m\n\u001b[1;32m    354\u001b[0m \u001b[39m\u001b[39m\u001b[39m\"\"\"Suggest a value for the categorical parameter.\u001b[39;00m\n\u001b[1;32m    355\u001b[0m \n\u001b[1;32m    356\u001b[0m \u001b[39mThe value is sampled from ``choices``.\u001b[39;00m\n\u001b[0;32m   (...)\u001b[0m\n\u001b[1;32m    400\u001b[0m \u001b[39m    :ref:`configurations` tutorial describes more details and flexible usages.\u001b[39;00m\n\u001b[1;32m    401\u001b[0m \u001b[39m\"\"\"\u001b[39;00m\n\u001b[1;32m    402\u001b[0m \u001b[39m# There is no need to call self._check_distribution because\u001b[39;00m\n\u001b[1;32m    403\u001b[0m \u001b[39m# CategoricalDistribution does not support dynamic value space.\u001b[39;00m\n\u001b[0;32m--> 405\u001b[0m \u001b[39mreturn\u001b[39;00m \u001b[39mself\u001b[39;49m\u001b[39m.\u001b[39;49m_suggest(name, CategoricalDistribution(choices\u001b[39m=\u001b[39;49mchoices))\n",
      "File \u001b[0;32m~/.local/lib/python3.9/site-packages/optuna/trial/_trial.py:626\u001b[0m, in \u001b[0;36mTrial._suggest\u001b[0;34m(self, name, distribution)\u001b[0m\n\u001b[1;32m    624\u001b[0m \u001b[39melif\u001b[39;00m distribution\u001b[39m.\u001b[39msingle():\n\u001b[1;32m    625\u001b[0m     param_value \u001b[39m=\u001b[39m distributions\u001b[39m.\u001b[39m_get_single_value(distribution)\n\u001b[0;32m--> 626\u001b[0m \u001b[39melif\u001b[39;00m \u001b[39mself\u001b[39;49m\u001b[39m.\u001b[39;49m_is_relative_param(name, distribution):\n\u001b[1;32m    627\u001b[0m     param_value \u001b[39m=\u001b[39m \u001b[39mself\u001b[39m\u001b[39m.\u001b[39mrelative_params[name]\n\u001b[1;32m    628\u001b[0m \u001b[39melse\u001b[39;00m:\n",
      "File \u001b[0;32m~/.local/lib/python3.9/site-packages/optuna/trial/_trial.py:658\u001b[0m, in \u001b[0;36mTrial._is_relative_param\u001b[0;34m(self, name, distribution)\u001b[0m\n\u001b[1;32m    657\u001b[0m \u001b[39mdef\u001b[39;00m \u001b[39m_is_relative_param\u001b[39m(\u001b[39mself\u001b[39m, name: \u001b[39mstr\u001b[39m, distribution: BaseDistribution) \u001b[39m-\u001b[39m\u001b[39m>\u001b[39m \u001b[39mbool\u001b[39m:\n\u001b[0;32m--> 658\u001b[0m     \u001b[39mif\u001b[39;00m name \u001b[39mnot\u001b[39;00m \u001b[39min\u001b[39;00m \u001b[39mself\u001b[39;49m\u001b[39m.\u001b[39;49mrelative_params:\n\u001b[1;32m    659\u001b[0m         \u001b[39mreturn\u001b[39;00m \u001b[39mFalse\u001b[39;00m\n\u001b[1;32m    661\u001b[0m     \u001b[39mif\u001b[39;00m name \u001b[39mnot\u001b[39;00m \u001b[39min\u001b[39;00m \u001b[39mself\u001b[39m\u001b[39m.\u001b[39mrelative_search_space:\n",
      "File \u001b[0;32m~/.local/lib/python3.9/site-packages/optuna/trial/_trial.py:71\u001b[0m, in \u001b[0;36mTrial.relative_params\u001b[0;34m(self)\u001b[0m\n\u001b[1;32m     69\u001b[0m \u001b[39mif\u001b[39;00m \u001b[39mself\u001b[39m\u001b[39m.\u001b[39m_relative_params \u001b[39mis\u001b[39;00m \u001b[39mNone\u001b[39;00m:\n\u001b[1;32m     70\u001b[0m     study \u001b[39m=\u001b[39m pruners\u001b[39m.\u001b[39m_filter_study(\u001b[39mself\u001b[39m\u001b[39m.\u001b[39mstudy, \u001b[39mself\u001b[39m\u001b[39m.\u001b[39m_cached_frozen_trial)\n\u001b[0;32m---> 71\u001b[0m     \u001b[39mself\u001b[39m\u001b[39m.\u001b[39m_relative_params \u001b[39m=\u001b[39m \u001b[39mself\u001b[39;49m\u001b[39m.\u001b[39;49mstudy\u001b[39m.\u001b[39;49msampler\u001b[39m.\u001b[39;49msample_relative(\n\u001b[1;32m     72\u001b[0m         study, \u001b[39mself\u001b[39;49m\u001b[39m.\u001b[39;49m_cached_frozen_trial, \u001b[39mself\u001b[39;49m\u001b[39m.\u001b[39;49mrelative_search_space\n\u001b[1;32m     73\u001b[0m     )\n\u001b[1;32m     74\u001b[0m \u001b[39mreturn\u001b[39;00m \u001b[39mself\u001b[39m\u001b[39m.\u001b[39m_relative_params\n",
      "File \u001b[0;32m~/.local/lib/python3.9/site-packages/optuna_dashboard/preferential/samplers/gp.py:358\u001b[0m, in \u001b[0;36mPreferentialGPSampler.sample_relative\u001b[0;34m(self, study, trial, search_space)\u001b[0m\n\u001b[1;32m    353\u001b[0m params \u001b[39m=\u001b[39m torch\u001b[39m.\u001b[39mtensor(\n\u001b[1;32m    354\u001b[0m     np\u001b[39m.\u001b[39marray([trans\u001b[39m.\u001b[39mtransform(trials[t]\u001b[39m.\u001b[39mparams) \u001b[39mfor\u001b[39;00m t \u001b[39min\u001b[39;00m trials_with_preference]),\n\u001b[1;32m    355\u001b[0m     dtype\u001b[39m=\u001b[39mtorch\u001b[39m.\u001b[39mfloat64,\n\u001b[1;32m    356\u001b[0m )\n\u001b[1;32m    357\u001b[0m pref_ids \u001b[39m=\u001b[39m torch\u001b[39m.\u001b[39mtensor([[ids[b], ids[w]] \u001b[39mfor\u001b[39;00m b, w \u001b[39min\u001b[39;00m preferences], dtype\u001b[39m=\u001b[39mtorch\u001b[39m.\u001b[39mint32)\n\u001b[0;32m--> 358\u001b[0m \u001b[39mwith\u001b[39;00m torch\u001b[39m.\u001b[39mrandom\u001b[39m.\u001b[39mfork_rng():\n\u001b[1;32m    359\u001b[0m     torch\u001b[39m.\u001b[39mmanual_seed(\u001b[39mself\u001b[39m\u001b[39m.\u001b[39m_rng\u001b[39m.\u001b[39mrandint(\u001b[39m2\u001b[39m\u001b[39m*\u001b[39m\u001b[39m*\u001b[39m\u001b[39m32\u001b[39m, dtype\u001b[39m=\u001b[39mnp\u001b[39m.\u001b[39mint64))\n\u001b[1;32m    361\u001b[0m     \u001b[39mself\u001b[39m\u001b[39m.\u001b[39m_gp \u001b[39m=\u001b[39m \u001b[39mself\u001b[39m\u001b[39m.\u001b[39m_gp \u001b[39mor\u001b[39;00m _PreferentialGP(\n\u001b[1;32m    362\u001b[0m         kernel\u001b[39m=\u001b[39m\u001b[39mself\u001b[39m\u001b[39m.\u001b[39mkernel\n\u001b[1;32m    363\u001b[0m         \u001b[39mor\u001b[39;00m gpytorch\u001b[39m.\u001b[39mkernels\u001b[39m.\u001b[39mMaternKernel(\n\u001b[0;32m   (...)\u001b[0m\n\u001b[1;32m    374\u001b[0m         dims\u001b[39m=\u001b[39m\u001b[39mlen\u001b[39m(trans\u001b[39m.\u001b[39mbounds),\n\u001b[1;32m    375\u001b[0m     )\n",
      "File \u001b[0;32m/opt/conda/envs/optuna/lib/python3.9/contextlib.py:119\u001b[0m, in \u001b[0;36m_GeneratorContextManager.__enter__\u001b[0;34m(self)\u001b[0m\n\u001b[1;32m    117\u001b[0m \u001b[39mdel\u001b[39;00m \u001b[39mself\u001b[39m\u001b[39m.\u001b[39margs, \u001b[39mself\u001b[39m\u001b[39m.\u001b[39mkwds, \u001b[39mself\u001b[39m\u001b[39m.\u001b[39mfunc\n\u001b[1;32m    118\u001b[0m \u001b[39mtry\u001b[39;00m:\n\u001b[0;32m--> 119\u001b[0m     \u001b[39mreturn\u001b[39;00m \u001b[39mnext\u001b[39;49m(\u001b[39mself\u001b[39;49m\u001b[39m.\u001b[39;49mgen)\n\u001b[1;32m    120\u001b[0m \u001b[39mexcept\u001b[39;00m \u001b[39mStopIteration\u001b[39;00m:\n\u001b[1;32m    121\u001b[0m     \u001b[39mraise\u001b[39;00m \u001b[39mRuntimeError\u001b[39;00m(\u001b[39m\"\u001b[39m\u001b[39mgenerator didn\u001b[39m\u001b[39m'\u001b[39m\u001b[39mt yield\u001b[39m\u001b[39m\"\u001b[39m) \u001b[39mfrom\u001b[39;00m \u001b[39mNone\u001b[39;00m\n",
      "File \u001b[0;32m~/.local/lib/python3.9/site-packages/torch/random.py:168\u001b[0m, in \u001b[0;36mfork_rng\u001b[0;34m(devices, enabled, _caller, _devices_kw, device_type)\u001b[0m\n\u001b[1;32m    166\u001b[0m device_rng_states \u001b[39m=\u001b[39m []\n\u001b[1;32m    167\u001b[0m \u001b[39mfor\u001b[39;00m device \u001b[39min\u001b[39;00m devices:\n\u001b[0;32m--> 168\u001b[0m     device_rng_states\u001b[39m.\u001b[39mappend(device_mod\u001b[39m.\u001b[39;49mget_rng_state(device))\n\u001b[1;32m    170\u001b[0m \u001b[39mtry\u001b[39;00m:\n\u001b[1;32m    171\u001b[0m     \u001b[39myield\u001b[39;00m\n",
      "File \u001b[0;32m~/.local/lib/python3.9/site-packages/torch/cuda/random.py:30\u001b[0m, in \u001b[0;36mget_rng_state\u001b[0;34m(device)\u001b[0m\n\u001b[1;32m     20\u001b[0m \u001b[39mdef\u001b[39;00m \u001b[39mget_rng_state\u001b[39m(device: Union[\u001b[39mint\u001b[39m, \u001b[39mstr\u001b[39m, torch\u001b[39m.\u001b[39mdevice] \u001b[39m=\u001b[39m \u001b[39m\"\u001b[39m\u001b[39mcuda\u001b[39m\u001b[39m\"\u001b[39m) \u001b[39m-\u001b[39m\u001b[39m>\u001b[39m Tensor:\n\u001b[1;32m     21\u001b[0m \u001b[39m    \u001b[39m\u001b[39mr\u001b[39m\u001b[39m\"\"\"Return the random number generator state of the specified GPU as a ByteTensor.\u001b[39;00m\n\u001b[1;32m     22\u001b[0m \n\u001b[1;32m     23\u001b[0m \u001b[39m    Args:\u001b[39;00m\n\u001b[0;32m   (...)\u001b[0m\n\u001b[1;32m     28\u001b[0m \u001b[39m        This function eagerly initializes CUDA.\u001b[39;00m\n\u001b[1;32m     29\u001b[0m \u001b[39m    \"\"\"\u001b[39;00m\n\u001b[0;32m---> 30\u001b[0m     _lazy_init()\n\u001b[1;32m     31\u001b[0m     \u001b[39mif\u001b[39;00m \u001b[39misinstance\u001b[39m(device, \u001b[39mstr\u001b[39m):\n\u001b[1;32m     32\u001b[0m         device \u001b[39m=\u001b[39m torch\u001b[39m.\u001b[39mdevice(device)\n",
      "File \u001b[0;32m~/.local/lib/python3.9/site-packages/torch/cuda/__init__.py:302\u001b[0m, in \u001b[0;36m_lazy_init\u001b[0;34m()\u001b[0m\n\u001b[1;32m    300\u001b[0m \u001b[39mif\u001b[39;00m \u001b[39m\"\u001b[39m\u001b[39mCUDA_MODULE_LOADING\u001b[39m\u001b[39m\"\u001b[39m \u001b[39mnot\u001b[39;00m \u001b[39min\u001b[39;00m os\u001b[39m.\u001b[39menviron:\n\u001b[1;32m    301\u001b[0m     os\u001b[39m.\u001b[39menviron[\u001b[39m\"\u001b[39m\u001b[39mCUDA_MODULE_LOADING\u001b[39m\u001b[39m\"\u001b[39m] \u001b[39m=\u001b[39m \u001b[39m\"\u001b[39m\u001b[39mLAZY\u001b[39m\u001b[39m\"\u001b[39m\n\u001b[0;32m--> 302\u001b[0m torch\u001b[39m.\u001b[39;49m_C\u001b[39m.\u001b[39;49m_cuda_init()\n\u001b[1;32m    303\u001b[0m \u001b[39m# Some of the queued calls may reentrantly call _lazy_init();\u001b[39;00m\n\u001b[1;32m    304\u001b[0m \u001b[39m# we need to just return without initializing in that case.\u001b[39;00m\n\u001b[1;32m    305\u001b[0m \u001b[39m# However, we must not let any *other* threads in!\u001b[39;00m\n\u001b[1;32m    306\u001b[0m _tls\u001b[39m.\u001b[39mis_initializing \u001b[39m=\u001b[39m \u001b[39mTrue\u001b[39;00m\n",
      "\u001b[0;31mRuntimeError\u001b[0m: The NVIDIA driver on your system is too old (found version 11060). Please update your GPU driver by downloading and installing a new version from the URL: http://www.nvidia.com/Download/index.aspx Alternatively, go to: https://pytorch.org to install a PyTorch version that has been compiled with your version of the CUDA driver."
     ]
    }
   ],
   "source": [
    "if __name__ == \"__main__\":\n",
    "    main()"
   ]
  },
  {
   "cell_type": "code",
   "execution_count": null,
   "metadata": {},
   "outputs": [],
   "source": []
  }
 ],
 "metadata": {
  "kernelspec": {
   "display_name": "optuna",
   "language": "python",
   "name": "python3"
  },
  "language_info": {
   "codemirror_mode": {
    "name": "ipython",
    "version": 3
   },
   "file_extension": ".py",
   "mimetype": "text/x-python",
   "name": "python",
   "nbconvert_exporter": "python",
   "pygments_lexer": "ipython3",
   "version": "3.9.18"
  },
  "orig_nbformat": 4,
  "vscode": {
   "interpreter": {
    "hash": "11ac6faa9248008d391a7540e44edcb95f152bb1f0fd3624523abee6a1a360c7"
   }
  }
 },
 "nbformat": 4,
 "nbformat_minor": 2
}
