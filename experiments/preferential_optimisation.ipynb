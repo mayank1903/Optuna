{
 "cells": [
  {
   "cell_type": "code",
   "execution_count": 1,
   "metadata": {},
   "outputs": [
    {
     "name": "stderr",
     "output_type": "stream",
     "text": [
      "/home/mayank_khulbe_farmart_co/.local/lib/python3.9/site-packages/tqdm/auto.py:21: TqdmWarning: IProgress not found. Please update jupyter and ipywidgets. See https://ipywidgets.readthedocs.io/en/stable/user_install.html\n",
      "  from .autonotebook import tqdm as notebook_tqdm\n",
      "/home/mayank_khulbe_farmart_co/.local/lib/python3.9/site-packages/torch/cuda/__init__.py:141: UserWarning: CUDA initialization: The NVIDIA driver on your system is too old (found version 11060). Please update your GPU driver by downloading and installing a new version from the URL: http://www.nvidia.com/Download/index.aspx Alternatively, go to: https://pytorch.org to install a PyTorch version that has been compiled with your version of the CUDA driver. (Triggered internally at ../c10/cuda/CUDAFunctions.cpp:108.)\n",
      "  return torch._C._cuda_getDeviceCount() > 0\n"
     ]
    }
   ],
   "source": [
    "#general libraries\n",
    "import torch\n",
    "from torch import nn\n",
    "from torchvision import datasets, transforms\n",
    "import math\n",
    "import time\n",
    "import logging\n",
    "import matplotlib.pyplot as plt\n",
    "import itertools\n",
    "import numpy as np\n",
    "from tqdm import tqdm\n",
    "import torchvision.utils as vutils\n",
    "import os\n",
    "import textwrap\n",
    "import torch.optim as optim\n",
    "\n",
    "#optuna\n",
    "import optuna\n",
    "from optuna.artifacts import FileSystemArtifactStore, upload_artifact\n",
    "\n",
    "#optuna dashboard\n",
    "import optuna_dashboard\n",
    "from optuna_dashboard.artifact import get_artifact_path\n",
    "from optuna_dashboard.preferential import create_study\n",
    "from optuna_dashboard import register_preference_feedback_component\n",
    "from optuna_dashboard.preferential.samplers.gp import PreferentialGPSampler\n",
    "\n",
    "torch.manual_seed(111)\n",
    "\n",
    "device = \"cuda\" if torch.cuda.is_available() else \"cpu\""
   ]
  },
  {
   "cell_type": "code",
   "execution_count": 2,
   "metadata": {},
   "outputs": [],
   "source": [
    "def get_mnist_loaders(train_batch_size, test_batch_size):\n",
    "    \"\"\"Get MNIST data loaders\"\"\"\n",
    "    train_loader = torch.utils.data.DataLoader(\n",
    "        datasets.MNIST('../data', train=True, download=True,\n",
    "                       transform=transforms.Compose([\n",
    "                           transforms.ToTensor(),\n",
    "                           transforms.Normalize((0.5,), (0.5,))\n",
    "                       ])),\n",
    "        batch_size=train_batch_size, shuffle=True)\n",
    "\n",
    "    test_loader = torch.utils.data.DataLoader(\n",
    "        datasets.MNIST('../data', train=False, transform=transforms.Compose([\n",
    "                           transforms.ToTensor(),\n",
    "                           transforms.Normalize((0.5,), (0.5,))\n",
    "                       ])),\n",
    "        batch_size=test_batch_size, shuffle=True)\n",
    "\n",
    "    return train_loader, test_loader"
   ]
  },
  {
   "cell_type": "code",
   "execution_count": 3,
   "metadata": {
    "executionInfo": {
     "elapsed": 2,
     "status": "ok",
     "timestamp": 1710700011201,
     "user": {
      "displayName": "mayank khulbe",
      "userId": "08775446541722101300"
     },
     "user_tz": -330
    },
    "id": "HXhGsI5oqjZn"
   },
   "outputs": [],
   "source": [
    "class Discriminator(nn.Module):\n",
    "    def __init__(self):\n",
    "        super().__init__()\n",
    "        self.model = nn.Sequential(\n",
    "            nn.Linear(784, 1024),\n",
    "            nn.LeakyReLU(),\n",
    "            nn.Dropout(0.2),\n",
    "            nn.Linear(1024, 512),\n",
    "            nn.LeakyReLU(),\n",
    "            nn.Dropout(0.2),\n",
    "            nn.Linear(512, 256),\n",
    "            nn.LeakyReLU(),\n",
    "            nn.Dropout(0.2),\n",
    "            nn.Linear(256, 1),\n",
    "            nn.Sigmoid(),\n",
    "        )\n",
    "\n",
    "    def forward(self, x):\n",
    "        x = x.view(x.size(0), 784)\n",
    "        output = self.model(x)\n",
    "        return output"
   ]
  },
  {
   "cell_type": "code",
   "execution_count": 4,
   "metadata": {
    "executionInfo": {
     "elapsed": 4,
     "status": "ok",
     "timestamp": 1710700017246,
     "user": {
      "displayName": "mayank khulbe",
      "userId": "08775446541722101300"
     },
     "user_tz": -330
    },
    "id": "UBjrZAGKqpj1"
   },
   "outputs": [],
   "source": [
    "class Generator(nn.Module):\n",
    "    def __init__(self):\n",
    "        super().__init__()\n",
    "        self.model = nn.Sequential(\n",
    "            nn.Linear(128, 256),\n",
    "            nn.LeakyReLU(),\n",
    "            nn.Linear(256, 512),\n",
    "            nn.LeakyReLU(),\n",
    "            nn.Linear(512, 1024),\n",
    "            nn.LeakyReLU(),\n",
    "            nn.Linear(1024, 784),\n",
    "            nn.Tanh(),\n",
    "        )\n",
    "\n",
    "    def forward(self, x):\n",
    "        output = self.model(x)\n",
    "        output = output.view(x.size(0), 1, 28, 28)\n",
    "        return output"
   ]
  },
  {
   "cell_type": "code",
   "execution_count": 5,
   "metadata": {
    "executionInfo": {
     "elapsed": 4,
     "status": "ok",
     "timestamp": 1710700078420,
     "user": {
      "displayName": "mayank khulbe",
      "userId": "08775446541722101300"
     },
     "user_tz": -330
    },
    "id": "ed9kFcYYqrBq"
   },
   "outputs": [],
   "source": [
    "def train_discriminator(discriminator, images, real_labels, fake_images, fake_labels, criterion, d_optimizer):\n",
    "    discriminator.zero_grad()\n",
    "    outputs = discriminator(images)\n",
    "    real_loss = criterion(outputs, real_labels.unsqueeze(1))\n",
    "    real_score = outputs\n",
    "\n",
    "    outputs = discriminator(fake_images)\n",
    "    fake_loss = criterion(outputs, fake_labels.unsqueeze(1))\n",
    "    fake_score = outputs\n",
    "\n",
    "    d_loss = real_loss + fake_loss\n",
    "    d_loss.backward()\n",
    "\n",
    "    d_optimizer.step()\n",
    "    return d_loss, real_score, fake_score"
   ]
  },
  {
   "cell_type": "code",
   "execution_count": 6,
   "metadata": {
    "executionInfo": {
     "elapsed": 1,
     "status": "ok",
     "timestamp": 1710700080026,
     "user": {
      "displayName": "mayank khulbe",
      "userId": "08775446541722101300"
     },
     "user_tz": -330
    },
    "id": "q2ARWDyUqs1w"
   },
   "outputs": [],
   "source": [
    "def train_generator(generator, discriminator_outputs, real_labels, criterion, g_optimizer):\n",
    "    generator.zero_grad()\n",
    "    g_loss = criterion(discriminator_outputs, real_labels.unsqueeze(1))\n",
    "    g_loss.backward()\n",
    "\n",
    "    g_optimizer.step()\n",
    "    return g_loss"
   ]
  },
  {
   "cell_type": "code",
   "execution_count": 7,
   "metadata": {
    "executionInfo": {
     "elapsed": 2,
     "status": "ok",
     "timestamp": 1710701327946,
     "user": {
      "displayName": "mayank khulbe",
      "userId": "08775446541722101300"
     },
     "user_tz": -330
    },
    "id": "yHfHu8bWsbzA"
   },
   "outputs": [],
   "source": [
    "# Plot grid of 9 images from generator after each epoch\n",
    "def generate_new_images(generator, sample_images, latent_dim, img_dir):\n",
    "    fixed_noise = torch.randn(sample_images, latent_dim).to(device)  # Sample 15 images\n",
    "    fake_images = generator(fixed_noise).to(device)\n",
    "\n",
    "    plt.figure(figsize=(5, 5))\n",
    "    plt.axis(\"off\")\n",
    "    plt.title(\"Generated Images\")\n",
    "    plt.imshow(\n",
    "        np.transpose(\n",
    "            vutils.make_grid(fake_images, nrow=5, padding=1, normalize=True).cpu().numpy(),\n",
    "            (1, 2, 0)\n",
    "        )\n",
    "    )\n",
    "    plt.savefig(img_dir)\n",
    "    plt.show()\n",
    "    plt.close()"
   ]
  },
  {
   "cell_type": "code",
   "execution_count": 8,
   "metadata": {
    "executionInfo": {
     "elapsed": 603,
     "status": "ok",
     "timestamp": 1710701850966,
     "user": {
      "displayName": "mayank khulbe",
      "userId": "08775446541722101300"
     },
     "user_tz": -330
    },
    "id": "I25rgt_pquL1"
   },
   "outputs": [],
   "source": [
    "def train_GANs(study: optuna.Study,\n",
    "               artifact_store: FileSystemArtifactStore):\n",
    "\n",
    "    trial = study.ask() #start a trial\n",
    "\n",
    "    print(f\"running trial number: {trial.number}\")\n",
    "\n",
    "    latent_dim = 128\n",
    "\n",
    "    #define the generator and the discriminator\n",
    "    discriminator = Discriminator().to(device=device)\n",
    "    generator = Generator().to(device=device)\n",
    "\n",
    "    cfg = {\n",
    "        \"train_batch_size\": trial.suggest_categorical(\"train_batch_size\", [64, 128]),\n",
    "        \"device\": \"cuda\" if torch.cuda.is_available() else \"cpu\",\n",
    "        \"num_epochs\": 100,\n",
    "        \"lr\": trial.suggest_float(\"lr\", 1e-5, 1e-3, log=True),\n",
    "        \"optimizer\": trial.suggest_categorical(\"optimizer\", [\"Adam\", \"AdamW\"])\n",
    "    }\n",
    "\n",
    "    #define the loader\n",
    "    batch_size = cfg[\"train_batch_size\"]\n",
    "    train_loader, _ = get_mnist_loaders(batch_size, batch_size)\n",
    "\n",
    "\n",
    "    #define the optimizers\n",
    "    lr = cfg['lr']\n",
    "    optimizer_name = cfg['optimizer']\n",
    "    d_optimizer = getattr(optim, optimizer_name)(discriminator.parameters(), lr=lr)  # Instantiate optimizer from name\n",
    "    g_optimizer = getattr(optim, optimizer_name)(generator.parameters(), lr=lr)  # Instantiate optimizer from name\n",
    "\n",
    "    #define the criterion\n",
    "    criterion = nn.BCELoss()\n",
    "\n",
    "    print(f\"Batch Size: {batch_size}\\nLearning Rate: {lr}\\nOptimizer: {optimizer_name}\")\n",
    "\n",
    "    for epoch in range(cfg['num_epochs']):\n",
    "\n",
    "        print(f\"running epoch number: {epoch}\")\n",
    "\n",
    "        for n, (images, _) in tqdm(enumerate(train_loader)):\n",
    "            images = images.to(device)\n",
    "            real_labels = torch.ones(images.size(0)).to(device)\n",
    "\n",
    "            noise = torch.randn(images.size(0), latent_dim).to(device)\n",
    "            fake_images = generator(noise)\n",
    "            fake_labels = torch.zeros(images.size(0)).to(device)\n",
    "\n",
    "            # Train the discriminator\n",
    "            d_loss, real_score, fake_score = train_discriminator(discriminator, images,\n",
    "                                                                 real_labels, fake_images, fake_labels,\n",
    "                                                                  criterion, d_optimizer)\n",
    "\n",
    "            noise = torch.randn(images.size(0), latent_dim).to(device)\n",
    "            fake_images = generator(noise)\n",
    "            outputs = discriminator(fake_images)\n",
    "\n",
    "            # Train the generator\n",
    "            g_loss = train_generator(generator, outputs, real_labels, criterion, g_optimizer)\n",
    "\n",
    "            if (n+1) % len(train_loader) == 0:\n",
    "\n",
    "                print('Epoch [%d/%d], Step[%d/%d], d_loss: %.4f, g_loss: %.4f, '\n",
    "                    'D(x): %.2f, D(G(z)): %.2f'\n",
    "                    % (epoch + 1, cfg['num_epochs'], n + 1, len(train_loader), d_loss.item(), g_loss.item(),\n",
    "                        real_score.mean().item(), fake_score.mean().item()))\n",
    "\n",
    "    img_path = f\"tmp/generated_image-{trial.number}.png\"\n",
    "    generate_new_images(generator, 30, latent_dim, img_path)\n",
    "\n",
    "    user_attr_key = \"generated-image\"\n",
    "    artifact_id = upload_artifact(trial, img_path, artifact_store)\n",
    "    register_preference_feedback_component(study, \"artifact\", user_attr_key)\n",
    "    trial.set_user_attr(user_attr_key, artifact_id)"
   ]
  },
  {
   "cell_type": "code",
   "execution_count": 9,
   "metadata": {
    "executionInfo": {
     "elapsed": 635,
     "status": "ok",
     "timestamp": 1710701904370,
     "user": {
      "displayName": "mayank khulbe",
      "userId": "08775446541722101300"
     },
     "user_tz": -330
    },
    "id": "nqi0naIIxA5p"
   },
   "outputs": [],
   "source": [
    "def start_optimization(artifact_store: FileSystemArtifactStore):\n",
    "    # 1. Create Study\n",
    "    storage = \"sqlite:///pref_opt.db\"\n",
    "    study = create_study(\n",
    "        n_generate=4,\n",
    "        study_name=\"Preferential Optimization\",\n",
    "        storage=storage,\n",
    "        sampler=PreferentialGPSampler(),\n",
    "        load_if_exists=True,\n",
    "    )\n",
    "\n",
    "    while True:\n",
    "    # If study.should_generate() returns False, the generator waits for human evaluation.\n",
    "        if not study.should_generate():\n",
    "            time.sleep(0.1)  # Avoid busy-loop\n",
    "            continue\n",
    "\n",
    "        train_GANs(study, artifact_store)\n",
    "\n",
    "        "
   ]
  },
  {
   "cell_type": "code",
   "execution_count": 10,
   "metadata": {
    "id": "hfgHFBIHx-tI"
   },
   "outputs": [],
   "source": [
    "def main():\n",
    "    # tmp_path = os.path.join(os.path.dirname(__file__), \"tmp\")\n",
    "    # Get the absolute path to the current notebook file\n",
    "    notebook_dir = os.getcwd()\n",
    "\n",
    "    # Create the absolute path to the \"tmp\" folder\n",
    "    tmp_path = os.path.join(notebook_dir, \"tmp\")\n",
    "\n",
    "    # 1. Create Artifact Store\n",
    "    # artifact_path = os.path.join(os.path.dirname(__file__), \"artifact\")\n",
    "    artifact_path = os.path.join(notebook_dir, \"artifact\")\n",
    "    artifact_store = FileSystemArtifactStore(artifact_path)\n",
    "\n",
    "    print(f\"paths : {tmp_path}, {artifact_path}\")\n",
    "\n",
    "    if not os.path.exists(artifact_path):\n",
    "        os.mkdir(artifact_path)\n",
    "\n",
    "    if not os.path.exists(tmp_path):\n",
    "        os.mkdir(tmp_path)\n",
    "\n",
    "    # 2. Run optimize loop\n",
    "    start_optimization(artifact_store)"
   ]
  },
  {
   "cell_type": "code",
   "execution_count": 11,
   "metadata": {},
   "outputs": [
    {
     "name": "stderr",
     "output_type": "stream",
     "text": [
      "/var/tmp/ipykernel_214395/3673421781.py:12: ExperimentalWarning: FileSystemArtifactStore is experimental (supported from v3.3.0). The interface can change in the future.\n",
      "  artifact_store = FileSystemArtifactStore(artifact_path)\n"
     ]
    },
    {
     "name": "stdout",
     "output_type": "stream",
     "text": [
      "paths : /home/mayank_khulbe_farmart_co/fmt/Optuna/experiments/tmp, /home/mayank_khulbe_farmart_co/fmt/Optuna/experiments/artifact\n"
     ]
    },
    {
     "name": "stderr",
     "output_type": "stream",
     "text": [
      "[I 2024-03-25 04:55:54,343] A new study created in RDB with name: Preferential Optimization\n",
      "/home/mayank_khulbe_farmart_co/.local/lib/python3.9/site-packages/optuna_dashboard/preferential/_study.py:297: FutureWarning: system_attrs has been deprecated in v3.1.0. This feature will be removed in v5.0.0. See https://github.com/optuna/optuna/releases/tag/v3.1.0.\n",
      "  return len(active_trials) < get_n_generate(self._study.system_attrs)\n",
      "/home/mayank_khulbe_farmart_co/.local/lib/python3.9/site-packages/optuna_dashboard/preferential/samplers/gp.py:471: UserWarning: Dynamic search space detected. Falling back to RandomSampler.\n",
      "  warnings.warn(\n"
     ]
    },
    {
     "name": "stdout",
     "output_type": "stream",
     "text": [
      "running trial number: 0\n",
      "Batch Size: 128\n",
      "Learning Rate: 0.0007937819065498264\n",
      "Optimizer: Adam\n",
      "running epoch number: 0\n"
     ]
    },
    {
     "name": "stderr",
     "output_type": "stream",
     "text": [
      "469it [00:26, 17.79it/s]\n"
     ]
    },
    {
     "name": "stdout",
     "output_type": "stream",
     "text": [
      "Epoch [1/100], Step[469/469], d_loss: 0.6401, g_loss: 6.0696, D(x): 0.87, D(G(z)): 0.31\n",
      "running epoch number: 1\n"
     ]
    },
    {
     "name": "stderr",
     "output_type": "stream",
     "text": [
      "469it [00:25, 18.52it/s]\n"
     ]
    },
    {
     "name": "stdout",
     "output_type": "stream",
     "text": [
      "Epoch [2/100], Step[469/469], d_loss: 0.5584, g_loss: 4.2254, D(x): 0.83, D(G(z)): 0.03\n",
      "running epoch number: 2\n"
     ]
    },
    {
     "name": "stderr",
     "output_type": "stream",
     "text": [
      "469it [00:25, 18.20it/s]\n"
     ]
    },
    {
     "name": "stdout",
     "output_type": "stream",
     "text": [
      "Epoch [3/100], Step[469/469], d_loss: 0.2909, g_loss: 3.7679, D(x): 0.90, D(G(z)): 0.06\n",
      "running epoch number: 3\n"
     ]
    },
    {
     "name": "stderr",
     "output_type": "stream",
     "text": [
      "469it [00:25, 18.65it/s]\n"
     ]
    },
    {
     "name": "stdout",
     "output_type": "stream",
     "text": [
      "Epoch [4/100], Step[469/469], d_loss: 0.2559, g_loss: 3.2507, D(x): 0.93, D(G(z)): 0.09\n",
      "running epoch number: 4\n"
     ]
    },
    {
     "name": "stderr",
     "output_type": "stream",
     "text": [
      "469it [00:25, 18.39it/s]\n"
     ]
    },
    {
     "name": "stdout",
     "output_type": "stream",
     "text": [
      "Epoch [5/100], Step[469/469], d_loss: 0.1562, g_loss: 4.3611, D(x): 0.95, D(G(z)): 0.07\n",
      "running epoch number: 5\n"
     ]
    },
    {
     "name": "stderr",
     "output_type": "stream",
     "text": [
      "469it [00:25, 18.06it/s]\n"
     ]
    },
    {
     "name": "stdout",
     "output_type": "stream",
     "text": [
      "Epoch [6/100], Step[469/469], d_loss: 0.2752, g_loss: 3.6175, D(x): 0.90, D(G(z)): 0.08\n",
      "running epoch number: 6\n"
     ]
    },
    {
     "name": "stderr",
     "output_type": "stream",
     "text": [
      "469it [00:25, 18.07it/s]\n"
     ]
    },
    {
     "name": "stdout",
     "output_type": "stream",
     "text": [
      "Epoch [7/100], Step[469/469], d_loss: 0.3854, g_loss: 2.0124, D(x): 0.91, D(G(z)): 0.17\n",
      "running epoch number: 7\n"
     ]
    },
    {
     "name": "stderr",
     "output_type": "stream",
     "text": [
      "469it [00:26, 17.80it/s]\n"
     ]
    },
    {
     "name": "stdout",
     "output_type": "stream",
     "text": [
      "Epoch [8/100], Step[469/469], d_loss: 0.3684, g_loss: 2.8334, D(x): 0.85, D(G(z)): 0.09\n",
      "running epoch number: 8\n"
     ]
    },
    {
     "name": "stderr",
     "output_type": "stream",
     "text": [
      "469it [00:25, 18.59it/s]\n"
     ]
    },
    {
     "name": "stdout",
     "output_type": "stream",
     "text": [
      "Epoch [9/100], Step[469/469], d_loss: 0.4962, g_loss: 2.2511, D(x): 0.81, D(G(z)): 0.10\n",
      "running epoch number: 9\n"
     ]
    },
    {
     "name": "stderr",
     "output_type": "stream",
     "text": [
      "469it [00:25, 18.16it/s]\n"
     ]
    },
    {
     "name": "stdout",
     "output_type": "stream",
     "text": [
      "Epoch [10/100], Step[469/469], d_loss: 0.5632, g_loss: 2.0501, D(x): 0.83, D(G(z)): 0.15\n",
      "running epoch number: 10\n"
     ]
    },
    {
     "name": "stderr",
     "output_type": "stream",
     "text": [
      "469it [00:25, 18.40it/s]\n"
     ]
    },
    {
     "name": "stdout",
     "output_type": "stream",
     "text": [
      "Epoch [11/100], Step[469/469], d_loss: 0.7090, g_loss: 2.0119, D(x): 0.85, D(G(z)): 0.27\n",
      "running epoch number: 11\n"
     ]
    },
    {
     "name": "stderr",
     "output_type": "stream",
     "text": [
      "469it [00:25, 18.39it/s]\n"
     ]
    },
    {
     "name": "stdout",
     "output_type": "stream",
     "text": [
      "Epoch [12/100], Step[469/469], d_loss: 0.5522, g_loss: 2.5767, D(x): 0.80, D(G(z)): 0.17\n",
      "running epoch number: 12\n"
     ]
    },
    {
     "name": "stderr",
     "output_type": "stream",
     "text": [
      "469it [00:25, 18.26it/s]\n"
     ]
    },
    {
     "name": "stdout",
     "output_type": "stream",
     "text": [
      "Epoch [13/100], Step[469/469], d_loss: 0.6907, g_loss: 1.9624, D(x): 0.76, D(G(z)): 0.22\n",
      "running epoch number: 13\n"
     ]
    },
    {
     "name": "stderr",
     "output_type": "stream",
     "text": [
      "469it [00:25, 18.33it/s]\n"
     ]
    },
    {
     "name": "stdout",
     "output_type": "stream",
     "text": [
      "Epoch [14/100], Step[469/469], d_loss: 0.7079, g_loss: 1.9512, D(x): 0.74, D(G(z)): 0.21\n",
      "running epoch number: 14\n"
     ]
    },
    {
     "name": "stderr",
     "output_type": "stream",
     "text": [
      "469it [00:25, 18.28it/s]\n"
     ]
    },
    {
     "name": "stdout",
     "output_type": "stream",
     "text": [
      "Epoch [15/100], Step[469/469], d_loss: 0.6172, g_loss: 2.1128, D(x): 0.80, D(G(z)): 0.21\n",
      "running epoch number: 15\n"
     ]
    },
    {
     "name": "stderr",
     "output_type": "stream",
     "text": [
      "469it [00:25, 18.76it/s]\n"
     ]
    },
    {
     "name": "stdout",
     "output_type": "stream",
     "text": [
      "Epoch [16/100], Step[469/469], d_loss: 0.7739, g_loss: 2.0049, D(x): 0.74, D(G(z)): 0.23\n",
      "running epoch number: 16\n"
     ]
    },
    {
     "name": "stderr",
     "output_type": "stream",
     "text": [
      "469it [00:25, 18.18it/s]\n"
     ]
    },
    {
     "name": "stdout",
     "output_type": "stream",
     "text": [
      "Epoch [17/100], Step[469/469], d_loss: 0.7568, g_loss: 1.7659, D(x): 0.74, D(G(z)): 0.26\n",
      "running epoch number: 17\n"
     ]
    },
    {
     "name": "stderr",
     "output_type": "stream",
     "text": [
      "469it [00:25, 18.40it/s]\n"
     ]
    },
    {
     "name": "stdout",
     "output_type": "stream",
     "text": [
      "Epoch [18/100], Step[469/469], d_loss: 0.8980, g_loss: 1.2900, D(x): 0.70, D(G(z)): 0.30\n",
      "running epoch number: 18\n"
     ]
    },
    {
     "name": "stderr",
     "output_type": "stream",
     "text": [
      "469it [00:25, 18.26it/s]\n"
     ]
    },
    {
     "name": "stdout",
     "output_type": "stream",
     "text": [
      "Epoch [19/100], Step[469/469], d_loss: 0.9550, g_loss: 1.5349, D(x): 0.65, D(G(z)): 0.30\n",
      "running epoch number: 19\n"
     ]
    },
    {
     "name": "stderr",
     "output_type": "stream",
     "text": [
      "469it [00:25, 18.40it/s]\n"
     ]
    },
    {
     "name": "stdout",
     "output_type": "stream",
     "text": [
      "Epoch [20/100], Step[469/469], d_loss: 0.9164, g_loss: 1.3940, D(x): 0.68, D(G(z)): 0.30\n",
      "running epoch number: 20\n"
     ]
    },
    {
     "name": "stderr",
     "output_type": "stream",
     "text": [
      "469it [00:25, 18.41it/s]\n"
     ]
    },
    {
     "name": "stdout",
     "output_type": "stream",
     "text": [
      "Epoch [21/100], Step[469/469], d_loss: 1.0045, g_loss: 1.4380, D(x): 0.73, D(G(z)): 0.37\n",
      "running epoch number: 21\n"
     ]
    },
    {
     "name": "stderr",
     "output_type": "stream",
     "text": [
      "469it [00:25, 18.44it/s]\n"
     ]
    },
    {
     "name": "stdout",
     "output_type": "stream",
     "text": [
      "Epoch [22/100], Step[469/469], d_loss: 1.1331, g_loss: 1.0951, D(x): 0.70, D(G(z)): 0.41\n",
      "running epoch number: 22\n"
     ]
    },
    {
     "name": "stderr",
     "output_type": "stream",
     "text": [
      "469it [00:25, 18.62it/s]\n"
     ]
    },
    {
     "name": "stdout",
     "output_type": "stream",
     "text": [
      "Epoch [23/100], Step[469/469], d_loss: 0.9308, g_loss: 1.6903, D(x): 0.71, D(G(z)): 0.35\n",
      "running epoch number: 23\n"
     ]
    },
    {
     "name": "stderr",
     "output_type": "stream",
     "text": [
      "469it [00:25, 18.11it/s]\n"
     ]
    },
    {
     "name": "stdout",
     "output_type": "stream",
     "text": [
      "Epoch [24/100], Step[469/469], d_loss: 0.9818, g_loss: 1.2451, D(x): 0.64, D(G(z)): 0.32\n",
      "running epoch number: 24\n"
     ]
    },
    {
     "name": "stderr",
     "output_type": "stream",
     "text": [
      "469it [00:25, 18.57it/s]\n"
     ]
    },
    {
     "name": "stdout",
     "output_type": "stream",
     "text": [
      "Epoch [25/100], Step[469/469], d_loss: 1.0767, g_loss: 1.2883, D(x): 0.62, D(G(z)): 0.34\n",
      "running epoch number: 25\n"
     ]
    },
    {
     "name": "stderr",
     "output_type": "stream",
     "text": [
      "469it [00:25, 18.41it/s]\n"
     ]
    },
    {
     "name": "stdout",
     "output_type": "stream",
     "text": [
      "Epoch [26/100], Step[469/469], d_loss: 1.1167, g_loss: 1.1961, D(x): 0.62, D(G(z)): 0.37\n",
      "running epoch number: 26\n"
     ]
    },
    {
     "name": "stderr",
     "output_type": "stream",
     "text": [
      "469it [00:25, 18.29it/s]\n"
     ]
    },
    {
     "name": "stdout",
     "output_type": "stream",
     "text": [
      "Epoch [27/100], Step[469/469], d_loss: 1.1524, g_loss: 1.3152, D(x): 0.63, D(G(z)): 0.37\n",
      "running epoch number: 27\n"
     ]
    },
    {
     "name": "stderr",
     "output_type": "stream",
     "text": [
      "469it [00:24, 18.80it/s]\n"
     ]
    },
    {
     "name": "stdout",
     "output_type": "stream",
     "text": [
      "Epoch [28/100], Step[469/469], d_loss: 1.0499, g_loss: 1.2584, D(x): 0.64, D(G(z)): 0.36\n",
      "running epoch number: 28\n"
     ]
    },
    {
     "name": "stderr",
     "output_type": "stream",
     "text": [
      "469it [00:25, 18.19it/s]\n"
     ]
    },
    {
     "name": "stdout",
     "output_type": "stream",
     "text": [
      "Epoch [29/100], Step[469/469], d_loss: 1.2015, g_loss: 1.1012, D(x): 0.66, D(G(z)): 0.42\n",
      "running epoch number: 29\n"
     ]
    },
    {
     "name": "stderr",
     "output_type": "stream",
     "text": [
      "469it [00:25, 18.53it/s]\n"
     ]
    },
    {
     "name": "stdout",
     "output_type": "stream",
     "text": [
      "Epoch [30/100], Step[469/469], d_loss: 1.2263, g_loss: 0.9045, D(x): 0.60, D(G(z)): 0.41\n",
      "running epoch number: 30\n"
     ]
    },
    {
     "name": "stderr",
     "output_type": "stream",
     "text": [
      "469it [00:25, 18.35it/s]\n"
     ]
    },
    {
     "name": "stdout",
     "output_type": "stream",
     "text": [
      "Epoch [31/100], Step[469/469], d_loss: 1.0934, g_loss: 1.0761, D(x): 0.58, D(G(z)): 0.33\n",
      "running epoch number: 31\n"
     ]
    },
    {
     "name": "stderr",
     "output_type": "stream",
     "text": [
      "469it [00:25, 18.54it/s]\n"
     ]
    },
    {
     "name": "stdout",
     "output_type": "stream",
     "text": [
      "Epoch [32/100], Step[469/469], d_loss: 1.1300, g_loss: 1.0889, D(x): 0.60, D(G(z)): 0.40\n",
      "running epoch number: 32\n"
     ]
    },
    {
     "name": "stderr",
     "output_type": "stream",
     "text": [
      "469it [00:25, 18.49it/s]\n"
     ]
    },
    {
     "name": "stdout",
     "output_type": "stream",
     "text": [
      "Epoch [33/100], Step[469/469], d_loss: 1.1428, g_loss: 1.0973, D(x): 0.60, D(G(z)): 0.39\n",
      "running epoch number: 33\n"
     ]
    },
    {
     "name": "stderr",
     "output_type": "stream",
     "text": [
      "469it [00:25, 18.20it/s]\n"
     ]
    },
    {
     "name": "stdout",
     "output_type": "stream",
     "text": [
      "Epoch [34/100], Step[469/469], d_loss: 1.0553, g_loss: 1.1236, D(x): 0.62, D(G(z)): 0.35\n",
      "running epoch number: 34\n"
     ]
    },
    {
     "name": "stderr",
     "output_type": "stream",
     "text": [
      "469it [00:25, 18.64it/s]\n"
     ]
    },
    {
     "name": "stdout",
     "output_type": "stream",
     "text": [
      "Epoch [35/100], Step[469/469], d_loss: 1.1151, g_loss: 1.0692, D(x): 0.63, D(G(z)): 0.41\n",
      "running epoch number: 35\n"
     ]
    },
    {
     "name": "stderr",
     "output_type": "stream",
     "text": [
      "469it [00:25, 18.24it/s]\n"
     ]
    },
    {
     "name": "stdout",
     "output_type": "stream",
     "text": [
      "Epoch [36/100], Step[469/469], d_loss: 1.1821, g_loss: 0.9855, D(x): 0.56, D(G(z)): 0.39\n",
      "running epoch number: 36\n"
     ]
    },
    {
     "name": "stderr",
     "output_type": "stream",
     "text": [
      "469it [00:25, 18.49it/s]\n"
     ]
    },
    {
     "name": "stdout",
     "output_type": "stream",
     "text": [
      "Epoch [37/100], Step[469/469], d_loss: 1.1962, g_loss: 0.9071, D(x): 0.59, D(G(z)): 0.42\n",
      "running epoch number: 37\n"
     ]
    },
    {
     "name": "stderr",
     "output_type": "stream",
     "text": [
      "469it [00:25, 18.36it/s]\n"
     ]
    },
    {
     "name": "stdout",
     "output_type": "stream",
     "text": [
      "Epoch [38/100], Step[469/469], d_loss: 1.0901, g_loss: 1.1676, D(x): 0.65, D(G(z)): 0.39\n",
      "running epoch number: 38\n"
     ]
    },
    {
     "name": "stderr",
     "output_type": "stream",
     "text": [
      "469it [00:25, 18.40it/s]\n"
     ]
    },
    {
     "name": "stdout",
     "output_type": "stream",
     "text": [
      "Epoch [39/100], Step[469/469], d_loss: 1.1286, g_loss: 0.9131, D(x): 0.62, D(G(z)): 0.44\n",
      "running epoch number: 39\n"
     ]
    },
    {
     "name": "stderr",
     "output_type": "stream",
     "text": [
      "469it [00:25, 18.64it/s]\n"
     ]
    },
    {
     "name": "stdout",
     "output_type": "stream",
     "text": [
      "Epoch [40/100], Step[469/469], d_loss: 1.1668, g_loss: 0.9812, D(x): 0.56, D(G(z)): 0.39\n",
      "running epoch number: 40\n"
     ]
    },
    {
     "name": "stderr",
     "output_type": "stream",
     "text": [
      "469it [00:25, 18.26it/s]\n"
     ]
    },
    {
     "name": "stdout",
     "output_type": "stream",
     "text": [
      "Epoch [41/100], Step[469/469], d_loss: 1.2167, g_loss: 1.0309, D(x): 0.55, D(G(z)): 0.38\n",
      "running epoch number: 41\n"
     ]
    },
    {
     "name": "stderr",
     "output_type": "stream",
     "text": [
      "469it [00:25, 18.28it/s]\n"
     ]
    },
    {
     "name": "stdout",
     "output_type": "stream",
     "text": [
      "Epoch [42/100], Step[469/469], d_loss: 1.3338, g_loss: 0.9533, D(x): 0.49, D(G(z)): 0.41\n",
      "running epoch number: 42\n"
     ]
    },
    {
     "name": "stderr",
     "output_type": "stream",
     "text": [
      "469it [00:25, 18.19it/s]\n"
     ]
    },
    {
     "name": "stdout",
     "output_type": "stream",
     "text": [
      "Epoch [43/100], Step[469/469], d_loss: 1.2011, g_loss: 1.0549, D(x): 0.59, D(G(z)): 0.39\n",
      "running epoch number: 43\n"
     ]
    },
    {
     "name": "stderr",
     "output_type": "stream",
     "text": [
      "469it [00:25, 18.58it/s]\n"
     ]
    },
    {
     "name": "stdout",
     "output_type": "stream",
     "text": [
      "Epoch [44/100], Step[469/469], d_loss: 1.3079, g_loss: 0.9252, D(x): 0.57, D(G(z)): 0.46\n",
      "running epoch number: 44\n"
     ]
    },
    {
     "name": "stderr",
     "output_type": "stream",
     "text": [
      "469it [00:25, 18.14it/s]\n"
     ]
    },
    {
     "name": "stdout",
     "output_type": "stream",
     "text": [
      "Epoch [45/100], Step[469/469], d_loss: 1.2172, g_loss: 1.0365, D(x): 0.59, D(G(z)): 0.41\n",
      "running epoch number: 45\n"
     ]
    },
    {
     "name": "stderr",
     "output_type": "stream",
     "text": [
      "469it [00:25, 18.58it/s]\n"
     ]
    },
    {
     "name": "stdout",
     "output_type": "stream",
     "text": [
      "Epoch [46/100], Step[469/469], d_loss: 1.1950, g_loss: 0.9432, D(x): 0.58, D(G(z)): 0.42\n",
      "running epoch number: 46\n"
     ]
    },
    {
     "name": "stderr",
     "output_type": "stream",
     "text": [
      "469it [00:25, 18.46it/s]\n"
     ]
    },
    {
     "name": "stdout",
     "output_type": "stream",
     "text": [
      "Epoch [47/100], Step[469/469], d_loss: 1.2357, g_loss: 0.9496, D(x): 0.57, D(G(z)): 0.43\n",
      "running epoch number: 47\n"
     ]
    },
    {
     "name": "stderr",
     "output_type": "stream",
     "text": [
      "469it [00:25, 18.14it/s]\n"
     ]
    },
    {
     "name": "stdout",
     "output_type": "stream",
     "text": [
      "Epoch [48/100], Step[469/469], d_loss: 1.3097, g_loss: 1.0085, D(x): 0.50, D(G(z)): 0.40\n",
      "running epoch number: 48\n"
     ]
    },
    {
     "name": "stderr",
     "output_type": "stream",
     "text": [
      "469it [00:25, 18.54it/s]\n"
     ]
    },
    {
     "name": "stdout",
     "output_type": "stream",
     "text": [
      "Epoch [49/100], Step[469/469], d_loss: 1.3455, g_loss: 1.0339, D(x): 0.50, D(G(z)): 0.40\n",
      "running epoch number: 49\n"
     ]
    },
    {
     "name": "stderr",
     "output_type": "stream",
     "text": [
      "469it [00:25, 18.06it/s]\n"
     ]
    },
    {
     "name": "stdout",
     "output_type": "stream",
     "text": [
      "Epoch [50/100], Step[469/469], d_loss: 1.2255, g_loss: 1.0245, D(x): 0.61, D(G(z)): 0.44\n",
      "running epoch number: 50\n"
     ]
    },
    {
     "name": "stderr",
     "output_type": "stream",
     "text": [
      "469it [00:25, 18.56it/s]\n"
     ]
    },
    {
     "name": "stdout",
     "output_type": "stream",
     "text": [
      "Epoch [51/100], Step[469/469], d_loss: 1.3628, g_loss: 0.8663, D(x): 0.57, D(G(z)): 0.49\n",
      "running epoch number: 51\n"
     ]
    },
    {
     "name": "stderr",
     "output_type": "stream",
     "text": [
      "469it [00:25, 18.31it/s]\n"
     ]
    },
    {
     "name": "stdout",
     "output_type": "stream",
     "text": [
      "Epoch [52/100], Step[469/469], d_loss: 1.1683, g_loss: 0.8111, D(x): 0.61, D(G(z)): 0.43\n",
      "running epoch number: 52\n"
     ]
    },
    {
     "name": "stderr",
     "output_type": "stream",
     "text": [
      "469it [00:25, 18.47it/s]\n"
     ]
    },
    {
     "name": "stdout",
     "output_type": "stream",
     "text": [
      "Epoch [53/100], Step[469/469], d_loss: 1.3459, g_loss: 0.8863, D(x): 0.57, D(G(z)): 0.48\n",
      "running epoch number: 53\n"
     ]
    },
    {
     "name": "stderr",
     "output_type": "stream",
     "text": [
      "469it [00:25, 18.46it/s]\n"
     ]
    },
    {
     "name": "stdout",
     "output_type": "stream",
     "text": [
      "Epoch [54/100], Step[469/469], d_loss: 1.3107, g_loss: 0.7951, D(x): 0.60, D(G(z)): 0.50\n",
      "running epoch number: 54\n"
     ]
    },
    {
     "name": "stderr",
     "output_type": "stream",
     "text": [
      "469it [00:25, 18.10it/s]\n"
     ]
    },
    {
     "name": "stdout",
     "output_type": "stream",
     "text": [
      "Epoch [55/100], Step[469/469], d_loss: 1.2991, g_loss: 0.9525, D(x): 0.53, D(G(z)): 0.43\n",
      "running epoch number: 55\n"
     ]
    },
    {
     "name": "stderr",
     "output_type": "stream",
     "text": [
      "469it [00:25, 18.48it/s]\n"
     ]
    },
    {
     "name": "stdout",
     "output_type": "stream",
     "text": [
      "Epoch [56/100], Step[469/469], d_loss: 1.1664, g_loss: 0.9484, D(x): 0.58, D(G(z)): 0.39\n",
      "running epoch number: 56\n"
     ]
    },
    {
     "name": "stderr",
     "output_type": "stream",
     "text": [
      "469it [00:25, 18.10it/s]\n"
     ]
    },
    {
     "name": "stdout",
     "output_type": "stream",
     "text": [
      "Epoch [57/100], Step[469/469], d_loss: 1.2975, g_loss: 1.0010, D(x): 0.58, D(G(z)): 0.46\n",
      "running epoch number: 57\n"
     ]
    },
    {
     "name": "stderr",
     "output_type": "stream",
     "text": [
      "469it [00:25, 18.37it/s]\n"
     ]
    },
    {
     "name": "stdout",
     "output_type": "stream",
     "text": [
      "Epoch [58/100], Step[469/469], d_loss: 1.1806, g_loss: 0.9848, D(x): 0.56, D(G(z)): 0.41\n",
      "running epoch number: 58\n"
     ]
    },
    {
     "name": "stderr",
     "output_type": "stream",
     "text": [
      "469it [00:25, 18.46it/s]\n"
     ]
    },
    {
     "name": "stdout",
     "output_type": "stream",
     "text": [
      "Epoch [59/100], Step[469/469], d_loss: 1.2839, g_loss: 0.9736, D(x): 0.55, D(G(z)): 0.42\n",
      "running epoch number: 59\n"
     ]
    },
    {
     "name": "stderr",
     "output_type": "stream",
     "text": [
      "469it [00:25, 18.48it/s]\n"
     ]
    },
    {
     "name": "stdout",
     "output_type": "stream",
     "text": [
      "Epoch [60/100], Step[469/469], d_loss: 1.1307, g_loss: 0.9761, D(x): 0.61, D(G(z)): 0.41\n",
      "running epoch number: 60\n"
     ]
    },
    {
     "name": "stderr",
     "output_type": "stream",
     "text": [
      "469it [00:25, 18.43it/s]\n"
     ]
    },
    {
     "name": "stdout",
     "output_type": "stream",
     "text": [
      "Epoch [61/100], Step[469/469], d_loss: 1.2095, g_loss: 0.8709, D(x): 0.55, D(G(z)): 0.40\n",
      "running epoch number: 61\n"
     ]
    },
    {
     "name": "stderr",
     "output_type": "stream",
     "text": [
      "469it [00:25, 18.40it/s]\n"
     ]
    },
    {
     "name": "stdout",
     "output_type": "stream",
     "text": [
      "Epoch [62/100], Step[469/469], d_loss: 1.2702, g_loss: 0.9743, D(x): 0.50, D(G(z)): 0.38\n",
      "running epoch number: 62\n"
     ]
    },
    {
     "name": "stderr",
     "output_type": "stream",
     "text": [
      "469it [00:25, 18.66it/s]\n"
     ]
    },
    {
     "name": "stdout",
     "output_type": "stream",
     "text": [
      "Epoch [63/100], Step[469/469], d_loss: 1.2551, g_loss: 0.9763, D(x): 0.56, D(G(z)): 0.42\n",
      "running epoch number: 63\n"
     ]
    },
    {
     "name": "stderr",
     "output_type": "stream",
     "text": [
      "469it [00:26, 17.95it/s]\n"
     ]
    },
    {
     "name": "stdout",
     "output_type": "stream",
     "text": [
      "Epoch [64/100], Step[469/469], d_loss: 1.2435, g_loss: 0.9200, D(x): 0.59, D(G(z)): 0.46\n",
      "running epoch number: 64\n"
     ]
    },
    {
     "name": "stderr",
     "output_type": "stream",
     "text": [
      "469it [00:24, 18.88it/s]\n"
     ]
    },
    {
     "name": "stdout",
     "output_type": "stream",
     "text": [
      "Epoch [65/100], Step[469/469], d_loss: 1.3912, g_loss: 0.8889, D(x): 0.52, D(G(z)): 0.46\n",
      "running epoch number: 65\n"
     ]
    },
    {
     "name": "stderr",
     "output_type": "stream",
     "text": [
      "469it [00:24, 18.98it/s]\n"
     ]
    },
    {
     "name": "stdout",
     "output_type": "stream",
     "text": [
      "Epoch [66/100], Step[469/469], d_loss: 1.2590, g_loss: 1.0282, D(x): 0.54, D(G(z)): 0.42\n",
      "running epoch number: 66\n"
     ]
    },
    {
     "name": "stderr",
     "output_type": "stream",
     "text": [
      "469it [00:24, 19.28it/s]\n"
     ]
    },
    {
     "name": "stdout",
     "output_type": "stream",
     "text": [
      "Epoch [67/100], Step[469/469], d_loss: 1.1906, g_loss: 0.9345, D(x): 0.60, D(G(z)): 0.45\n",
      "running epoch number: 67\n"
     ]
    },
    {
     "name": "stderr",
     "output_type": "stream",
     "text": [
      "469it [00:23, 19.82it/s]\n"
     ]
    },
    {
     "name": "stdout",
     "output_type": "stream",
     "text": [
      "Epoch [68/100], Step[469/469], d_loss: 1.3222, g_loss: 0.9124, D(x): 0.55, D(G(z)): 0.44\n",
      "running epoch number: 68\n"
     ]
    },
    {
     "name": "stderr",
     "output_type": "stream",
     "text": [
      "469it [00:24, 19.43it/s]\n"
     ]
    },
    {
     "name": "stdout",
     "output_type": "stream",
     "text": [
      "Epoch [69/100], Step[469/469], d_loss: 1.3138, g_loss: 0.9146, D(x): 0.60, D(G(z)): 0.49\n",
      "running epoch number: 69\n"
     ]
    },
    {
     "name": "stderr",
     "output_type": "stream",
     "text": [
      "469it [00:23, 20.09it/s]\n"
     ]
    },
    {
     "name": "stdout",
     "output_type": "stream",
     "text": [
      "Epoch [70/100], Step[469/469], d_loss: 1.2325, g_loss: 0.9673, D(x): 0.55, D(G(z)): 0.40\n",
      "running epoch number: 70\n"
     ]
    },
    {
     "name": "stderr",
     "output_type": "stream",
     "text": [
      "469it [00:23, 20.18it/s]\n"
     ]
    },
    {
     "name": "stdout",
     "output_type": "stream",
     "text": [
      "Epoch [71/100], Step[469/469], d_loss: 1.2873, g_loss: 1.0012, D(x): 0.50, D(G(z)): 0.40\n",
      "running epoch number: 71\n"
     ]
    },
    {
     "name": "stderr",
     "output_type": "stream",
     "text": [
      "469it [00:24, 19.53it/s]\n"
     ]
    },
    {
     "name": "stdout",
     "output_type": "stream",
     "text": [
      "Epoch [72/100], Step[469/469], d_loss: 1.2075, g_loss: 1.0083, D(x): 0.58, D(G(z)): 0.43\n",
      "running epoch number: 72\n"
     ]
    },
    {
     "name": "stderr",
     "output_type": "stream",
     "text": [
      "469it [00:23, 20.27it/s]\n"
     ]
    },
    {
     "name": "stdout",
     "output_type": "stream",
     "text": [
      "Epoch [73/100], Step[469/469], d_loss: 1.2354, g_loss: 1.0154, D(x): 0.54, D(G(z)): 0.41\n",
      "running epoch number: 73\n"
     ]
    },
    {
     "name": "stderr",
     "output_type": "stream",
     "text": [
      "469it [00:23, 20.01it/s]\n"
     ]
    },
    {
     "name": "stdout",
     "output_type": "stream",
     "text": [
      "Epoch [74/100], Step[469/469], d_loss: 1.2518, g_loss: 0.9405, D(x): 0.53, D(G(z)): 0.41\n",
      "running epoch number: 74\n"
     ]
    },
    {
     "name": "stderr",
     "output_type": "stream",
     "text": [
      "469it [00:23, 20.20it/s]\n"
     ]
    },
    {
     "name": "stdout",
     "output_type": "stream",
     "text": [
      "Epoch [75/100], Step[469/469], d_loss: 1.2518, g_loss: 1.0649, D(x): 0.52, D(G(z)): 0.40\n",
      "running epoch number: 75\n"
     ]
    },
    {
     "name": "stderr",
     "output_type": "stream",
     "text": [
      "469it [00:22, 20.48it/s]\n"
     ]
    },
    {
     "name": "stdout",
     "output_type": "stream",
     "text": [
      "Epoch [76/100], Step[469/469], d_loss: 1.2600, g_loss: 0.9612, D(x): 0.53, D(G(z)): 0.41\n",
      "running epoch number: 76\n"
     ]
    },
    {
     "name": "stderr",
     "output_type": "stream",
     "text": [
      "469it [00:23, 20.05it/s]\n"
     ]
    },
    {
     "name": "stdout",
     "output_type": "stream",
     "text": [
      "Epoch [77/100], Step[469/469], d_loss: 1.3097, g_loss: 0.9936, D(x): 0.56, D(G(z)): 0.45\n",
      "running epoch number: 77\n"
     ]
    },
    {
     "name": "stderr",
     "output_type": "stream",
     "text": [
      "469it [00:23, 20.37it/s]\n"
     ]
    },
    {
     "name": "stdout",
     "output_type": "stream",
     "text": [
      "Epoch [78/100], Step[469/469], d_loss: 1.2721, g_loss: 1.0256, D(x): 0.56, D(G(z)): 0.43\n",
      "running epoch number: 78\n"
     ]
    },
    {
     "name": "stderr",
     "output_type": "stream",
     "text": [
      "469it [00:23, 19.93it/s]\n"
     ]
    },
    {
     "name": "stdout",
     "output_type": "stream",
     "text": [
      "Epoch [79/100], Step[469/469], d_loss: 1.1903, g_loss: 0.9828, D(x): 0.59, D(G(z)): 0.43\n",
      "running epoch number: 79\n"
     ]
    },
    {
     "name": "stderr",
     "output_type": "stream",
     "text": [
      "469it [00:22, 20.44it/s]\n"
     ]
    },
    {
     "name": "stdout",
     "output_type": "stream",
     "text": [
      "Epoch [80/100], Step[469/469], d_loss: 1.2164, g_loss: 0.8478, D(x): 0.61, D(G(z)): 0.45\n",
      "running epoch number: 80\n"
     ]
    },
    {
     "name": "stderr",
     "output_type": "stream",
     "text": [
      "469it [00:23, 20.16it/s]\n"
     ]
    },
    {
     "name": "stdout",
     "output_type": "stream",
     "text": [
      "Epoch [81/100], Step[469/469], d_loss: 1.2766, g_loss: 0.8330, D(x): 0.58, D(G(z)): 0.47\n",
      "running epoch number: 81\n"
     ]
    },
    {
     "name": "stderr",
     "output_type": "stream",
     "text": [
      "469it [00:23, 20.03it/s]\n"
     ]
    },
    {
     "name": "stdout",
     "output_type": "stream",
     "text": [
      "Epoch [82/100], Step[469/469], d_loss: 1.2674, g_loss: 0.9962, D(x): 0.54, D(G(z)): 0.40\n",
      "running epoch number: 82\n"
     ]
    },
    {
     "name": "stderr",
     "output_type": "stream",
     "text": [
      "469it [00:22, 20.58it/s]\n"
     ]
    },
    {
     "name": "stdout",
     "output_type": "stream",
     "text": [
      "Epoch [83/100], Step[469/469], d_loss: 1.2170, g_loss: 0.9545, D(x): 0.58, D(G(z)): 0.43\n",
      "running epoch number: 83\n"
     ]
    },
    {
     "name": "stderr",
     "output_type": "stream",
     "text": [
      "469it [00:23, 20.39it/s]\n"
     ]
    },
    {
     "name": "stdout",
     "output_type": "stream",
     "text": [
      "Epoch [84/100], Step[469/469], d_loss: 1.3557, g_loss: 0.9636, D(x): 0.53, D(G(z)): 0.45\n",
      "running epoch number: 84\n"
     ]
    },
    {
     "name": "stderr",
     "output_type": "stream",
     "text": [
      "469it [00:23, 19.89it/s]\n"
     ]
    },
    {
     "name": "stdout",
     "output_type": "stream",
     "text": [
      "Epoch [85/100], Step[469/469], d_loss: 1.3114, g_loss: 0.9189, D(x): 0.57, D(G(z)): 0.45\n",
      "running epoch number: 85\n"
     ]
    },
    {
     "name": "stderr",
     "output_type": "stream",
     "text": [
      "469it [00:23, 20.34it/s]\n"
     ]
    },
    {
     "name": "stdout",
     "output_type": "stream",
     "text": [
      "Epoch [86/100], Step[469/469], d_loss: 1.1792, g_loss: 1.0357, D(x): 0.55, D(G(z)): 0.39\n",
      "running epoch number: 86\n"
     ]
    },
    {
     "name": "stderr",
     "output_type": "stream",
     "text": [
      "469it [00:23, 19.70it/s]\n"
     ]
    },
    {
     "name": "stdout",
     "output_type": "stream",
     "text": [
      "Epoch [87/100], Step[469/469], d_loss: 1.3000, g_loss: 0.8432, D(x): 0.58, D(G(z)): 0.46\n",
      "running epoch number: 87\n"
     ]
    },
    {
     "name": "stderr",
     "output_type": "stream",
     "text": [
      "469it [00:23, 20.29it/s]\n"
     ]
    },
    {
     "name": "stdout",
     "output_type": "stream",
     "text": [
      "Epoch [88/100], Step[469/469], d_loss: 1.2972, g_loss: 0.9632, D(x): 0.52, D(G(z)): 0.41\n",
      "running epoch number: 88\n"
     ]
    },
    {
     "name": "stderr",
     "output_type": "stream",
     "text": [
      "469it [00:23, 20.30it/s]\n"
     ]
    },
    {
     "name": "stdout",
     "output_type": "stream",
     "text": [
      "Epoch [89/100], Step[469/469], d_loss: 1.3520, g_loss: 0.9451, D(x): 0.53, D(G(z)): 0.43\n",
      "running epoch number: 89\n"
     ]
    },
    {
     "name": "stderr",
     "output_type": "stream",
     "text": [
      "469it [00:23, 19.84it/s]\n"
     ]
    },
    {
     "name": "stdout",
     "output_type": "stream",
     "text": [
      "Epoch [90/100], Step[469/469], d_loss: 1.2187, g_loss: 0.8382, D(x): 0.57, D(G(z)): 0.42\n",
      "running epoch number: 90\n"
     ]
    },
    {
     "name": "stderr",
     "output_type": "stream",
     "text": [
      "469it [00:23, 20.22it/s]\n"
     ]
    },
    {
     "name": "stdout",
     "output_type": "stream",
     "text": [
      "Epoch [91/100], Step[469/469], d_loss: 1.2279, g_loss: 1.0428, D(x): 0.55, D(G(z)): 0.39\n",
      "running epoch number: 91\n"
     ]
    },
    {
     "name": "stderr",
     "output_type": "stream",
     "text": [
      "469it [00:23, 20.00it/s]\n"
     ]
    },
    {
     "name": "stdout",
     "output_type": "stream",
     "text": [
      "Epoch [92/100], Step[469/469], d_loss: 1.2458, g_loss: 0.8972, D(x): 0.59, D(G(z)): 0.45\n",
      "running epoch number: 92\n"
     ]
    },
    {
     "name": "stderr",
     "output_type": "stream",
     "text": [
      "469it [00:23, 20.29it/s]\n"
     ]
    },
    {
     "name": "stdout",
     "output_type": "stream",
     "text": [
      "Epoch [93/100], Step[469/469], d_loss: 1.1792, g_loss: 0.9059, D(x): 0.58, D(G(z)): 0.42\n",
      "running epoch number: 93\n"
     ]
    },
    {
     "name": "stderr",
     "output_type": "stream",
     "text": [
      "469it [00:23, 20.34it/s]\n"
     ]
    },
    {
     "name": "stdout",
     "output_type": "stream",
     "text": [
      "Epoch [94/100], Step[469/469], d_loss: 1.1738, g_loss: 1.0549, D(x): 0.57, D(G(z)): 0.38\n",
      "running epoch number: 94\n"
     ]
    },
    {
     "name": "stderr",
     "output_type": "stream",
     "text": [
      "469it [00:23, 20.20it/s]\n"
     ]
    },
    {
     "name": "stdout",
     "output_type": "stream",
     "text": [
      "Epoch [95/100], Step[469/469], d_loss: 1.3540, g_loss: 0.9956, D(x): 0.52, D(G(z)): 0.43\n",
      "running epoch number: 95\n"
     ]
    },
    {
     "name": "stderr",
     "output_type": "stream",
     "text": [
      "469it [00:22, 20.62it/s]\n"
     ]
    },
    {
     "name": "stdout",
     "output_type": "stream",
     "text": [
      "Epoch [96/100], Step[469/469], d_loss: 1.1614, g_loss: 1.0085, D(x): 0.56, D(G(z)): 0.39\n",
      "running epoch number: 96\n"
     ]
    },
    {
     "name": "stderr",
     "output_type": "stream",
     "text": [
      "469it [00:23, 20.19it/s]\n"
     ]
    },
    {
     "name": "stdout",
     "output_type": "stream",
     "text": [
      "Epoch [97/100], Step[469/469], d_loss: 1.1890, g_loss: 0.9369, D(x): 0.61, D(G(z)): 0.45\n",
      "running epoch number: 97\n"
     ]
    },
    {
     "name": "stderr",
     "output_type": "stream",
     "text": [
      "469it [00:23, 20.30it/s]\n"
     ]
    },
    {
     "name": "stdout",
     "output_type": "stream",
     "text": [
      "Epoch [98/100], Step[469/469], d_loss: 1.1850, g_loss: 0.9355, D(x): 0.59, D(G(z)): 0.42\n",
      "running epoch number: 98\n"
     ]
    },
    {
     "name": "stderr",
     "output_type": "stream",
     "text": [
      "469it [00:22, 20.58it/s]\n"
     ]
    },
    {
     "name": "stdout",
     "output_type": "stream",
     "text": [
      "Epoch [99/100], Step[469/469], d_loss: 1.2357, g_loss: 0.9260, D(x): 0.58, D(G(z)): 0.43\n",
      "running epoch number: 99\n"
     ]
    },
    {
     "name": "stderr",
     "output_type": "stream",
     "text": [
      "469it [00:23, 20.24it/s]\n"
     ]
    },
    {
     "name": "stdout",
     "output_type": "stream",
     "text": [
      "Epoch [100/100], Step[469/469], d_loss: 1.2022, g_loss: 1.0964, D(x): 0.58, D(G(z)): 0.41\n"
     ]
    },
    {
     "data": {
      "image/png": "[encoded data removed]",
      "text/plain": [
       "<Figure size 500x500 with 1 Axes>"
      ]
     },
     "metadata": {},
     "output_type": "display_data"
    },
    {
     "name": "stderr",
     "output_type": "stream",
     "text": [
      "/var/tmp/ipykernel_214395/2031151001.py:73: ExperimentalWarning: upload_artifact is experimental (supported from v3.3.0). The interface can change in the future.\n",
      "  artifact_id = upload_artifact(trial, img_path, artifact_store)\n"
     ]
    },
    {
     "name": "stdout",
     "output_type": "stream",
     "text": [
      "running trial number: 1\n",
      "Batch Size: 64\n",
      "Learning Rate: 2.311456554956886e-05\n",
      "Optimizer: Adam\n",
      "running epoch number: 0\n"
     ]
    },
    {
     "name": "stderr",
     "output_type": "stream",
     "text": [
      "938it [00:32, 28.55it/s]\n"
     ]
    },
    {
     "name": "stdout",
     "output_type": "stream",
     "text": [
      "Epoch [1/100], Step[938/938], d_loss: 0.2373, g_loss: 2.1324, D(x): 0.95, D(G(z)): 0.16\n",
      "running epoch number: 1\n"
     ]
    },
    {
     "name": "stderr",
     "output_type": "stream",
     "text": [
      "938it [00:33, 28.35it/s]\n"
     ]
    },
    {
     "name": "stdout",
     "output_type": "stream",
     "text": [
      "Epoch [2/100], Step[938/938], d_loss: 0.0753, g_loss: 5.0352, D(x): 0.98, D(G(z)): 0.05\n",
      "running epoch number: 2\n"
     ]
    },
    {
     "name": "stderr",
     "output_type": "stream",
     "text": [
      "938it [00:33, 28.13it/s]\n"
     ]
    },
    {
     "name": "stdout",
     "output_type": "stream",
     "text": [
      "Epoch [3/100], Step[938/938], d_loss: 0.0411, g_loss: 5.4931, D(x): 0.98, D(G(z)): 0.02\n",
      "running epoch number: 3\n"
     ]
    },
    {
     "name": "stderr",
     "output_type": "stream",
     "text": [
      "938it [00:33, 28.15it/s]\n"
     ]
    },
    {
     "name": "stdout",
     "output_type": "stream",
     "text": [
      "Epoch [4/100], Step[938/938], d_loss: 0.0217, g_loss: 6.2716, D(x): 0.99, D(G(z)): 0.01\n",
      "running epoch number: 4\n"
     ]
    },
    {
     "name": "stderr",
     "output_type": "stream",
     "text": [
      "938it [00:33, 28.00it/s]\n"
     ]
    },
    {
     "name": "stdout",
     "output_type": "stream",
     "text": [
      "Epoch [5/100], Step[938/938], d_loss: 0.0113, g_loss: 6.2774, D(x): 0.99, D(G(z)): 0.01\n",
      "running epoch number: 5\n"
     ]
    },
    {
     "name": "stderr",
     "output_type": "stream",
     "text": [
      "938it [00:33, 28.23it/s]\n"
     ]
    },
    {
     "name": "stdout",
     "output_type": "stream",
     "text": [
      "Epoch [6/100], Step[938/938], d_loss: 0.0052, g_loss: 6.7390, D(x): 1.00, D(G(z)): 0.00\n",
      "running epoch number: 6\n"
     ]
    },
    {
     "name": "stderr",
     "output_type": "stream",
     "text": [
      "938it [00:33, 28.20it/s]\n"
     ]
    },
    {
     "name": "stdout",
     "output_type": "stream",
     "text": [
      "Epoch [7/100], Step[938/938], d_loss: 0.0063, g_loss: 7.8705, D(x): 1.00, D(G(z)): 0.01\n",
      "running epoch number: 7\n"
     ]
    },
    {
     "name": "stderr",
     "output_type": "stream",
     "text": [
      "938it [00:32, 28.67it/s]\n"
     ]
    },
    {
     "name": "stdout",
     "output_type": "stream",
     "text": [
      "Epoch [8/100], Step[938/938], d_loss: 0.0213, g_loss: 6.5472, D(x): 0.99, D(G(z)): 0.01\n",
      "running epoch number: 8\n"
     ]
    },
    {
     "name": "stderr",
     "output_type": "stream",
     "text": [
      "938it [00:33, 28.02it/s]\n"
     ]
    },
    {
     "name": "stdout",
     "output_type": "stream",
     "text": [
      "Epoch [9/100], Step[938/938], d_loss: 0.0010, g_loss: 8.3724, D(x): 1.00, D(G(z)): 0.00\n",
      "running epoch number: 9\n"
     ]
    },
    {
     "name": "stderr",
     "output_type": "stream",
     "text": [
      "938it [00:33, 27.75it/s]\n"
     ]
    },
    {
     "name": "stdout",
     "output_type": "stream",
     "text": [
      "Epoch [10/100], Step[938/938], d_loss: 0.0439, g_loss: 10.9843, D(x): 0.98, D(G(z)): 0.00\n",
      "running epoch number: 10\n"
     ]
    },
    {
     "name": "stderr",
     "output_type": "stream",
     "text": [
      "938it [00:33, 27.80it/s]\n"
     ]
    },
    {
     "name": "stdout",
     "output_type": "stream",
     "text": [
      "Epoch [11/100], Step[938/938], d_loss: 0.3665, g_loss: 9.9016, D(x): 0.97, D(G(z)): 0.00\n",
      "running epoch number: 11\n"
     ]
    },
    {
     "name": "stderr",
     "output_type": "stream",
     "text": [
      "938it [00:33, 28.38it/s]\n"
     ]
    },
    {
     "name": "stdout",
     "output_type": "stream",
     "text": [
      "Epoch [12/100], Step[938/938], d_loss: 0.1264, g_loss: 13.1757, D(x): 0.97, D(G(z)): 0.00\n",
      "running epoch number: 12\n"
     ]
    },
    {
     "name": "stderr",
     "output_type": "stream",
     "text": [
      "938it [00:33, 27.90it/s]\n"
     ]
    },
    {
     "name": "stdout",
     "output_type": "stream",
     "text": [
      "Epoch [13/100], Step[938/938], d_loss: 0.0058, g_loss: 8.7305, D(x): 1.00, D(G(z)): 0.01\n",
      "running epoch number: 13\n"
     ]
    },
    {
     "name": "stderr",
     "output_type": "stream",
     "text": [
      "938it [00:33, 28.03it/s]\n"
     ]
    },
    {
     "name": "stdout",
     "output_type": "stream",
     "text": [
      "Epoch [14/100], Step[938/938], d_loss: 0.0015, g_loss: 9.8615, D(x): 1.00, D(G(z)): 0.00\n",
      "running epoch number: 14\n"
     ]
    },
    {
     "name": "stderr",
     "output_type": "stream",
     "text": [
      "938it [00:33, 27.83it/s]\n"
     ]
    },
    {
     "name": "stdout",
     "output_type": "stream",
     "text": [
      "Epoch [15/100], Step[938/938], d_loss: 0.0034, g_loss: 10.5353, D(x): 1.00, D(G(z)): 0.00\n",
      "running epoch number: 15\n"
     ]
    },
    {
     "name": "stderr",
     "output_type": "stream",
     "text": [
      "938it [00:35, 26.76it/s]\n"
     ]
    },
    {
     "name": "stdout",
     "output_type": "stream",
     "text": [
      "Epoch [16/100], Step[938/938], d_loss: 0.0087, g_loss: 6.3275, D(x): 1.00, D(G(z)): 0.01\n",
      "running epoch number: 16\n"
     ]
    },
    {
     "name": "stderr",
     "output_type": "stream",
     "text": [
      "938it [00:35, 26.61it/s]\n"
     ]
    },
    {
     "name": "stdout",
     "output_type": "stream",
     "text": [
      "Epoch [17/100], Step[938/938], d_loss: 0.0029, g_loss: 8.9028, D(x): 1.00, D(G(z)): 0.00\n",
      "running epoch number: 17\n"
     ]
    },
    {
     "name": "stderr",
     "output_type": "stream",
     "text": [
      "938it [00:33, 28.21it/s]\n"
     ]
    },
    {
     "name": "stdout",
     "output_type": "stream",
     "text": [
      "Epoch [18/100], Step[938/938], d_loss: 0.0006, g_loss: 11.6030, D(x): 1.00, D(G(z)): 0.00\n",
      "running epoch number: 18\n"
     ]
    },
    {
     "name": "stderr",
     "output_type": "stream",
     "text": [
      "938it [00:32, 28.47it/s]\n"
     ]
    },
    {
     "name": "stdout",
     "output_type": "stream",
     "text": [
      "Epoch [19/100], Step[938/938], d_loss: 0.0014, g_loss: 9.5215, D(x): 1.00, D(G(z)): 0.00\n",
      "running epoch number: 19\n"
     ]
    },
    {
     "name": "stderr",
     "output_type": "stream",
     "text": [
      "938it [00:33, 27.81it/s]\n"
     ]
    },
    {
     "name": "stdout",
     "output_type": "stream",
     "text": [
      "Epoch [20/100], Step[938/938], d_loss: 0.0026, g_loss: 9.3374, D(x): 1.00, D(G(z)): 0.00\n",
      "running epoch number: 20\n"
     ]
    },
    {
     "name": "stderr",
     "output_type": "stream",
     "text": [
      "938it [00:32, 28.53it/s]\n"
     ]
    },
    {
     "name": "stdout",
     "output_type": "stream",
     "text": [
      "Epoch [21/100], Step[938/938], d_loss: 0.0004, g_loss: 13.0762, D(x): 1.00, D(G(z)): 0.00\n",
      "running epoch number: 21\n"
     ]
    },
    {
     "name": "stderr",
     "output_type": "stream",
     "text": [
      "938it [00:33, 27.85it/s]\n"
     ]
    },
    {
     "name": "stdout",
     "output_type": "stream",
     "text": [
      "Epoch [22/100], Step[938/938], d_loss: 0.0009, g_loss: 10.3469, D(x): 1.00, D(G(z)): 0.00\n",
      "running epoch number: 22\n"
     ]
    },
    {
     "name": "stderr",
     "output_type": "stream",
     "text": [
      "938it [00:33, 27.66it/s]\n"
     ]
    },
    {
     "name": "stdout",
     "output_type": "stream",
     "text": [
      "Epoch [23/100], Step[938/938], d_loss: 0.0013, g_loss: 11.8971, D(x): 1.00, D(G(z)): 0.00\n",
      "running epoch number: 23\n"
     ]
    },
    {
     "name": "stderr",
     "output_type": "stream",
     "text": [
      "938it [00:33, 28.20it/s]\n"
     ]
    },
    {
     "name": "stdout",
     "output_type": "stream",
     "text": [
      "Epoch [24/100], Step[938/938], d_loss: 0.0001, g_loss: 11.3874, D(x): 1.00, D(G(z)): 0.00\n",
      "running epoch number: 24\n"
     ]
    },
    {
     "name": "stderr",
     "output_type": "stream",
     "text": [
      "938it [00:33, 28.07it/s]\n"
     ]
    },
    {
     "name": "stdout",
     "output_type": "stream",
     "text": [
      "Epoch [25/100], Step[938/938], d_loss: 0.0015, g_loss: 10.5387, D(x): 1.00, D(G(z)): 0.00\n",
      "running epoch number: 25\n"
     ]
    },
    {
     "name": "stderr",
     "output_type": "stream",
     "text": [
      "938it [00:33, 27.90it/s]\n"
     ]
    },
    {
     "name": "stdout",
     "output_type": "stream",
     "text": [
      "Epoch [26/100], Step[938/938], d_loss: 0.0001, g_loss: 15.2477, D(x): 1.00, D(G(z)): 0.00\n",
      "running epoch number: 26\n"
     ]
    },
    {
     "name": "stderr",
     "output_type": "stream",
     "text": [
      "938it [00:33, 28.04it/s]\n"
     ]
    },
    {
     "name": "stdout",
     "output_type": "stream",
     "text": [
      "Epoch [27/100], Step[938/938], d_loss: 0.0362, g_loss: 9.9617, D(x): 0.98, D(G(z)): 0.00\n",
      "running epoch number: 27\n"
     ]
    },
    {
     "name": "stderr",
     "output_type": "stream",
     "text": [
      "938it [00:32, 28.45it/s]\n"
     ]
    },
    {
     "name": "stdout",
     "output_type": "stream",
     "text": [
      "Epoch [28/100], Step[938/938], d_loss: 0.0107, g_loss: 10.6185, D(x): 0.99, D(G(z)): 0.00\n",
      "running epoch number: 28\n"
     ]
    },
    {
     "name": "stderr",
     "output_type": "stream",
     "text": [
      "938it [00:33, 28.19it/s]\n"
     ]
    },
    {
     "name": "stdout",
     "output_type": "stream",
     "text": [
      "Epoch [29/100], Step[938/938], d_loss: 0.0003, g_loss: 17.3992, D(x): 1.00, D(G(z)): 0.00\n",
      "running epoch number: 29\n"
     ]
    },
    {
     "name": "stderr",
     "output_type": "stream",
     "text": [
      "938it [00:33, 28.26it/s]\n"
     ]
    },
    {
     "name": "stdout",
     "output_type": "stream",
     "text": [
      "Epoch [30/100], Step[938/938], d_loss: 0.0049, g_loss: 9.7262, D(x): 1.00, D(G(z)): 0.00\n",
      "running epoch number: 30\n"
     ]
    },
    {
     "name": "stderr",
     "output_type": "stream",
     "text": [
      "938it [00:33, 28.12it/s]\n"
     ]
    },
    {
     "name": "stdout",
     "output_type": "stream",
     "text": [
      "Epoch [31/100], Step[938/938], d_loss: 0.0259, g_loss: 10.2618, D(x): 1.00, D(G(z)): 0.02\n",
      "running epoch number: 31\n"
     ]
    },
    {
     "name": "stderr",
     "output_type": "stream",
     "text": [
      "938it [00:33, 28.32it/s]\n"
     ]
    },
    {
     "name": "stdout",
     "output_type": "stream",
     "text": [
      "Epoch [32/100], Step[938/938], d_loss: 0.0045, g_loss: 23.4196, D(x): 1.00, D(G(z)): 0.00\n",
      "running epoch number: 32\n"
     ]
    },
    {
     "name": "stderr",
     "output_type": "stream",
     "text": [
      "938it [00:33, 28.09it/s]\n"
     ]
    },
    {
     "name": "stdout",
     "output_type": "stream",
     "text": [
      "Epoch [33/100], Step[938/938], d_loss: 0.0049, g_loss: 12.2261, D(x): 1.00, D(G(z)): 0.00\n",
      "running epoch number: 33\n"
     ]
    },
    {
     "name": "stderr",
     "output_type": "stream",
     "text": [
      "938it [00:33, 27.84it/s]\n"
     ]
    },
    {
     "name": "stdout",
     "output_type": "stream",
     "text": [
      "Epoch [34/100], Step[938/938], d_loss: 0.0002, g_loss: 16.0079, D(x): 1.00, D(G(z)): 0.00\n",
      "running epoch number: 34\n"
     ]
    },
    {
     "name": "stderr",
     "output_type": "stream",
     "text": [
      "938it [00:33, 28.27it/s]\n"
     ]
    },
    {
     "name": "stdout",
     "output_type": "stream",
     "text": [
      "Epoch [35/100], Step[938/938], d_loss: 0.0008, g_loss: 11.6871, D(x): 1.00, D(G(z)): 0.00\n",
      "running epoch number: 35\n"
     ]
    },
    {
     "name": "stderr",
     "output_type": "stream",
     "text": [
      "938it [00:33, 27.86it/s]\n"
     ]
    },
    {
     "name": "stdout",
     "output_type": "stream",
     "text": [
      "Epoch [36/100], Step[938/938], d_loss: 0.0122, g_loss: 8.9186, D(x): 1.00, D(G(z)): 0.01\n",
      "running epoch number: 36\n"
     ]
    },
    {
     "name": "stderr",
     "output_type": "stream",
     "text": [
      "418it [00:14, 28.79it/s]"
     ]
    }
   ],
   "source": [
    "if __name__ == \"__main__\":\n",
    "    main()"
   ]
  },
  {
   "cell_type": "code",
   "execution_count": null,
   "metadata": {},
   "outputs": [],
   "source": []
  }
 ],
 "metadata": {
  "kernelspec": {
   "display_name": "optuna",
   "language": "python",
   "name": "python3"
  },
  "language_info": {
   "codemirror_mode": {
    "name": "ipython",
    "version": 3
   },
   "file_extension": ".py",
   "mimetype": "text/x-python",
   "name": "python",
   "nbconvert_exporter": "python",
   "pygments_lexer": "ipython3",
   "version": "3.9.18"
  },
  "orig_nbformat": 4,
  "vscode": {
   "interpreter": {
    "hash": "11ac6faa9248008d391a7540e44edcb95f152bb1f0fd3624523abee6a1a360c7"
   }
  }
 },
 "nbformat": 4,
 "nbformat_minor": 2
}
